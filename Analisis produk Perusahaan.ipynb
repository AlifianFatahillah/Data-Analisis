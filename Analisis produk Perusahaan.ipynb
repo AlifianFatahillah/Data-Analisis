{
 "cells": [
  {
   "cell_type": "code",
   "execution_count": 4,
   "metadata": {},
   "outputs": [],
   "source": [
    "import pandas as pd\n",
    "import numpy as np\n",
    "import matplotlib.pyplot as plt\n",
    "import plotly.express as px\n",
    "import seaborn as sns\n",
    "from jcopml.plot import plot_missing_value"
   ]
  },
  {
   "cell_type": "code",
   "execution_count": 5,
   "metadata": {},
   "outputs": [
    {
     "data": {
      "text/html": [
       "<div>\n",
       "<style scoped>\n",
       "    .dataframe tbody tr th:only-of-type {\n",
       "        vertical-align: middle;\n",
       "    }\n",
       "\n",
       "    .dataframe tbody tr th {\n",
       "        vertical-align: top;\n",
       "    }\n",
       "\n",
       "    .dataframe thead th {\n",
       "        text-align: right;\n",
       "    }\n",
       "</style>\n",
       "<table border=\"1\" class=\"dataframe\">\n",
       "  <thead>\n",
       "    <tr style=\"text-align: right;\">\n",
       "      <th></th>\n",
       "      <th>Date Of Sales</th>\n",
       "      <th>Invoice Number</th>\n",
       "      <th>Advertiser ID</th>\n",
       "      <th>Company Name</th>\n",
       "      <th>Invoice Account Manager</th>\n",
       "      <th>Team1</th>\n",
       "      <th>Product Package ID</th>\n",
       "      <th>Product Package Name</th>\n",
       "      <th>Product Service</th>\n",
       "      <th>Total Ordered Qty</th>\n",
       "      <th>Total Amt (Local Currency)</th>\n",
       "      <th>Paid/Free</th>\n",
       "    </tr>\n",
       "  </thead>\n",
       "  <tbody>\n",
       "    <tr>\n",
       "      <th>0</th>\n",
       "      <td>2017-01-02 08:14:02</td>\n",
       "      <td>IDMDINV/170000379</td>\n",
       "      <td>60329</td>\n",
       "      <td>83830-AAA</td>\n",
       "      <td>SUSA</td>\n",
       "      <td>BR</td>\n",
       "      <td>IDPB-IDR-PROMO/126</td>\n",
       "      <td>126ID-ABCDE</td>\n",
       "      <td>ABCGDPNF-1111</td>\n",
       "      <td>2</td>\n",
       "      <td>600000</td>\n",
       "      <td>Paid</td>\n",
       "    </tr>\n",
       "    <tr>\n",
       "      <th>1</th>\n",
       "      <td>2017-01-02 08:38:49</td>\n",
       "      <td>IDJKINV/170039548</td>\n",
       "      <td>25404</td>\n",
       "      <td>434985-AAA</td>\n",
       "      <td>JOHO</td>\n",
       "      <td>BR</td>\n",
       "      <td>IDPB-IDR-I/1248</td>\n",
       "      <td>248ID-ABCDE</td>\n",
       "      <td>ABCGDPNF-1111</td>\n",
       "      <td>1</td>\n",
       "      <td>1500000</td>\n",
       "      <td>Paid</td>\n",
       "    </tr>\n",
       "    <tr>\n",
       "      <th>2</th>\n",
       "      <td>2017-01-02 14:53:36</td>\n",
       "      <td>IDJKINV/170039549</td>\n",
       "      <td>51232</td>\n",
       "      <td>590362-AAA</td>\n",
       "      <td>YOVI</td>\n",
       "      <td>C3</td>\n",
       "      <td>IDPB-IDR-I/1198</td>\n",
       "      <td>198ID-ABCDE</td>\n",
       "      <td>ABCGDPNF-1111</td>\n",
       "      <td>1</td>\n",
       "      <td>650000</td>\n",
       "      <td>Paid</td>\n",
       "    </tr>\n",
       "    <tr>\n",
       "      <th>3</th>\n",
       "      <td>2017-01-02 14:58:58</td>\n",
       "      <td>IDJKINV/170039550</td>\n",
       "      <td>17942</td>\n",
       "      <td>50412-AAA</td>\n",
       "      <td>YOVI</td>\n",
       "      <td>C3</td>\n",
       "      <td>IDPB-IDR-I/1200</td>\n",
       "      <td>200ID-ABCDE</td>\n",
       "      <td>ABCGDPNF-1111</td>\n",
       "      <td>5</td>\n",
       "      <td>1950000</td>\n",
       "      <td>Paid</td>\n",
       "    </tr>\n",
       "    <tr>\n",
       "      <th>4</th>\n",
       "      <td>2017-01-03 10:05:41</td>\n",
       "      <td>IDJKINV/170039551</td>\n",
       "      <td>54894</td>\n",
       "      <td>561326-AAA</td>\n",
       "      <td>MARA</td>\n",
       "      <td>BR</td>\n",
       "      <td>IDPB-IDR-I/1199</td>\n",
       "      <td>199ID-ABCDE</td>\n",
       "      <td>ABCGDPNF-1111</td>\n",
       "      <td>2</td>\n",
       "      <td>900000</td>\n",
       "      <td>Paid</td>\n",
       "    </tr>\n",
       "    <tr>\n",
       "      <th>...</th>\n",
       "      <td>...</td>\n",
       "      <td>...</td>\n",
       "      <td>...</td>\n",
       "      <td>...</td>\n",
       "      <td>...</td>\n",
       "      <td>...</td>\n",
       "      <td>...</td>\n",
       "      <td>...</td>\n",
       "      <td>...</td>\n",
       "      <td>...</td>\n",
       "      <td>...</td>\n",
       "      <td>...</td>\n",
       "    </tr>\n",
       "    <tr>\n",
       "      <th>759</th>\n",
       "      <td>2017-01-11 18:26:35</td>\n",
       "      <td>IDJKINV/170040111</td>\n",
       "      <td>294</td>\n",
       "      <td>73822-AAA</td>\n",
       "      <td>PRAY</td>\n",
       "      <td>FS</td>\n",
       "      <td>IDPB-IDR-I/1264</td>\n",
       "      <td>264ID-ABCDE</td>\n",
       "      <td>ABCGDPNF-1111</td>\n",
       "      <td>100</td>\n",
       "      <td>10541000</td>\n",
       "      <td>Paid</td>\n",
       "    </tr>\n",
       "    <tr>\n",
       "      <th>760</th>\n",
       "      <td>2017-01-11 18:26:35</td>\n",
       "      <td>IDJKINV/170040111</td>\n",
       "      <td>294</td>\n",
       "      <td>73822-AAA</td>\n",
       "      <td>PRAY</td>\n",
       "      <td>FS</td>\n",
       "      <td>IDPB-IDR-I/1264</td>\n",
       "      <td>264ID-ABCDE</td>\n",
       "      <td>DMFAOJFNL-3333</td>\n",
       "      <td>50</td>\n",
       "      <td>2200000</td>\n",
       "      <td>Paid</td>\n",
       "    </tr>\n",
       "    <tr>\n",
       "      <th>761</th>\n",
       "      <td>2017-01-11 18:26:35</td>\n",
       "      <td>IDJKINV/170040111</td>\n",
       "      <td>294</td>\n",
       "      <td>73822-AAA</td>\n",
       "      <td>PRAY</td>\n",
       "      <td>FS</td>\n",
       "      <td>IDPB-IDR-I/1264</td>\n",
       "      <td>264ID-ABCDE</td>\n",
       "      <td>HFKBPNODB-2222</td>\n",
       "      <td>30</td>\n",
       "      <td>1245000</td>\n",
       "      <td>Paid</td>\n",
       "    </tr>\n",
       "    <tr>\n",
       "      <th>762</th>\n",
       "      <td>2017-01-11 18:37:49</td>\n",
       "      <td>IDJKINV/170040112</td>\n",
       "      <td>15965</td>\n",
       "      <td>156516-AAA</td>\n",
       "      <td>SHEY</td>\n",
       "      <td>FS</td>\n",
       "      <td>IDPB-IDR-PROMO/140</td>\n",
       "      <td>140ID-ABCDE</td>\n",
       "      <td>ABCGDPNF-1111</td>\n",
       "      <td>30</td>\n",
       "      <td>4689500</td>\n",
       "      <td>Paid</td>\n",
       "    </tr>\n",
       "    <tr>\n",
       "      <th>763</th>\n",
       "      <td>2017-01-11 18:37:49</td>\n",
       "      <td>IDJKINV/170040112</td>\n",
       "      <td>15965</td>\n",
       "      <td>156516-AAA</td>\n",
       "      <td>SHEY</td>\n",
       "      <td>FS</td>\n",
       "      <td>IDPB-IDR-PROMO/140</td>\n",
       "      <td>140ID-ABCDE</td>\n",
       "      <td>HFKBPNODB-2222</td>\n",
       "      <td>10</td>\n",
       "      <td>415000</td>\n",
       "      <td>Paid</td>\n",
       "    </tr>\n",
       "  </tbody>\n",
       "</table>\n",
       "<p>764 rows × 12 columns</p>\n",
       "</div>"
      ],
      "text/plain": [
       "          Date Of Sales     Invoice Number  Advertiser ID Company Name  \\\n",
       "0   2017-01-02 08:14:02  IDMDINV/170000379          60329    83830-AAA   \n",
       "1   2017-01-02 08:38:49  IDJKINV/170039548          25404   434985-AAA   \n",
       "2   2017-01-02 14:53:36  IDJKINV/170039549          51232   590362-AAA   \n",
       "3   2017-01-02 14:58:58  IDJKINV/170039550          17942    50412-AAA   \n",
       "4   2017-01-03 10:05:41  IDJKINV/170039551          54894   561326-AAA   \n",
       "..                  ...                ...            ...          ...   \n",
       "759 2017-01-11 18:26:35  IDJKINV/170040111            294    73822-AAA   \n",
       "760 2017-01-11 18:26:35  IDJKINV/170040111            294    73822-AAA   \n",
       "761 2017-01-11 18:26:35  IDJKINV/170040111            294    73822-AAA   \n",
       "762 2017-01-11 18:37:49  IDJKINV/170040112          15965   156516-AAA   \n",
       "763 2017-01-11 18:37:49  IDJKINV/170040112          15965   156516-AAA   \n",
       "\n",
       "    Invoice Account Manager Team1  Product Package ID Product Package Name  \\\n",
       "0                      SUSA    BR  IDPB-IDR-PROMO/126          126ID-ABCDE   \n",
       "1                      JOHO    BR     IDPB-IDR-I/1248          248ID-ABCDE   \n",
       "2                      YOVI    C3     IDPB-IDR-I/1198          198ID-ABCDE   \n",
       "3                      YOVI    C3     IDPB-IDR-I/1200          200ID-ABCDE   \n",
       "4                      MARA    BR     IDPB-IDR-I/1199          199ID-ABCDE   \n",
       "..                      ...   ...                 ...                  ...   \n",
       "759                    PRAY    FS     IDPB-IDR-I/1264          264ID-ABCDE   \n",
       "760                    PRAY    FS     IDPB-IDR-I/1264          264ID-ABCDE   \n",
       "761                    PRAY    FS     IDPB-IDR-I/1264          264ID-ABCDE   \n",
       "762                    SHEY    FS  IDPB-IDR-PROMO/140          140ID-ABCDE   \n",
       "763                    SHEY    FS  IDPB-IDR-PROMO/140          140ID-ABCDE   \n",
       "\n",
       "    Product Service  Total Ordered Qty  Total Amt (Local Currency) Paid/Free  \n",
       "0     ABCGDPNF-1111                  2                      600000      Paid  \n",
       "1     ABCGDPNF-1111                  1                     1500000      Paid  \n",
       "2     ABCGDPNF-1111                  1                      650000      Paid  \n",
       "3     ABCGDPNF-1111                  5                     1950000      Paid  \n",
       "4     ABCGDPNF-1111                  2                      900000      Paid  \n",
       "..              ...                ...                         ...       ...  \n",
       "759   ABCGDPNF-1111                100                    10541000      Paid  \n",
       "760  DMFAOJFNL-3333                 50                     2200000      Paid  \n",
       "761  HFKBPNODB-2222                 30                     1245000      Paid  \n",
       "762   ABCGDPNF-1111                 30                     4689500      Paid  \n",
       "763  HFKBPNODB-2222                 10                      415000      Paid  \n",
       "\n",
       "[764 rows x 12 columns]"
      ]
     },
     "execution_count": 5,
     "metadata": {},
     "output_type": "execute_result"
    }
   ],
   "source": [
    "df = pd.read_excel(r\"C:\\Users\\Asani\\Downloads\\Data Produk Perusahaan.xlsx\")\n",
    "\n",
    "df"
   ]
  },
  {
   "cell_type": "code",
   "execution_count": 6,
   "metadata": {},
   "outputs": [],
   "source": [
    "df['Date Of Sales']  = pd.to_datetime(df['Date Of Sales']).dt.date"
   ]
  },
  {
   "cell_type": "code",
   "execution_count": 7,
   "metadata": {},
   "outputs": [
    {
     "data": {
      "text/html": [
       "<div>\n",
       "<style scoped>\n",
       "    .dataframe tbody tr th:only-of-type {\n",
       "        vertical-align: middle;\n",
       "    }\n",
       "\n",
       "    .dataframe tbody tr th {\n",
       "        vertical-align: top;\n",
       "    }\n",
       "\n",
       "    .dataframe thead th {\n",
       "        text-align: right;\n",
       "    }\n",
       "</style>\n",
       "<table border=\"1\" class=\"dataframe\">\n",
       "  <thead>\n",
       "    <tr style=\"text-align: right;\">\n",
       "      <th></th>\n",
       "      <th>Date Of Sales</th>\n",
       "      <th>Invoice Number</th>\n",
       "      <th>Advertiser ID</th>\n",
       "      <th>Company Name</th>\n",
       "      <th>Invoice Account Manager</th>\n",
       "      <th>Team1</th>\n",
       "      <th>Product Package ID</th>\n",
       "      <th>Product Package Name</th>\n",
       "      <th>Product Service</th>\n",
       "      <th>Total Ordered Qty</th>\n",
       "      <th>Total Amt (Local Currency)</th>\n",
       "      <th>Paid/Free</th>\n",
       "    </tr>\n",
       "  </thead>\n",
       "  <tbody>\n",
       "    <tr>\n",
       "      <th>0</th>\n",
       "      <td>2017-01-02</td>\n",
       "      <td>IDMDINV/170000379</td>\n",
       "      <td>60329</td>\n",
       "      <td>83830-AAA</td>\n",
       "      <td>SUSA</td>\n",
       "      <td>BR</td>\n",
       "      <td>IDPB-IDR-PROMO/126</td>\n",
       "      <td>126ID-ABCDE</td>\n",
       "      <td>ABCGDPNF-1111</td>\n",
       "      <td>2</td>\n",
       "      <td>600000</td>\n",
       "      <td>Paid</td>\n",
       "    </tr>\n",
       "    <tr>\n",
       "      <th>1</th>\n",
       "      <td>2017-01-02</td>\n",
       "      <td>IDJKINV/170039548</td>\n",
       "      <td>25404</td>\n",
       "      <td>434985-AAA</td>\n",
       "      <td>JOHO</td>\n",
       "      <td>BR</td>\n",
       "      <td>IDPB-IDR-I/1248</td>\n",
       "      <td>248ID-ABCDE</td>\n",
       "      <td>ABCGDPNF-1111</td>\n",
       "      <td>1</td>\n",
       "      <td>1500000</td>\n",
       "      <td>Paid</td>\n",
       "    </tr>\n",
       "    <tr>\n",
       "      <th>2</th>\n",
       "      <td>2017-01-02</td>\n",
       "      <td>IDJKINV/170039549</td>\n",
       "      <td>51232</td>\n",
       "      <td>590362-AAA</td>\n",
       "      <td>YOVI</td>\n",
       "      <td>C3</td>\n",
       "      <td>IDPB-IDR-I/1198</td>\n",
       "      <td>198ID-ABCDE</td>\n",
       "      <td>ABCGDPNF-1111</td>\n",
       "      <td>1</td>\n",
       "      <td>650000</td>\n",
       "      <td>Paid</td>\n",
       "    </tr>\n",
       "    <tr>\n",
       "      <th>3</th>\n",
       "      <td>2017-01-02</td>\n",
       "      <td>IDJKINV/170039550</td>\n",
       "      <td>17942</td>\n",
       "      <td>50412-AAA</td>\n",
       "      <td>YOVI</td>\n",
       "      <td>C3</td>\n",
       "      <td>IDPB-IDR-I/1200</td>\n",
       "      <td>200ID-ABCDE</td>\n",
       "      <td>ABCGDPNF-1111</td>\n",
       "      <td>5</td>\n",
       "      <td>1950000</td>\n",
       "      <td>Paid</td>\n",
       "    </tr>\n",
       "    <tr>\n",
       "      <th>4</th>\n",
       "      <td>2017-01-03</td>\n",
       "      <td>IDJKINV/170039551</td>\n",
       "      <td>54894</td>\n",
       "      <td>561326-AAA</td>\n",
       "      <td>MARA</td>\n",
       "      <td>BR</td>\n",
       "      <td>IDPB-IDR-I/1199</td>\n",
       "      <td>199ID-ABCDE</td>\n",
       "      <td>ABCGDPNF-1111</td>\n",
       "      <td>2</td>\n",
       "      <td>900000</td>\n",
       "      <td>Paid</td>\n",
       "    </tr>\n",
       "    <tr>\n",
       "      <th>...</th>\n",
       "      <td>...</td>\n",
       "      <td>...</td>\n",
       "      <td>...</td>\n",
       "      <td>...</td>\n",
       "      <td>...</td>\n",
       "      <td>...</td>\n",
       "      <td>...</td>\n",
       "      <td>...</td>\n",
       "      <td>...</td>\n",
       "      <td>...</td>\n",
       "      <td>...</td>\n",
       "      <td>...</td>\n",
       "    </tr>\n",
       "    <tr>\n",
       "      <th>759</th>\n",
       "      <td>2017-01-11</td>\n",
       "      <td>IDJKINV/170040111</td>\n",
       "      <td>294</td>\n",
       "      <td>73822-AAA</td>\n",
       "      <td>PRAY</td>\n",
       "      <td>FS</td>\n",
       "      <td>IDPB-IDR-I/1264</td>\n",
       "      <td>264ID-ABCDE</td>\n",
       "      <td>ABCGDPNF-1111</td>\n",
       "      <td>100</td>\n",
       "      <td>10541000</td>\n",
       "      <td>Paid</td>\n",
       "    </tr>\n",
       "    <tr>\n",
       "      <th>760</th>\n",
       "      <td>2017-01-11</td>\n",
       "      <td>IDJKINV/170040111</td>\n",
       "      <td>294</td>\n",
       "      <td>73822-AAA</td>\n",
       "      <td>PRAY</td>\n",
       "      <td>FS</td>\n",
       "      <td>IDPB-IDR-I/1264</td>\n",
       "      <td>264ID-ABCDE</td>\n",
       "      <td>DMFAOJFNL-3333</td>\n",
       "      <td>50</td>\n",
       "      <td>2200000</td>\n",
       "      <td>Paid</td>\n",
       "    </tr>\n",
       "    <tr>\n",
       "      <th>761</th>\n",
       "      <td>2017-01-11</td>\n",
       "      <td>IDJKINV/170040111</td>\n",
       "      <td>294</td>\n",
       "      <td>73822-AAA</td>\n",
       "      <td>PRAY</td>\n",
       "      <td>FS</td>\n",
       "      <td>IDPB-IDR-I/1264</td>\n",
       "      <td>264ID-ABCDE</td>\n",
       "      <td>HFKBPNODB-2222</td>\n",
       "      <td>30</td>\n",
       "      <td>1245000</td>\n",
       "      <td>Paid</td>\n",
       "    </tr>\n",
       "    <tr>\n",
       "      <th>762</th>\n",
       "      <td>2017-01-11</td>\n",
       "      <td>IDJKINV/170040112</td>\n",
       "      <td>15965</td>\n",
       "      <td>156516-AAA</td>\n",
       "      <td>SHEY</td>\n",
       "      <td>FS</td>\n",
       "      <td>IDPB-IDR-PROMO/140</td>\n",
       "      <td>140ID-ABCDE</td>\n",
       "      <td>ABCGDPNF-1111</td>\n",
       "      <td>30</td>\n",
       "      <td>4689500</td>\n",
       "      <td>Paid</td>\n",
       "    </tr>\n",
       "    <tr>\n",
       "      <th>763</th>\n",
       "      <td>2017-01-11</td>\n",
       "      <td>IDJKINV/170040112</td>\n",
       "      <td>15965</td>\n",
       "      <td>156516-AAA</td>\n",
       "      <td>SHEY</td>\n",
       "      <td>FS</td>\n",
       "      <td>IDPB-IDR-PROMO/140</td>\n",
       "      <td>140ID-ABCDE</td>\n",
       "      <td>HFKBPNODB-2222</td>\n",
       "      <td>10</td>\n",
       "      <td>415000</td>\n",
       "      <td>Paid</td>\n",
       "    </tr>\n",
       "  </tbody>\n",
       "</table>\n",
       "<p>764 rows × 12 columns</p>\n",
       "</div>"
      ],
      "text/plain": [
       "    Date Of Sales     Invoice Number  Advertiser ID Company Name  \\\n",
       "0      2017-01-02  IDMDINV/170000379          60329    83830-AAA   \n",
       "1      2017-01-02  IDJKINV/170039548          25404   434985-AAA   \n",
       "2      2017-01-02  IDJKINV/170039549          51232   590362-AAA   \n",
       "3      2017-01-02  IDJKINV/170039550          17942    50412-AAA   \n",
       "4      2017-01-03  IDJKINV/170039551          54894   561326-AAA   \n",
       "..            ...                ...            ...          ...   \n",
       "759    2017-01-11  IDJKINV/170040111            294    73822-AAA   \n",
       "760    2017-01-11  IDJKINV/170040111            294    73822-AAA   \n",
       "761    2017-01-11  IDJKINV/170040111            294    73822-AAA   \n",
       "762    2017-01-11  IDJKINV/170040112          15965   156516-AAA   \n",
       "763    2017-01-11  IDJKINV/170040112          15965   156516-AAA   \n",
       "\n",
       "    Invoice Account Manager Team1  Product Package ID Product Package Name  \\\n",
       "0                      SUSA    BR  IDPB-IDR-PROMO/126          126ID-ABCDE   \n",
       "1                      JOHO    BR     IDPB-IDR-I/1248          248ID-ABCDE   \n",
       "2                      YOVI    C3     IDPB-IDR-I/1198          198ID-ABCDE   \n",
       "3                      YOVI    C3     IDPB-IDR-I/1200          200ID-ABCDE   \n",
       "4                      MARA    BR     IDPB-IDR-I/1199          199ID-ABCDE   \n",
       "..                      ...   ...                 ...                  ...   \n",
       "759                    PRAY    FS     IDPB-IDR-I/1264          264ID-ABCDE   \n",
       "760                    PRAY    FS     IDPB-IDR-I/1264          264ID-ABCDE   \n",
       "761                    PRAY    FS     IDPB-IDR-I/1264          264ID-ABCDE   \n",
       "762                    SHEY    FS  IDPB-IDR-PROMO/140          140ID-ABCDE   \n",
       "763                    SHEY    FS  IDPB-IDR-PROMO/140          140ID-ABCDE   \n",
       "\n",
       "    Product Service  Total Ordered Qty  Total Amt (Local Currency) Paid/Free  \n",
       "0     ABCGDPNF-1111                  2                      600000      Paid  \n",
       "1     ABCGDPNF-1111                  1                     1500000      Paid  \n",
       "2     ABCGDPNF-1111                  1                      650000      Paid  \n",
       "3     ABCGDPNF-1111                  5                     1950000      Paid  \n",
       "4     ABCGDPNF-1111                  2                      900000      Paid  \n",
       "..              ...                ...                         ...       ...  \n",
       "759   ABCGDPNF-1111                100                    10541000      Paid  \n",
       "760  DMFAOJFNL-3333                 50                     2200000      Paid  \n",
       "761  HFKBPNODB-2222                 30                     1245000      Paid  \n",
       "762   ABCGDPNF-1111                 30                     4689500      Paid  \n",
       "763  HFKBPNODB-2222                 10                      415000      Paid  \n",
       "\n",
       "[764 rows x 12 columns]"
      ]
     },
     "execution_count": 7,
     "metadata": {},
     "output_type": "execute_result"
    }
   ],
   "source": [
    "df"
   ]
  },
  {
   "cell_type": "code",
   "execution_count": 8,
   "metadata": {},
   "outputs": [
    {
     "data": {
      "text/plain": [
       "Date Of Sales                 0\n",
       "Invoice Number                0\n",
       "Advertiser ID                 0\n",
       "Company Name                  0\n",
       "Invoice Account Manager       0\n",
       "Team1                         0\n",
       "Product Package ID            0\n",
       "Product Package Name          0\n",
       "Product Service               0\n",
       "Total Ordered Qty             0\n",
       "Total Amt (Local Currency)    0\n",
       "Paid/Free                     0\n",
       "dtype: int64"
      ]
     },
     "execution_count": 8,
     "metadata": {},
     "output_type": "execute_result"
    }
   ],
   "source": [
    "df.isnull().sum()"
   ]
  },
  {
   "cell_type": "code",
   "execution_count": 9,
   "metadata": {},
   "outputs": [
    {
     "data": {
      "text/html": [
       "<div>\n",
       "<style scoped>\n",
       "    .dataframe tbody tr th:only-of-type {\n",
       "        vertical-align: middle;\n",
       "    }\n",
       "\n",
       "    .dataframe tbody tr th {\n",
       "        vertical-align: top;\n",
       "    }\n",
       "\n",
       "    .dataframe thead th {\n",
       "        text-align: right;\n",
       "    }\n",
       "</style>\n",
       "<table border=\"1\" class=\"dataframe\">\n",
       "  <thead>\n",
       "    <tr style=\"text-align: right;\">\n",
       "      <th></th>\n",
       "      <th>Date Of Sales</th>\n",
       "      <th>Advertiser ID</th>\n",
       "      <th>Team1</th>\n",
       "      <th>Product Package Name</th>\n",
       "      <th>Total Ordered Qty</th>\n",
       "      <th>Total Amt (Local Currency)</th>\n",
       "      <th>Paid/Free</th>\n",
       "    </tr>\n",
       "  </thead>\n",
       "  <tbody>\n",
       "    <tr>\n",
       "      <th>0</th>\n",
       "      <td>2017-01-02</td>\n",
       "      <td>60329</td>\n",
       "      <td>BR</td>\n",
       "      <td>126ID-ABCDE</td>\n",
       "      <td>2</td>\n",
       "      <td>600000</td>\n",
       "      <td>Paid</td>\n",
       "    </tr>\n",
       "    <tr>\n",
       "      <th>1</th>\n",
       "      <td>2017-01-02</td>\n",
       "      <td>25404</td>\n",
       "      <td>BR</td>\n",
       "      <td>248ID-ABCDE</td>\n",
       "      <td>1</td>\n",
       "      <td>1500000</td>\n",
       "      <td>Paid</td>\n",
       "    </tr>\n",
       "    <tr>\n",
       "      <th>2</th>\n",
       "      <td>2017-01-02</td>\n",
       "      <td>51232</td>\n",
       "      <td>C3</td>\n",
       "      <td>198ID-ABCDE</td>\n",
       "      <td>1</td>\n",
       "      <td>650000</td>\n",
       "      <td>Paid</td>\n",
       "    </tr>\n",
       "    <tr>\n",
       "      <th>3</th>\n",
       "      <td>2017-01-02</td>\n",
       "      <td>17942</td>\n",
       "      <td>C3</td>\n",
       "      <td>200ID-ABCDE</td>\n",
       "      <td>5</td>\n",
       "      <td>1950000</td>\n",
       "      <td>Paid</td>\n",
       "    </tr>\n",
       "    <tr>\n",
       "      <th>4</th>\n",
       "      <td>2017-01-03</td>\n",
       "      <td>54894</td>\n",
       "      <td>BR</td>\n",
       "      <td>199ID-ABCDE</td>\n",
       "      <td>2</td>\n",
       "      <td>900000</td>\n",
       "      <td>Paid</td>\n",
       "    </tr>\n",
       "    <tr>\n",
       "      <th>...</th>\n",
       "      <td>...</td>\n",
       "      <td>...</td>\n",
       "      <td>...</td>\n",
       "      <td>...</td>\n",
       "      <td>...</td>\n",
       "      <td>...</td>\n",
       "      <td>...</td>\n",
       "    </tr>\n",
       "    <tr>\n",
       "      <th>759</th>\n",
       "      <td>2017-01-11</td>\n",
       "      <td>294</td>\n",
       "      <td>FS</td>\n",
       "      <td>264ID-ABCDE</td>\n",
       "      <td>100</td>\n",
       "      <td>10541000</td>\n",
       "      <td>Paid</td>\n",
       "    </tr>\n",
       "    <tr>\n",
       "      <th>760</th>\n",
       "      <td>2017-01-11</td>\n",
       "      <td>294</td>\n",
       "      <td>FS</td>\n",
       "      <td>264ID-ABCDE</td>\n",
       "      <td>50</td>\n",
       "      <td>2200000</td>\n",
       "      <td>Paid</td>\n",
       "    </tr>\n",
       "    <tr>\n",
       "      <th>761</th>\n",
       "      <td>2017-01-11</td>\n",
       "      <td>294</td>\n",
       "      <td>FS</td>\n",
       "      <td>264ID-ABCDE</td>\n",
       "      <td>30</td>\n",
       "      <td>1245000</td>\n",
       "      <td>Paid</td>\n",
       "    </tr>\n",
       "    <tr>\n",
       "      <th>762</th>\n",
       "      <td>2017-01-11</td>\n",
       "      <td>15965</td>\n",
       "      <td>FS</td>\n",
       "      <td>140ID-ABCDE</td>\n",
       "      <td>30</td>\n",
       "      <td>4689500</td>\n",
       "      <td>Paid</td>\n",
       "    </tr>\n",
       "    <tr>\n",
       "      <th>763</th>\n",
       "      <td>2017-01-11</td>\n",
       "      <td>15965</td>\n",
       "      <td>FS</td>\n",
       "      <td>140ID-ABCDE</td>\n",
       "      <td>10</td>\n",
       "      <td>415000</td>\n",
       "      <td>Paid</td>\n",
       "    </tr>\n",
       "  </tbody>\n",
       "</table>\n",
       "<p>764 rows × 7 columns</p>\n",
       "</div>"
      ],
      "text/plain": [
       "    Date Of Sales  Advertiser ID Team1 Product Package Name  \\\n",
       "0      2017-01-02          60329    BR          126ID-ABCDE   \n",
       "1      2017-01-02          25404    BR          248ID-ABCDE   \n",
       "2      2017-01-02          51232    C3          198ID-ABCDE   \n",
       "3      2017-01-02          17942    C3          200ID-ABCDE   \n",
       "4      2017-01-03          54894    BR          199ID-ABCDE   \n",
       "..            ...            ...   ...                  ...   \n",
       "759    2017-01-11            294    FS          264ID-ABCDE   \n",
       "760    2017-01-11            294    FS          264ID-ABCDE   \n",
       "761    2017-01-11            294    FS          264ID-ABCDE   \n",
       "762    2017-01-11          15965    FS          140ID-ABCDE   \n",
       "763    2017-01-11          15965    FS          140ID-ABCDE   \n",
       "\n",
       "     Total Ordered Qty  Total Amt (Local Currency) Paid/Free  \n",
       "0                    2                      600000      Paid  \n",
       "1                    1                     1500000      Paid  \n",
       "2                    1                      650000      Paid  \n",
       "3                    5                     1950000      Paid  \n",
       "4                    2                      900000      Paid  \n",
       "..                 ...                         ...       ...  \n",
       "759                100                    10541000      Paid  \n",
       "760                 50                     2200000      Paid  \n",
       "761                 30                     1245000      Paid  \n",
       "762                 30                     4689500      Paid  \n",
       "763                 10                      415000      Paid  \n",
       "\n",
       "[764 rows x 7 columns]"
      ]
     },
     "execution_count": 9,
     "metadata": {},
     "output_type": "execute_result"
    }
   ],
   "source": [
    "del df[\"Company Name\"]\n",
    "del df[\"Product Package ID\"]\n",
    "del df[\"Invoice Account Manager\"]\n",
    "del df[\"Invoice Number\"]\n",
    "del df[\"Product Service\"]\n",
    "\n",
    "\n",
    "df"
   ]
  },
  {
   "cell_type": "code",
   "execution_count": 10,
   "metadata": {},
   "outputs": [
    {
     "data": {
      "text/html": [
       "<div>\n",
       "<style scoped>\n",
       "    .dataframe tbody tr th:only-of-type {\n",
       "        vertical-align: middle;\n",
       "    }\n",
       "\n",
       "    .dataframe tbody tr th {\n",
       "        vertical-align: top;\n",
       "    }\n",
       "\n",
       "    .dataframe thead th {\n",
       "        text-align: right;\n",
       "    }\n",
       "</style>\n",
       "<table border=\"1\" class=\"dataframe\">\n",
       "  <thead>\n",
       "    <tr style=\"text-align: right;\">\n",
       "      <th></th>\n",
       "      <th>Advertiser ID</th>\n",
       "      <th>Total Ordered Qty</th>\n",
       "      <th>Total Amt (Local Currency)</th>\n",
       "    </tr>\n",
       "  </thead>\n",
       "  <tbody>\n",
       "    <tr>\n",
       "      <th>count</th>\n",
       "      <td>764.000000</td>\n",
       "      <td>764.000000</td>\n",
       "      <td>7.640000e+02</td>\n",
       "    </tr>\n",
       "    <tr>\n",
       "      <th>mean</th>\n",
       "      <td>37801.896597</td>\n",
       "      <td>14.145288</td>\n",
       "      <td>1.722616e+06</td>\n",
       "    </tr>\n",
       "    <tr>\n",
       "      <th>std</th>\n",
       "      <td>20572.755167</td>\n",
       "      <td>40.640883</td>\n",
       "      <td>1.829284e+06</td>\n",
       "    </tr>\n",
       "    <tr>\n",
       "      <th>min</th>\n",
       "      <td>98.000000</td>\n",
       "      <td>1.000000</td>\n",
       "      <td>8.000000e+04</td>\n",
       "    </tr>\n",
       "    <tr>\n",
       "      <th>25%</th>\n",
       "      <td>18134.000000</td>\n",
       "      <td>2.000000</td>\n",
       "      <td>6.500000e+05</td>\n",
       "    </tr>\n",
       "    <tr>\n",
       "      <th>50%</th>\n",
       "      <td>44470.000000</td>\n",
       "      <td>5.000000</td>\n",
       "      <td>9.000000e+05</td>\n",
       "    </tr>\n",
       "    <tr>\n",
       "      <th>75%</th>\n",
       "      <td>56904.250000</td>\n",
       "      <td>11.250000</td>\n",
       "      <td>2.075000e+06</td>\n",
       "    </tr>\n",
       "    <tr>\n",
       "      <th>max</th>\n",
       "      <td>60486.000000</td>\n",
       "      <td>500.000000</td>\n",
       "      <td>1.278200e+07</td>\n",
       "    </tr>\n",
       "  </tbody>\n",
       "</table>\n",
       "</div>"
      ],
      "text/plain": [
       "       Advertiser ID  Total Ordered Qty  Total Amt (Local Currency)\n",
       "count     764.000000         764.000000                7.640000e+02\n",
       "mean    37801.896597          14.145288                1.722616e+06\n",
       "std     20572.755167          40.640883                1.829284e+06\n",
       "min        98.000000           1.000000                8.000000e+04\n",
       "25%     18134.000000           2.000000                6.500000e+05\n",
       "50%     44470.000000           5.000000                9.000000e+05\n",
       "75%     56904.250000          11.250000                2.075000e+06\n",
       "max     60486.000000         500.000000                1.278200e+07"
      ]
     },
     "execution_count": 10,
     "metadata": {},
     "output_type": "execute_result"
    }
   ],
   "source": [
    "df.describe()"
   ]
  },
  {
   "cell_type": "code",
   "execution_count": 11,
   "metadata": {},
   "outputs": [
    {
     "name": "stdout",
     "output_type": "stream",
     "text": [
      "<class 'pandas.core.frame.DataFrame'>\n",
      "RangeIndex: 764 entries, 0 to 763\n",
      "Data columns (total 7 columns):\n",
      " #   Column                      Non-Null Count  Dtype \n",
      "---  ------                      --------------  ----- \n",
      " 0   Date Of Sales               764 non-null    object\n",
      " 1   Advertiser ID               764 non-null    int64 \n",
      " 2   Team1                       764 non-null    object\n",
      " 3   Product Package Name        764 non-null    object\n",
      " 4   Total Ordered Qty           764 non-null    int64 \n",
      " 5   Total Amt (Local Currency)  764 non-null    int64 \n",
      " 6   Paid/Free                   764 non-null    object\n",
      "dtypes: int64(3), object(4)\n",
      "memory usage: 41.9+ KB\n"
     ]
    }
   ],
   "source": [
    "df.info()"
   ]
  },
  {
   "cell_type": "code",
   "execution_count": 12,
   "metadata": {},
   "outputs": [
    {
     "name": "stdout",
     "output_type": "stream",
     "text": [
      "Date Of Sales: 8 distinct values\n",
      "Advertiser ID: 645 distinct values\n",
      "Team1: 8 distinct values\n",
      "Product Package Name: 63 distinct values\n",
      "Total Ordered Qty: 16 distinct values\n",
      "Total Amt (Local Currency): 51 distinct values\n",
      "Paid/Free: 1 distinct values\n"
     ]
    }
   ],
   "source": [
    "for column in df.columns:\n",
    "    Unique_values = len(df[column].unique())\n",
    "    print(f\"{column}: {Unique_values} distinct values\")"
   ]
  },
  {
   "cell_type": "markdown",
   "metadata": {},
   "source": [
    "## Analisis Tim penjualan berdasarkan  pendapatan pada bulan Januari"
   ]
  },
  {
   "cell_type": "code",
   "execution_count": 13,
   "metadata": {},
   "outputs": [
    {
     "name": "stdout",
     "output_type": "stream",
     "text": [
      "Tim BR: Total Pendapatan = 214432000\n",
      "Tim C3: Total Pendapatan = 187607500\n",
      "Tim TM: Total Pendapatan = 129110000\n",
      "Tim C2: Total Pendapatan = 321819500\n",
      "Tim FS: Total Pendapatan = 373071000\n",
      "Tim RT: Total Pendapatan = 59211500\n",
      "Tim RV: Total Pendapatan = 30227000\n",
      "Tim CV: Total Pendapatan = 600000\n"
     ]
    }
   ],
   "source": [
    "# Membuat dictionary untuk menyimpan total pendapatan masing-masing tim\n",
    "team_revenue = {}\n",
    "\n",
    "# Iterasi melalui data set dan menghitung total pendapatan untuk setiap tim\n",
    "for index, row in df.iterrows():\n",
    "    team1, total_ordered_qty, total_amt = row['Team1'], row['Total Ordered Qty'], row['Total Amt (Local Currency)']\n",
    "    if team1 in team_revenue:\n",
    "        team_revenue[team1] += total_amt\n",
    "    else:\n",
    "        team_revenue[team1] = total_amt\n",
    "\n",
    "# Menampilkan total pendapatan masing-masing tim pada bulan Juli\n",
    "for team, total_revenue in team_revenue.items():\n",
    "    print(f\"Tim {team}: Total Pendapatan = {total_revenue}\")\n",
    "\n"
   ]
  },
  {
   "cell_type": "code",
   "execution_count": 14,
   "metadata": {},
   "outputs": [
    {
     "data": {
      "image/png": "[encoded data removed]",
      "text/plain": [
       "<Figure size 640x480 with 1 Axes>"
      ]
     },
     "metadata": {},
     "output_type": "display_data"
    }
   ],
   "source": [
    "# Visualisasi dengan Matplotlib\n",
    "teams = list(team_revenue.keys())\n",
    "revenues = list(team_revenue.values())\n",
    "\n",
    "plt.bar(teams, revenues)\n",
    "plt.xlabel('Tim')\n",
    "plt.ylabel('Total Pendapatan')\n",
    "plt.title('Total Pendapatan Masing-Masing Tim pada Bulan Januari')\n",
    "plt.xticks(rotation=45)\n",
    "plt.show()"
   ]
  },
  {
   "cell_type": "code",
   "execution_count": 15,
   "metadata": {},
   "outputs": [
    {
     "data": {
      "application/vnd.plotly.v1+json": {
       "config": {
        "plotlyServerURL": "https://plot.ly"
       },
       "data": [
        {
         "hovertemplate": "Team=BR<br>Nama produk=%{x}<br>total Pendapatan=%{y}<extra></extra>",
         "legendgroup": "BR",
         "marker": {
          "color": "#636efa",
          "size": 10,
          "symbol": "circle"
         },
         "mode": "markers",
         "name": "BR",
         "orientation": "v",
         "showlegend": true,
         "type": "scatter",
         "x": [
          "126ID-ABCDE",
          "248ID-ABCDE",
          "199ID-ABCDE",
          "199ID-ABCDE",
          "199ID-ABCDE",
          "/30ID-ABCDE",
          "198ID-ABCDE",
          "199ID-ABCDE",
          "/30ID-ABCDE",
          "199ID-ABCDE",
          "/29ID-ABCDE",
          "199ID-ABCDE",
          "198ID-ABCDE",
          "199ID-ABCDE",
          "199ID-ABCDE",
          "199ID-ABCDE",
          "127ID-ABCDE",
          "127ID-ABCDE",
          "/29ID-ABCDE",
          "127ID-ABCDE",
          "198ID-ABCDE",
          "199ID-ABCDE",
          "198ID-ABCDE",
          "/29ID-ABCDE",
          "199ID-ABCDE",
          "/29ID-ABCDE",
          "/29ID-ABCDE",
          "/30ID-ABCDE",
          "198ID-ABCDE",
          "a/4Ex-ABCDE",
          "198ID-ABCDE",
          "130ID-ABCDE",
          "/13ID-ABCDE",
          "127ID-ABCDE",
          "129ID-ABCDE",
          "a/6Ex-ABCDE",
          "127ID-ABCDE",
          "199ID-ABCDE",
          "175ID-ABCDE",
          "203ID-ABCDE",
          "128ID-ABCDE",
          "/29ID-ABCDE",
          "/30ID-ABCDE",
          "127ID-ABCDE",
          "199ID-ABCDE",
          "198ID-ABCDE",
          "199ID-ABCDE",
          "/30ID-ABCDE",
          "/30ID-ABCDE",
          "127ID-ABCDE",
          "/30ID-ABCDE",
          "/29ID-ABCDE",
          "199ID-ABCDE",
          "/30ID-ABCDE",
          "199ID-ABCDE",
          "127ID-ABCDE",
          "173ID-ABCDE",
          "198ID-ABCDE",
          "/29ID-ABCDE",
          "127ID-ABCDE",
          "198ID-ABCDE",
          "129ID-ABCDE",
          "129ID-ABCDE",
          "198ID-ABCDE",
          "/30ID-ABCDE",
          "199ID-ABCDE",
          "/30ID-ABCDE",
          "/29ID-ABCDE",
          "199ID-ABCDE",
          "130ID-ABCDE",
          "198ID-ABCDE",
          "/30ID-ABCDE",
          "127ID-ABCDE",
          "127ID-ABCDE",
          "131ID-ABCDE",
          "/30ID-ABCDE",
          "/30ID-ABCDE",
          "127ID-ABCDE",
          "199ID-ABCDE",
          "201ID-ABCDE",
          "199ID-ABCDE",
          "/30ID-ABCDE",
          "/30ID-ABCDE",
          "199ID-ABCDE",
          "127ID-ABCDE",
          "/29ID-ABCDE",
          "/30ID-ABCDE",
          "/30ID-ABCDE",
          "199ID-ABCDE",
          "141ID-ABCDE",
          "141ID-ABCDE",
          "199ID-ABCDE",
          "198ID-ABCDE",
          "127ID-ABCDE",
          "127ID-ABCDE",
          "129ID-ABCDE",
          "/30ID-ABCDE",
          "/29ID-ABCDE",
          "/30ID-ABCDE",
          "127ID-ABCDE",
          "130ID-ABCDE",
          "/31ID-ABCDE",
          "/30ID-ABCDE",
          "/30ID-ABCDE",
          "199ID-ABCDE",
          "129ID-ABCDE",
          "127ID-ABCDE",
          "129ID-ABCDE",
          "/30ID-ABCDE",
          "199ID-ABCDE",
          "198ID-ABCDE",
          "/30ID-ABCDE",
          "/29ID-ABCDE",
          "127ID-ABCDE",
          "/30ID-ABCDE",
          "199ID-ABCDE",
          "/30ID-ABCDE",
          "199ID-ABCDE",
          "/29ID-ABCDE",
          "199ID-ABCDE",
          "/30ID-ABCDE",
          "/30ID-ABCDE",
          "198ID-ABCDE",
          "128ID-ABCDE",
          "199ID-ABCDE",
          "198ID-ABCDE",
          "199ID-ABCDE",
          "/30ID-ABCDE",
          "127ID-ABCDE",
          "128ID-ABCDE",
          "199ID-ABCDE",
          "198ID-ABCDE",
          "128ID-ABCDE",
          "127ID-ABCDE",
          "/29ID-ABCDE",
          "199ID-ABCDE",
          "127ID-ABCDE",
          "173ID-ABCDE",
          "128ID-ABCDE",
          "/30ID-ABCDE",
          "199ID-ABCDE",
          "127ID-ABCDE",
          "127ID-ABCDE",
          "198ID-ABCDE",
          "127ID-ABCDE",
          "129ID-ABCDE",
          "199ID-ABCDE",
          "129ID-ABCDE",
          "127ID-ABCDE",
          "199ID-ABCDE",
          "198ID-ABCDE",
          "199ID-ABCDE",
          "198ID-ABCDE",
          "200ID-ABCDE",
          "/29ID-ABCDE",
          "127ID-ABCDE",
          "199ID-ABCDE",
          "/30ID-ABCDE",
          "/30ID-ABCDE",
          "/30ID-ABCDE",
          "199ID-ABCDE",
          "/30ID-ABCDE",
          "199ID-ABCDE",
          "129ID-ABCDE",
          "127ID-ABCDE",
          "128ID-ABCDE",
          "/30ID-ABCDE",
          "129ID-ABCDE",
          "/29ID-ABCDE"
         ],
         "xaxis": "x",
         "y": [
          600000,
          1500000,
          900000,
          900000,
          900000,
          800000,
          650000,
          900000,
          800000,
          800000,
          600000,
          900000,
          600000,
          900000,
          800000,
          900000,
          1618500,
          1452500,
          600000,
          1618500,
          650000,
          800000,
          650000,
          600000,
          800000,
          600000,
          600000,
          800000,
          650000,
          600000,
          650000,
          4689500,
          3000000,
          1452500,
          3029500,
          1500000,
          1452500,
          900000,
          2200000,
          5650000,
          2075000,
          600000,
          800000,
          1452500,
          900000,
          650000,
          900000,
          800000,
          800000,
          1452500,
          800000,
          600000,
          800000,
          800000,
          800000,
          1618500,
          1500000,
          600000,
          600000,
          1452500,
          650000,
          3029500,
          2739000,
          600000,
          800000,
          800000,
          800000,
          600000,
          900000,
          4689500,
          650000,
          800000,
          1452500,
          1618500,
          5810000,
          800000,
          800000,
          1452500,
          900000,
          2500000,
          800000,
          800000,
          800000,
          900000,
          1618500,
          600000,
          800000,
          1600000,
          900000,
          6391000,
          830000,
          900000,
          600000,
          1452500,
          1618500,
          2739000,
          800000,
          600000,
          800000,
          1618500,
          4233000,
          1750000,
          800000,
          800000,
          800000,
          3029500,
          1452500,
          3029500,
          800000,
          800000,
          650000,
          800000,
          600000,
          1452500,
          800000,
          900000,
          800000,
          900000,
          600000,
          800000,
          800000,
          800000,
          600000,
          2075000,
          800000,
          600000,
          900000,
          800000,
          1618500,
          2075000,
          900000,
          600000,
          1826000,
          1618500,
          600000,
          800000,
          1618500,
          500000,
          1826000,
          800000,
          800000,
          1618500,
          1452500,
          600000,
          1452500,
          2739000,
          800000,
          2739000,
          1452500,
          900000,
          650000,
          800000,
          650000,
          1950000,
          600000,
          1452500,
          900000,
          800000,
          800000,
          800000,
          800000,
          800000,
          900000,
          2739000,
          1452500,
          1826000,
          800000,
          3029500,
          600000
         ],
         "yaxis": "y"
        },
        {
         "hovertemplate": "Team=C3<br>Nama produk=%{x}<br>total Pendapatan=%{y}<extra></extra>",
         "legendgroup": "C3",
         "marker": {
          "color": "#EF553B",
          "size": 10,
          "symbol": "circle"
         },
         "mode": "markers",
         "name": "C3",
         "orientation": "v",
         "showlegend": true,
         "type": "scatter",
         "x": [
          "198ID-ABCDE",
          "200ID-ABCDE",
          "199ID-ABCDE",
          "199ID-ABCDE",
          "198ID-ABCDE",
          "199ID-ABCDE",
          "199ID-ABCDE",
          "199ID-ABCDE",
          "173ID-ABCDE",
          "199ID-ABCDE",
          "198ID-ABCDE",
          "198ID-ABCDE",
          "199ID-ABCDE",
          "173ID-ABCDE",
          "201ID-ABCDE",
          "200ID-ABCDE",
          "127ID-ABCDE",
          "198ID-ABCDE",
          "129ID-ABCDE",
          "203ID-ABCDE",
          "129ID-ABCDE",
          "173ID-ABCDE",
          "199ID-ABCDE",
          "198ID-ABCDE",
          "199ID-ABCDE",
          "127ID-ABCDE",
          "199ID-ABCDE",
          "198ID-ABCDE",
          "218ID-ABCDE",
          "218ID-ABCDE",
          "199ID-ABCDE",
          "198ID-ABCDE",
          "198ID-ABCDE",
          "173ID-ABCDE",
          "200ID-ABCDE",
          "199ID-ABCDE",
          "198ID-ABCDE",
          "199ID-ABCDE",
          "173ID-ABCDE",
          "198ID-ABCDE",
          "199ID-ABCDE",
          "129ID-ABCDE",
          "162ID-ABCDE",
          "199ID-ABCDE",
          "127ID-ABCDE",
          "173ID-ABCDE",
          "199ID-ABCDE",
          "127ID-ABCDE",
          "128ID-ABCDE",
          "198ID-ABCDE",
          "199ID-ABCDE",
          "198ID-ABCDE",
          "129ID-ABCDE",
          "127ID-ABCDE",
          "198ID-ABCDE",
          "199ID-ABCDE",
          "162ID-ABCDE",
          "198ID-ABCDE",
          "173ID-ABCDE",
          "201ID-ABCDE",
          "199ID-ABCDE",
          "173ID-ABCDE",
          "200ID-ABCDE",
          "127ID-ABCDE",
          "127ID-ABCDE",
          "199ID-ABCDE",
          "199ID-ABCDE",
          "198ID-ABCDE",
          "173ID-ABCDE",
          "199ID-ABCDE",
          "128ID-ABCDE",
          "173ID-ABCDE",
          "127ID-ABCDE",
          "173ID-ABCDE",
          "185ID-ABCDE",
          "199ID-ABCDE",
          "198ID-ABCDE",
          "199ID-ABCDE",
          "198ID-ABCDE",
          "199ID-ABCDE",
          "198ID-ABCDE",
          "198ID-ABCDE",
          "199ID-ABCDE",
          "139ID-ABCDE",
          "139ID-ABCDE",
          "198ID-ABCDE",
          "199ID-ABCDE",
          "173ID-ABCDE",
          "199ID-ABCDE",
          "199ID-ABCDE",
          "199ID-ABCDE",
          "199ID-ABCDE",
          "199ID-ABCDE",
          "199ID-ABCDE",
          "199ID-ABCDE",
          "198ID-ABCDE",
          "198ID-ABCDE",
          "127ID-ABCDE",
          "173ID-ABCDE",
          "201ID-ABCDE",
          "199ID-ABCDE",
          "199ID-ABCDE",
          "198ID-ABCDE",
          "198ID-ABCDE",
          "199ID-ABCDE",
          "127ID-ABCDE",
          "173ID-ABCDE",
          "127ID-ABCDE",
          "127ID-ABCDE",
          "198ID-ABCDE",
          "198ID-ABCDE",
          "127ID-ABCDE",
          "199ID-ABCDE",
          "127ID-ABCDE",
          "198ID-ABCDE",
          "199ID-ABCDE",
          "199ID-ABCDE",
          "127ID-ABCDE",
          "198ID-ABCDE",
          "127ID-ABCDE",
          "173ID-ABCDE",
          "199ID-ABCDE",
          "128ID-ABCDE",
          "127ID-ABCDE",
          "200ID-ABCDE",
          "199ID-ABCDE",
          "199ID-ABCDE",
          "200ID-ABCDE",
          "127ID-ABCDE",
          "198ID-ABCDE",
          "127ID-ABCDE",
          "127ID-ABCDE",
          "198ID-ABCDE",
          "198ID-ABCDE",
          "127ID-ABCDE",
          "199ID-ABCDE",
          "129ID-ABCDE",
          "173ID-ABCDE",
          "199ID-ABCDE",
          "198ID-ABCDE",
          "128ID-ABCDE",
          "198ID-ABCDE",
          "127ID-ABCDE",
          "198ID-ABCDE",
          "199ID-ABCDE",
          "198ID-ABCDE",
          "198ID-ABCDE",
          "127ID-ABCDE",
          "129ID-ABCDE",
          "128ID-ABCDE",
          "217ID-ABCDE",
          "217ID-ABCDE",
          "127ID-ABCDE",
          "127ID-ABCDE",
          "199ID-ABCDE",
          "199ID-ABCDE",
          "127ID-ABCDE",
          "201ID-ABCDE"
         ],
         "xaxis": "x",
         "y": [
          650000,
          1950000,
          900000,
          900000,
          650000,
          900000,
          900000,
          900000,
          500000,
          900000,
          600000,
          650000,
          900000,
          500000,
          2500000,
          1950000,
          1618500,
          600000,
          2739000,
          5100000,
          3029500,
          500000,
          900000,
          650000,
          900000,
          1618500,
          900000,
          650000,
          5650000,
          500000,
          800000,
          650000,
          600000,
          500000,
          1950000,
          900000,
          650000,
          900000,
          500000,
          650000,
          900000,
          3029500,
          850000,
          900000,
          1618500,
          500000,
          900000,
          1618500,
          2075000,
          650000,
          800000,
          1300000,
          3029500,
          1452500,
          650000,
          900000,
          750000,
          650000,
          500000,
          2500000,
          900000,
          500000,
          1950000,
          1618500,
          1618500,
          800000,
          800000,
          600000,
          500000,
          900000,
          2075000,
          1000000,
          1618500,
          500000,
          160000,
          900000,
          650000,
          900000,
          650000,
          900000,
          650000,
          650000,
          900000,
          3029500,
          207500,
          600000,
          900000,
          500000,
          900000,
          900000,
          900000,
          900000,
          900000,
          900000,
          800000,
          600000,
          650000,
          1618500,
          500000,
          2500000,
          800000,
          900000,
          650000,
          650000,
          900000,
          1618500,
          1000000,
          1618500,
          1618500,
          650000,
          650000,
          1618500,
          900000,
          1618500,
          600000,
          900000,
          900000,
          1618500,
          650000,
          1618500,
          500000,
          900000,
          2075000,
          1618500,
          1950000,
          900000,
          800000,
          1950000,
          1618500,
          650000,
          1618500,
          1618500,
          650000,
          650000,
          1618500,
          900000,
          3029500,
          1000000,
          800000,
          650000,
          2075000,
          600000,
          1618500,
          650000,
          800000,
          600000,
          650000,
          1618500,
          3029500,
          2075000,
          3650000,
          250000,
          1618500,
          1452500,
          900000,
          900000,
          1618500,
          2200000
         ],
         "yaxis": "y"
        },
        {
         "hovertemplate": "Team=TM<br>Nama produk=%{x}<br>total Pendapatan=%{y}<extra></extra>",
         "legendgroup": "TM",
         "marker": {
          "color": "#00cc96",
          "size": 10,
          "symbol": "circle"
         },
         "mode": "markers",
         "name": "TM",
         "orientation": "v",
         "showlegend": true,
         "type": "scatter",
         "x": [
          "198ID-ABCDE",
          "125ID-ABCDE",
          "198ID-ABCDE",
          "888ID-ABCDE",
          "198ID-ABCDE",
          "199ID-ABCDE",
          "199ID-ABCDE",
          "198ID-ABCDE",
          "177ID-ABCDE",
          "128ID-ABCDE",
          "127ID-ABCDE",
          "199ID-ABCDE",
          "199ID-ABCDE",
          "199ID-ABCDE",
          "199ID-ABCDE",
          "198ID-ABCDE",
          "128ID-ABCDE",
          "199ID-ABCDE",
          "198ID-ABCDE",
          "128ID-ABCDE",
          "173ID-ABCDE",
          "198ID-ABCDE",
          "199ID-ABCDE",
          "202ID-ABCDE",
          "127ID-ABCDE",
          "127ID-ABCDE",
          "198ID-ABCDE",
          "199ID-ABCDE",
          "127ID-ABCDE",
          "199ID-ABCDE",
          "198ID-ABCDE",
          "199ID-ABCDE",
          "199ID-ABCDE",
          "199ID-ABCDE",
          "127ID-ABCDE",
          "127ID-ABCDE",
          "199ID-ABCDE",
          "198ID-ABCDE",
          "199ID-ABCDE",
          "199ID-ABCDE",
          "199ID-ABCDE",
          "198ID-ABCDE",
          "163ID-ABCDE",
          "199ID-ABCDE",
          "199ID-ABCDE",
          "127ID-ABCDE",
          "199ID-ABCDE",
          "128ID-ABCDE",
          "198ID-ABCDE",
          "127ID-ABCDE",
          "199ID-ABCDE",
          "886ID-ABCDE",
          "199ID-ABCDE",
          "199ID-ABCDE",
          "127ID-ABCDE",
          "887ID-ABCDE",
          "199ID-ABCDE",
          "199ID-ABCDE",
          "199ID-ABCDE",
          "199ID-ABCDE",
          "199ID-ABCDE",
          "199ID-ABCDE",
          "199ID-ABCDE",
          "199ID-ABCDE",
          "199ID-ABCDE",
          "146ID-ABCDE",
          "129ID-ABCDE",
          "199ID-ABCDE",
          "199ID-ABCDE",
          "190ID-ABCDE",
          "199ID-ABCDE",
          "199ID-ABCDE",
          "169ID-ABCDE",
          "/78ID-ABCDE",
          "199ID-ABCDE",
          "128ID-ABCDE",
          "126ID-ABCDE",
          "198ID-ABCDE",
          "199ID-ABCDE",
          "177ID-ABCDE",
          "199ID-ABCDE",
          "/26ID-ABCDE",
          "199ID-ABCDE",
          "130ID-ABCDE",
          "199ID-ABCDE",
          "199ID-ABCDE",
          "199ID-ABCDE",
          "198ID-ABCDE",
          "199ID-ABCDE",
          "198ID-ABCDE",
          "199ID-ABCDE",
          "199ID-ABCDE",
          "198ID-ABCDE",
          "129ID-ABCDE",
          "199ID-ABCDE",
          "199ID-ABCDE",
          "199ID-ABCDE",
          "199ID-ABCDE",
          "127ID-ABCDE",
          "198ID-ABCDE",
          "887ID-ABCDE",
          "128ID-ABCDE",
          "127ID-ABCDE",
          "129ID-ABCDE",
          "198ID-ABCDE",
          "198ID-ABCDE"
         ],
         "xaxis": "x",
         "y": [
          600000,
          700000,
          600000,
          500000,
          650000,
          800000,
          800000,
          600000,
          3000000,
          1826000,
          1452500,
          800000,
          800000,
          800000,
          800000,
          600000,
          1826000,
          800000,
          600000,
          1826000,
          250000,
          600000,
          800000,
          3650000,
          1452500,
          1452500,
          600000,
          800000,
          1452500,
          800000,
          600000,
          800000,
          800000,
          800000,
          1452500,
          1452500,
          800000,
          600000,
          800000,
          800000,
          800000,
          650000,
          1500000,
          800000,
          800000,
          1452500,
          800000,
          1826000,
          600000,
          1452500,
          800000,
          1500000,
          800000,
          800000,
          1452500,
          900000,
          800000,
          800000,
          800000,
          800000,
          800000,
          800000,
          800000,
          800000,
          800000,
          3320000,
          2739000,
          800000,
          800000,
          1800000,
          800000,
          800000,
          9000000,
          1000000,
          800000,
          1826000,
          600000,
          600000,
          800000,
          3000000,
          800000,
          6100000,
          800000,
          4689500,
          800000,
          800000,
          800000,
          600000,
          800000,
          600000,
          800000,
          800000,
          600000,
          2739000,
          800000,
          800000,
          800000,
          800000,
          1452500,
          600000,
          900000,
          1826000,
          1452500,
          2739000,
          600000,
          650000
         ],
         "yaxis": "y"
        },
        {
         "hovertemplate": "Team=C2<br>Nama produk=%{x}<br>total Pendapatan=%{y}<extra></extra>",
         "legendgroup": "C2",
         "marker": {
          "color": "#ab63fa",
          "size": 10,
          "symbol": "circle"
         },
         "mode": "markers",
         "name": "C2",
         "orientation": "v",
         "showlegend": true,
         "type": "scatter",
         "x": [
          "198ID-ABCDE",
          "198ID-ABCDE",
          "217ID-ABCDE",
          "217ID-ABCDE",
          "217ID-ABCDE",
          "217ID-ABCDE",
          "217ID-ABCDE",
          "217ID-ABCDE",
          "200ID-ABCDE",
          "199ID-ABCDE",
          "202ID-ABCDE",
          "200ID-ABCDE",
          "202ID-ABCDE",
          "198ID-ABCDE",
          "886ID-ABCDE",
          "202ID-ABCDE",
          "198ID-ABCDE",
          "199ID-ABCDE",
          "173ID-ABCDE",
          "199ID-ABCDE",
          "199ID-ABCDE",
          "129ID-ABCDE",
          "140ID-ABCDE",
          "140ID-ABCDE",
          "173ID-ABCDE",
          "200ID-ABCDE",
          "148ID-ABCDE",
          "140ID-ABCDE",
          "140ID-ABCDE",
          "173ID-ABCDE",
          "129ID-ABCDE",
          "199ID-ABCDE",
          "130ID-ABCDE",
          "173ID-ABCDE",
          "129ID-ABCDE",
          "187ID-ABCDE",
          "201ID-ABCDE",
          "199ID-ABCDE",
          "203ID-ABCDE",
          "131ID-ABCDE",
          "173ID-ABCDE",
          "199ID-ABCDE",
          "129ID-ABCDE",
          "199ID-ABCDE",
          "199ID-ABCDE",
          "185ID-ABCDE",
          "199ID-ABCDE",
          "217ID-ABCDE",
          "217ID-ABCDE",
          "129ID-ABCDE",
          "140ID-ABCDE",
          "140ID-ABCDE",
          "173ID-ABCDE",
          "200ID-ABCDE",
          "201ID-ABCDE",
          "129ID-ABCDE",
          "140ID-ABCDE",
          "140ID-ABCDE",
          "178ID-ABCDE",
          "199ID-ABCDE",
          "173ID-ABCDE",
          "201ID-ABCDE",
          "199ID-ABCDE",
          "128ID-ABCDE",
          "129ID-ABCDE",
          "128ID-ABCDE",
          "139ID-ABCDE",
          "139ID-ABCDE",
          "217ID-ABCDE",
          "217ID-ABCDE",
          "139ID-ABCDE",
          "139ID-ABCDE",
          "127ID-ABCDE",
          "200ID-ABCDE",
          "905ID-ABCDE",
          "129ID-ABCDE",
          "140ID-ABCDE",
          "140ID-ABCDE",
          "199ID-ABCDE",
          "130ID-ABCDE",
          "139ID-ABCDE",
          "139ID-ABCDE",
          "173ID-ABCDE",
          "201ID-ABCDE",
          "185ID-ABCDE",
          "199ID-ABCDE",
          "257ID-ABCDE",
          "201ID-ABCDE",
          "217ID-ABCDE",
          "217ID-ABCDE",
          "139ID-ABCDE",
          "139ID-ABCDE",
          "139ID-ABCDE",
          "139ID-ABCDE",
          "129ID-ABCDE",
          "139ID-ABCDE",
          "139ID-ABCDE",
          "173ID-ABCDE",
          "130ID-ABCDE",
          "130ID-ABCDE",
          "131ID-ABCDE",
          "185ID-ABCDE",
          "198ID-ABCDE",
          "199ID-ABCDE",
          "140ID-ABCDE",
          "140ID-ABCDE",
          "173ID-ABCDE",
          "201ID-ABCDE",
          "200ID-ABCDE",
          "905ID-ABCDE",
          "200ID-ABCDE",
          "140ID-ABCDE",
          "140ID-ABCDE",
          "173ID-ABCDE",
          "201ID-ABCDE",
          "139ID-ABCDE",
          "139ID-ABCDE",
          "218ID-ABCDE",
          "218ID-ABCDE",
          "139ID-ABCDE",
          "139ID-ABCDE",
          "173ID-ABCDE",
          "128ID-ABCDE",
          "199ID-ABCDE",
          "177ID-ABCDE",
          "128ID-ABCDE",
          "173ID-ABCDE",
          "200ID-ABCDE",
          "905ID-ABCDE",
          "127ID-ABCDE",
          "140ID-ABCDE",
          "140ID-ABCDE",
          "127ID-ABCDE",
          "128ID-ABCDE",
          "217ID-ABCDE",
          "217ID-ABCDE",
          "128ID-ABCDE",
          "139ID-ABCDE",
          "139ID-ABCDE",
          "198ID-ABCDE",
          "139ID-ABCDE",
          "139ID-ABCDE",
          "139ID-ABCDE",
          "139ID-ABCDE",
          "127ID-ABCDE",
          "198ID-ABCDE",
          "173ID-ABCDE",
          "200ID-ABCDE",
          "198ID-ABCDE",
          "127ID-ABCDE",
          "129ID-ABCDE",
          "187ID-ABCDE",
          "200ID-ABCDE",
          "130ID-ABCDE",
          "198ID-ABCDE",
          "127ID-ABCDE",
          "140ID-ABCDE",
          "140ID-ABCDE",
          "129ID-ABCDE",
          "139ID-ABCDE",
          "139ID-ABCDE",
          "173ID-ABCDE",
          "201ID-ABCDE",
          "129ID-ABCDE",
          "173ID-ABCDE",
          "129ID-ABCDE"
         ],
         "xaxis": "x",
         "y": [
          650000,
          650000,
          3650000,
          250000,
          3650000,
          250000,
          3650000,
          250000,
          1950000,
          800000,
          3650000,
          1950000,
          3650000,
          650000,
          1500000,
          3650000,
          650000,
          900000,
          500000,
          900000,
          800000,
          3029500,
          4689500,
          415000,
          1000000,
          1750000,
          4980000,
          4689500,
          415000,
          1000000,
          3029500,
          900000,
          4689500,
          1250000,
          3029500,
          350000,
          2500000,
          900000,
          5650000,
          6391000,
          1000000,
          900000,
          3029500,
          900000,
          900000,
          160000,
          900000,
          3650000,
          250000,
          3029500,
          4689500,
          415000,
          1000000,
          1950000,
          2500000,
          3029500,
          4689500,
          415000,
          3000000,
          900000,
          750000,
          2500000,
          900000,
          2075000,
          3029500,
          2075000,
          3029500,
          207500,
          3650000,
          250000,
          3029500,
          207500,
          1618500,
          1950000,
          350000,
          3029500,
          4689500,
          415000,
          900000,
          4689500,
          3029500,
          207500,
          750000,
          2500000,
          160000,
          900000,
          1397000,
          2500000,
          3650000,
          250000,
          3029500,
          207500,
          3029500,
          207500,
          3029500,
          3029500,
          207500,
          1000000,
          4689500,
          4689500,
          6391000,
          80000,
          650000,
          900000,
          4689500,
          415000,
          1000000,
          2500000,
          1950000,
          350000,
          1950000,
          4689500,
          415000,
          750000,
          2500000,
          3029500,
          207500,
          5650000,
          500000,
          3029500,
          207500,
          750000,
          2075000,
          900000,
          3000000,
          2075000,
          1000000,
          1950000,
          350000,
          1618500,
          4689500,
          415000,
          1618500,
          2075000,
          3650000,
          250000,
          2075000,
          3029500,
          207500,
          650000,
          3029500,
          207500,
          3029500,
          207500,
          1618500,
          650000,
          500000,
          1950000,
          650000,
          1452500,
          3029500,
          350000,
          1950000,
          4689500,
          650000,
          1618500,
          4689500,
          415000,
          3029500,
          3029500,
          207500,
          750000,
          2500000,
          3029500,
          1000000,
          3029500
         ],
         "yaxis": "y"
        },
        {
         "hovertemplate": "Team=FS<br>Nama produk=%{x}<br>total Pendapatan=%{y}<extra></extra>",
         "legendgroup": "FS",
         "marker": {
          "color": "#FFA15A",
          "size": 10,
          "symbol": "circle"
         },
         "mode": "markers",
         "name": "FS",
         "orientation": "v",
         "showlegend": true,
         "type": "scatter",
         "x": [
          "177ID-ABCDE",
          "179ID-ABCDE",
          "142ID-ABCDE",
          "142ID-ABCDE",
          "139ID-ABCDE",
          "139ID-ABCDE",
          "181ID-ABCDE",
          "139ID-ABCDE",
          "139ID-ABCDE",
          "127ID-ABCDE",
          "250ID-ABCDE",
          "250ID-ABCDE",
          "178ID-ABCDE",
          "139ID-ABCDE",
          "139ID-ABCDE",
          "177ID-ABCDE",
          "249ID-ABCDE",
          "249ID-ABCDE",
          "249ID-ABCDE",
          "251ID-ABCDE",
          "251ID-ABCDE",
          "251ID-ABCDE",
          "129ID-ABCDE",
          "127ID-ABCDE",
          "254ID-ABCDE",
          "254ID-ABCDE",
          "140ID-ABCDE",
          "140ID-ABCDE",
          "128ID-ABCDE",
          "175ID-ABCDE",
          "255ID-ABCDE",
          "255ID-ABCDE",
          "200ID-ABCDE",
          "256ID-ABCDE",
          "256ID-ABCDE",
          "256ID-ABCDE",
          "129ID-ABCDE",
          "204ID-ABCDE",
          "258ID-ABCDE",
          "258ID-ABCDE",
          "204ID-ABCDE",
          "179ID-ABCDE",
          "129ID-ABCDE",
          "140ID-ABCDE",
          "140ID-ABCDE",
          "129ID-ABCDE",
          "139ID-ABCDE",
          "139ID-ABCDE",
          "131ID-ABCDE",
          "202ID-ABCDE",
          "259ID-ABCDE",
          "259ID-ABCDE",
          "259ID-ABCDE",
          "139ID-ABCDE",
          "139ID-ABCDE",
          "127ID-ABCDE",
          "142ID-ABCDE",
          "142ID-ABCDE",
          "140ID-ABCDE",
          "140ID-ABCDE",
          "141ID-ABCDE",
          "141ID-ABCDE",
          "148ID-ABCDE",
          "128ID-ABCDE",
          "177ID-ABCDE",
          "141ID-ABCDE",
          "141ID-ABCDE",
          "199ID-ABCDE",
          "142ID-ABCDE",
          "142ID-ABCDE",
          "139ID-ABCDE",
          "139ID-ABCDE",
          "175ID-ABCDE",
          "260ID-ABCDE",
          "260ID-ABCDE",
          "130ID-ABCDE",
          "127ID-ABCDE",
          "261ID-ABCDE",
          "261ID-ABCDE",
          "141ID-ABCDE",
          "141ID-ABCDE",
          "140ID-ABCDE",
          "140ID-ABCDE",
          "142ID-ABCDE",
          "142ID-ABCDE",
          "182ID-ABCDE",
          "199ID-ABCDE",
          "177ID-ABCDE",
          "201ID-ABCDE",
          "140ID-ABCDE",
          "140ID-ABCDE",
          "141ID-ABCDE",
          "141ID-ABCDE",
          "132ID-ABCDE",
          "264ID-ABCDE",
          "264ID-ABCDE",
          "264ID-ABCDE",
          "140ID-ABCDE",
          "140ID-ABCDE"
         ],
         "xaxis": "x",
         "y": [
          3000000,
          6600000,
          10541000,
          1245000,
          3029500,
          207500,
          10000000,
          3029500,
          207500,
          1618500,
          12782000,
          2200000,
          3000000,
          3029500,
          207500,
          3000000,
          10541000,
          2200000,
          1245000,
          10541000,
          10000000,
          160000,
          3029500,
          1618500,
          10541000,
          3000000,
          4689500,
          415000,
          2075000,
          2200000,
          2075000,
          350000,
          1950000,
          4689500,
          3000000,
          415000,
          3029500,
          7700000,
          4689500,
          3000000,
          7700000,
          6600000,
          3029500,
          4689500,
          415000,
          3029500,
          3029500,
          207500,
          6391000,
          3650000,
          3029500,
          1000000,
          207500,
          3029500,
          207500,
          1618500,
          10541000,
          1245000,
          4689500,
          415000,
          5810000,
          830000,
          4980000,
          2075000,
          3000000,
          6391000,
          830000,
          900000,
          9545000,
          1245000,
          3029500,
          207500,
          2200000,
          12782000,
          3000000,
          4689500,
          1618500,
          4689500,
          2200000,
          6391000,
          830000,
          4689500,
          415000,
          10541000,
          1245000,
          10000000,
          900000,
          3000000,
          2500000,
          4689500,
          415000,
          6391000,
          830000,
          9545000,
          10541000,
          2200000,
          1245000,
          4689500,
          415000
         ],
         "yaxis": "y"
        },
        {
         "hovertemplate": "Team=RT<br>Nama produk=%{x}<br>total Pendapatan=%{y}<extra></extra>",
         "legendgroup": "RT",
         "marker": {
          "color": "#19d3f3",
          "size": 10,
          "symbol": "circle"
         },
         "mode": "markers",
         "name": "RT",
         "orientation": "v",
         "showlegend": true,
         "type": "scatter",
         "x": [
          "/29ID-ABCDE",
          "199ID-ABCDE",
          "/30ID-ABCDE",
          "199ID-ABCDE",
          "/30ID-ABCDE",
          "198ID-ABCDE",
          "884ID-ABCDE",
          "199ID-ABCDE",
          "130ID-ABCDE",
          "127ID-ABCDE",
          "199ID-ABCDE",
          "128ID-ABCDE",
          "199ID-ABCDE",
          "198ID-ABCDE",
          "198ID-ABCDE",
          "199ID-ABCDE",
          "886ID-ABCDE",
          "127ID-ABCDE",
          "199ID-ABCDE",
          "127ID-ABCDE",
          "198ID-ABCDE",
          "199ID-ABCDE",
          "127ID-ABCDE",
          "127ID-ABCDE",
          "127ID-ABCDE",
          "199ID-ABCDE",
          "128ID-ABCDE",
          "127ID-ABCDE",
          "131ID-ABCDE",
          "127ID-ABCDE",
          "198ID-ABCDE",
          "128ID-ABCDE",
          "199ID-ABCDE",
          "199ID-ABCDE",
          "199ID-ABCDE",
          "127ID-ABCDE",
          "198ID-ABCDE",
          "198ID-ABCDE",
          "198ID-ABCDE",
          "199ID-ABCDE",
          "199ID-ABCDE",
          "198ID-ABCDE",
          "127ID-ABCDE",
          "198ID-ABCDE",
          "199ID-ABCDE",
          "/30ID-ABCDE"
         ],
         "xaxis": "x",
         "y": [
          600000,
          900000,
          800000,
          800000,
          800000,
          650000,
          3000000,
          900000,
          4689500,
          1452500,
          900000,
          2075000,
          900000,
          650000,
          600000,
          800000,
          1500000,
          1618500,
          800000,
          1618500,
          650000,
          800000,
          1452500,
          1452500,
          1452500,
          900000,
          2075000,
          1618500,
          6391000,
          1452500,
          600000,
          1826000,
          900000,
          900000,
          900000,
          1618500,
          600000,
          650000,
          600000,
          800000,
          900000,
          650000,
          1618500,
          650000,
          900000,
          800000
         ],
         "yaxis": "y"
        },
        {
         "hovertemplate": "Team=RV<br>Nama produk=%{x}<br>total Pendapatan=%{y}<extra></extra>",
         "legendgroup": "RV",
         "marker": {
          "color": "#FF6692",
          "size": 10,
          "symbol": "circle"
         },
         "mode": "markers",
         "name": "RV",
         "orientation": "v",
         "showlegend": true,
         "type": "scatter",
         "x": [
          "130ID-ABCDE",
          "/21ID-ABCDE",
          "199ID-ABCDE",
          "127ID-ABCDE",
          "179ID-ABCDE",
          "127ID-ABCDE",
          "199ID-ABCDE",
          "199ID-ABCDE",
          "198ID-ABCDE",
          "198ID-ABCDE",
          "199ID-ABCDE",
          "199ID-ABCDE",
          "198ID-ABCDE",
          "199ID-ABCDE",
          "199ID-ABCDE",
          "127ID-ABCDE",
          "127ID-ABCDE",
          "199ID-ABCDE",
          "129ID-ABCDE"
         ],
         "xaxis": "x",
         "y": [
          4689500,
          800000,
          900000,
          1618500,
          6600000,
          1452500,
          900000,
          800000,
          600000,
          600000,
          900000,
          900000,
          600000,
          800000,
          900000,
          1618500,
          1618500,
          900000,
          3029500
         ],
         "yaxis": "y"
        },
        {
         "hovertemplate": "Team=CV<br>Nama produk=%{x}<br>total Pendapatan=%{y}<extra></extra>",
         "legendgroup": "CV",
         "marker": {
          "color": "#B6E880",
          "size": 10,
          "symbol": "circle"
         },
         "mode": "markers",
         "name": "CV",
         "orientation": "v",
         "showlegend": true,
         "type": "scatter",
         "x": [
          "198ID-ABCDE"
         ],
         "xaxis": "x",
         "y": [
          600000
         ],
         "yaxis": "y"
        }
       ],
       "layout": {
        "height": 600,
        "legend": {
         "title": {
          "text": "Team"
         },
         "tracegroupgap": 0
        },
        "template": {
         "data": {
          "bar": [
           {
            "error_x": {
             "color": "#2a3f5f"
            },
            "error_y": {
             "color": "#2a3f5f"
            },
            "marker": {
             "line": {
              "color": "#E5ECF6",
              "width": 0.5
             },
             "pattern": {
              "fillmode": "overlay",
              "size": 10,
              "solidity": 0.2
             }
            },
            "type": "bar"
           }
          ],
          "barpolar": [
           {
            "marker": {
             "line": {
              "color": "#E5ECF6",
              "width": 0.5
             },
             "pattern": {
              "fillmode": "overlay",
              "size": 10,
              "solidity": 0.2
             }
            },
            "type": "barpolar"
           }
          ],
          "carpet": [
           {
            "aaxis": {
             "endlinecolor": "#2a3f5f",
             "gridcolor": "white",
             "linecolor": "white",
             "minorgridcolor": "white",
             "startlinecolor": "#2a3f5f"
            },
            "baxis": {
             "endlinecolor": "#2a3f5f",
             "gridcolor": "white",
             "linecolor": "white",
             "minorgridcolor": "white",
             "startlinecolor": "#2a3f5f"
            },
            "type": "carpet"
           }
          ],
          "choropleth": [
           {
            "colorbar": {
             "outlinewidth": 0,
             "ticks": ""
            },
            "type": "choropleth"
           }
          ],
          "contour": [
           {
            "colorbar": {
             "outlinewidth": 0,
             "ticks": ""
            },
            "colorscale": [
             [
              0,
              "#0d0887"
             ],
             [
              0.1111111111111111,
              "#46039f"
             ],
             [
              0.2222222222222222,
              "#7201a8"
             ],
             [
              0.3333333333333333,
              "#9c179e"
             ],
             [
              0.4444444444444444,
              "#bd3786"
             ],
             [
              0.5555555555555556,
              "#d8576b"
             ],
             [
              0.6666666666666666,
              "#ed7953"
             ],
             [
              0.7777777777777778,
              "#fb9f3a"
             ],
             [
              0.8888888888888888,
              "#fdca26"
             ],
             [
              1,
              "#f0f921"
             ]
            ],
            "type": "contour"
           }
          ],
          "contourcarpet": [
           {
            "colorbar": {
             "outlinewidth": 0,
             "ticks": ""
            },
            "type": "contourcarpet"
           }
          ],
          "heatmap": [
           {
            "colorbar": {
             "outlinewidth": 0,
             "ticks": ""
            },
            "colorscale": [
             [
              0,
              "#0d0887"
             ],
             [
              0.1111111111111111,
              "#46039f"
             ],
             [
              0.2222222222222222,
              "#7201a8"
             ],
             [
              0.3333333333333333,
              "#9c179e"
             ],
             [
              0.4444444444444444,
              "#bd3786"
             ],
             [
              0.5555555555555556,
              "#d8576b"
             ],
             [
              0.6666666666666666,
              "#ed7953"
             ],
             [
              0.7777777777777778,
              "#fb9f3a"
             ],
             [
              0.8888888888888888,
              "#fdca26"
             ],
             [
              1,
              "#f0f921"
             ]
            ],
            "type": "heatmap"
           }
          ],
          "heatmapgl": [
           {
            "colorbar": {
             "outlinewidth": 0,
             "ticks": ""
            },
            "colorscale": [
             [
              0,
              "#0d0887"
             ],
             [
              0.1111111111111111,
              "#46039f"
             ],
             [
              0.2222222222222222,
              "#7201a8"
             ],
             [
              0.3333333333333333,
              "#9c179e"
             ],
             [
              0.4444444444444444,
              "#bd3786"
             ],
             [
              0.5555555555555556,
              "#d8576b"
             ],
             [
              0.6666666666666666,
              "#ed7953"
             ],
             [
              0.7777777777777778,
              "#fb9f3a"
             ],
             [
              0.8888888888888888,
              "#fdca26"
             ],
             [
              1,
              "#f0f921"
             ]
            ],
            "type": "heatmapgl"
           }
          ],
          "histogram": [
           {
            "marker": {
             "pattern": {
              "fillmode": "overlay",
              "size": 10,
              "solidity": 0.2
             }
            },
            "type": "histogram"
           }
          ],
          "histogram2d": [
           {
            "colorbar": {
             "outlinewidth": 0,
             "ticks": ""
            },
            "colorscale": [
             [
              0,
              "#0d0887"
             ],
             [
              0.1111111111111111,
              "#46039f"
             ],
             [
              0.2222222222222222,
              "#7201a8"
             ],
             [
              0.3333333333333333,
              "#9c179e"
             ],
             [
              0.4444444444444444,
              "#bd3786"
             ],
             [
              0.5555555555555556,
              "#d8576b"
             ],
             [
              0.6666666666666666,
              "#ed7953"
             ],
             [
              0.7777777777777778,
              "#fb9f3a"
             ],
             [
              0.8888888888888888,
              "#fdca26"
             ],
             [
              1,
              "#f0f921"
             ]
            ],
            "type": "histogram2d"
           }
          ],
          "histogram2dcontour": [
           {
            "colorbar": {
             "outlinewidth": 0,
             "ticks": ""
            },
            "colorscale": [
             [
              0,
              "#0d0887"
             ],
             [
              0.1111111111111111,
              "#46039f"
             ],
             [
              0.2222222222222222,
              "#7201a8"
             ],
             [
              0.3333333333333333,
              "#9c179e"
             ],
             [
              0.4444444444444444,
              "#bd3786"
             ],
             [
              0.5555555555555556,
              "#d8576b"
             ],
             [
              0.6666666666666666,
              "#ed7953"
             ],
             [
              0.7777777777777778,
              "#fb9f3a"
             ],
             [
              0.8888888888888888,
              "#fdca26"
             ],
             [
              1,
              "#f0f921"
             ]
            ],
            "type": "histogram2dcontour"
           }
          ],
          "mesh3d": [
           {
            "colorbar": {
             "outlinewidth": 0,
             "ticks": ""
            },
            "type": "mesh3d"
           }
          ],
          "parcoords": [
           {
            "line": {
             "colorbar": {
              "outlinewidth": 0,
              "ticks": ""
             }
            },
            "type": "parcoords"
           }
          ],
          "pie": [
           {
            "automargin": true,
            "type": "pie"
           }
          ],
          "scatter": [
           {
            "fillpattern": {
             "fillmode": "overlay",
             "size": 10,
             "solidity": 0.2
            },
            "type": "scatter"
           }
          ],
          "scatter3d": [
           {
            "line": {
             "colorbar": {
              "outlinewidth": 0,
              "ticks": ""
             }
            },
            "marker": {
             "colorbar": {
              "outlinewidth": 0,
              "ticks": ""
             }
            },
            "type": "scatter3d"
           }
          ],
          "scattercarpet": [
           {
            "marker": {
             "colorbar": {
              "outlinewidth": 0,
              "ticks": ""
             }
            },
            "type": "scattercarpet"
           }
          ],
          "scattergeo": [
           {
            "marker": {
             "colorbar": {
              "outlinewidth": 0,
              "ticks": ""
             }
            },
            "type": "scattergeo"
           }
          ],
          "scattergl": [
           {
            "marker": {
             "colorbar": {
              "outlinewidth": 0,
              "ticks": ""
             }
            },
            "type": "scattergl"
           }
          ],
          "scattermapbox": [
           {
            "marker": {
             "colorbar": {
              "outlinewidth": 0,
              "ticks": ""
             }
            },
            "type": "scattermapbox"
           }
          ],
          "scatterpolar": [
           {
            "marker": {
             "colorbar": {
              "outlinewidth": 0,
              "ticks": ""
             }
            },
            "type": "scatterpolar"
           }
          ],
          "scatterpolargl": [
           {
            "marker": {
             "colorbar": {
              "outlinewidth": 0,
              "ticks": ""
             }
            },
            "type": "scatterpolargl"
           }
          ],
          "scatterternary": [
           {
            "marker": {
             "colorbar": {
              "outlinewidth": 0,
              "ticks": ""
             }
            },
            "type": "scatterternary"
           }
          ],
          "surface": [
           {
            "colorbar": {
             "outlinewidth": 0,
             "ticks": ""
            },
            "colorscale": [
             [
              0,
              "#0d0887"
             ],
             [
              0.1111111111111111,
              "#46039f"
             ],
             [
              0.2222222222222222,
              "#7201a8"
             ],
             [
              0.3333333333333333,
              "#9c179e"
             ],
             [
              0.4444444444444444,
              "#bd3786"
             ],
             [
              0.5555555555555556,
              "#d8576b"
             ],
             [
              0.6666666666666666,
              "#ed7953"
             ],
             [
              0.7777777777777778,
              "#fb9f3a"
             ],
             [
              0.8888888888888888,
              "#fdca26"
             ],
             [
              1,
              "#f0f921"
             ]
            ],
            "type": "surface"
           }
          ],
          "table": [
           {
            "cells": {
             "fill": {
              "color": "#EBF0F8"
             },
             "line": {
              "color": "white"
             }
            },
            "header": {
             "fill": {
              "color": "#C8D4E3"
             },
             "line": {
              "color": "white"
             }
            },
            "type": "table"
           }
          ]
         },
         "layout": {
          "annotationdefaults": {
           "arrowcolor": "#2a3f5f",
           "arrowhead": 0,
           "arrowwidth": 1
          },
          "autotypenumbers": "strict",
          "coloraxis": {
           "colorbar": {
            "outlinewidth": 0,
            "ticks": ""
           }
          },
          "colorscale": {
           "diverging": [
            [
             0,
             "#8e0152"
            ],
            [
             0.1,
             "#c51b7d"
            ],
            [
             0.2,
             "#de77ae"
            ],
            [
             0.3,
             "#f1b6da"
            ],
            [
             0.4,
             "#fde0ef"
            ],
            [
             0.5,
             "#f7f7f7"
            ],
            [
             0.6,
             "#e6f5d0"
            ],
            [
             0.7,
             "#b8e186"
            ],
            [
             0.8,
             "#7fbc41"
            ],
            [
             0.9,
             "#4d9221"
            ],
            [
             1,
             "#276419"
            ]
           ],
           "sequential": [
            [
             0,
             "#0d0887"
            ],
            [
             0.1111111111111111,
             "#46039f"
            ],
            [
             0.2222222222222222,
             "#7201a8"
            ],
            [
             0.3333333333333333,
             "#9c179e"
            ],
            [
             0.4444444444444444,
             "#bd3786"
            ],
            [
             0.5555555555555556,
             "#d8576b"
            ],
            [
             0.6666666666666666,
             "#ed7953"
            ],
            [
             0.7777777777777778,
             "#fb9f3a"
            ],
            [
             0.8888888888888888,
             "#fdca26"
            ],
            [
             1,
             "#f0f921"
            ]
           ],
           "sequentialminus": [
            [
             0,
             "#0d0887"
            ],
            [
             0.1111111111111111,
             "#46039f"
            ],
            [
             0.2222222222222222,
             "#7201a8"
            ],
            [
             0.3333333333333333,
             "#9c179e"
            ],
            [
             0.4444444444444444,
             "#bd3786"
            ],
            [
             0.5555555555555556,
             "#d8576b"
            ],
            [
             0.6666666666666666,
             "#ed7953"
            ],
            [
             0.7777777777777778,
             "#fb9f3a"
            ],
            [
             0.8888888888888888,
             "#fdca26"
            ],
            [
             1,
             "#f0f921"
            ]
           ]
          },
          "colorway": [
           "#636efa",
           "#EF553B",
           "#00cc96",
           "#ab63fa",
           "#FFA15A",
           "#19d3f3",
           "#FF6692",
           "#B6E880",
           "#FF97FF",
           "#FECB52"
          ],
          "font": {
           "color": "#2a3f5f"
          },
          "geo": {
           "bgcolor": "white",
           "lakecolor": "white",
           "landcolor": "#E5ECF6",
           "showlakes": true,
           "showland": true,
           "subunitcolor": "white"
          },
          "hoverlabel": {
           "align": "left"
          },
          "hovermode": "closest",
          "mapbox": {
           "style": "light"
          },
          "paper_bgcolor": "white",
          "plot_bgcolor": "#E5ECF6",
          "polar": {
           "angularaxis": {
            "gridcolor": "white",
            "linecolor": "white",
            "ticks": ""
           },
           "bgcolor": "#E5ECF6",
           "radialaxis": {
            "gridcolor": "white",
            "linecolor": "white",
            "ticks": ""
           }
          },
          "scene": {
           "xaxis": {
            "backgroundcolor": "#E5ECF6",
            "gridcolor": "white",
            "gridwidth": 2,
            "linecolor": "white",
            "showbackground": true,
            "ticks": "",
            "zerolinecolor": "white"
           },
           "yaxis": {
            "backgroundcolor": "#E5ECF6",
            "gridcolor": "white",
            "gridwidth": 2,
            "linecolor": "white",
            "showbackground": true,
            "ticks": "",
            "zerolinecolor": "white"
           },
           "zaxis": {
            "backgroundcolor": "#E5ECF6",
            "gridcolor": "white",
            "gridwidth": 2,
            "linecolor": "white",
            "showbackground": true,
            "ticks": "",
            "zerolinecolor": "white"
           }
          },
          "shapedefaults": {
           "line": {
            "color": "#2a3f5f"
           }
          },
          "ternary": {
           "aaxis": {
            "gridcolor": "white",
            "linecolor": "white",
            "ticks": ""
           },
           "baxis": {
            "gridcolor": "white",
            "linecolor": "white",
            "ticks": ""
           },
           "bgcolor": "#E5ECF6",
           "caxis": {
            "gridcolor": "white",
            "linecolor": "white",
            "ticks": ""
           }
          },
          "title": {
           "x": 0.05
          },
          "xaxis": {
           "automargin": true,
           "gridcolor": "white",
           "linecolor": "white",
           "ticks": "",
           "title": {
            "standoff": 15
           },
           "zerolinecolor": "white",
           "zerolinewidth": 2
          },
          "yaxis": {
           "automargin": true,
           "gridcolor": "white",
           "linecolor": "white",
           "ticks": "",
           "title": {
            "standoff": 15
           },
           "zerolinecolor": "white",
           "zerolinewidth": 2
          }
         }
        },
        "title": {
         "text": "Hubungan  Nama Produk, Total penjualan berdasarkan Tim"
        },
        "width": 1000,
        "xaxis": {
         "anchor": "y",
         "domain": [
          0,
          1
         ],
         "title": {
          "text": "Nama produk"
         }
        },
        "yaxis": {
         "anchor": "x",
         "domain": [
          0,
          1
         ],
         "title": {
          "text": "total Pendapatan"
         }
        }
       }
      }
     },
     "metadata": {},
     "output_type": "display_data"
    }
   ],
   "source": [
    "fig = px.scatter(df, x='Product Package Name', y='Total Amt (Local Currency)', color='Team1',\n",
    "                 labels={'Product Package Name': 'Nama produk', 'Total Amt (Local Currency)': 'total Pendapatan', 'Team1': 'Team'},\n",
    "                 title='Hubungan  Nama Produk, Total penjualan berdasarkan Tim')\n",
    "\n",
    "fig.update_traces(\n",
    "    marker=dict(size=10),\n",
    "    selector=dict(mode='markers')\n",
    ")\n",
    "\n",
    "# Mengatur lebar (width) dan tinggi (height) gambar\n",
    "fig.update_layout(\n",
    "    width=1000,  # Ganti angka sesuai dengan lebar yang diinginkan\n",
    "    height=600  # Ganti angka sesuai dengan tinggi yang diinginkan\n",
    ")\n",
    "\n",
    "fig.show()"
   ]
  },
  {
   "cell_type": "markdown",
   "metadata": {},
   "source": [
    "Informasi: Tim FS mendapatkan pendapat lebih besar dari tim lain sedangkan tim CV mendapatkan pendapatan paling kacil dari tim lain."
   ]
  },
  {
   "cell_type": "markdown",
   "metadata": {},
   "source": [
    "## Analisis Tim berdasarkan banyak produk terjual pada bulan Januari"
   ]
  },
  {
   "cell_type": "code",
   "execution_count": 16,
   "metadata": {},
   "outputs": [
    {
     "name": "stdout",
     "output_type": "stream",
     "text": [
      "Tim BR: Total penjualan produk = 884\n",
      "Tim C3: Total penjualan produk = 760\n",
      "Tim TM: Total penjualan produk = 675\n",
      "Tim C2: Total penjualan produk = 2073\n",
      "Tim FS: Total penjualan produk = 5808\n",
      "Tim RT: Total penjualan produk = 220\n",
      "Tim RV: Total penjualan produk = 386\n",
      "Tim CV: Total penjualan produk = 1\n"
     ]
    }
   ],
   "source": [
    "produk_revenue = {}\n",
    "\n",
    "# Iterasi melalui data set dan menghitung total produk untuk setiap tim\n",
    "for index, row in df.iterrows():\n",
    "    Date_Of_Sales, Advertiser_ID, team1, total_ordered_qty, total_amt = row['Date Of Sales'], row['Advertiser ID'], row['Team1'], row['Total Ordered Qty'], row['Total Amt (Local Currency)']\n",
    "    if team1 in produk_revenue:\n",
    "        produk_revenue[team1] += total_ordered_qty\n",
    "    else:\n",
    "        produk_revenue[team1] = total_ordered_qty\n",
    "\n",
    "# Menampilkan total pendapatan masing-masing tim pada bulan Juli\n",
    "for team, total_revenue in produk_revenue.items():\n",
    "    print(f\"Tim {team}: Total penjualan produk = {total_revenue}\")"
   ]
  },
  {
   "cell_type": "code",
   "execution_count": 17,
   "metadata": {},
   "outputs": [
    {
     "data": {
      "image/png": "[encoded data removed]",
      "text/plain": [
       "<Figure size 640x480 with 1 Axes>"
      ]
     },
     "metadata": {},
     "output_type": "display_data"
    }
   ],
   "source": [
    "# Visualisasi dengan Matplotlib\n",
    "teams = list(produk_revenue.keys())\n",
    "revenues = list(produk_revenue.values())\n",
    "\n",
    "plt.bar(teams, revenues)\n",
    "plt.xlabel('Tim')\n",
    "plt.ylabel('Total Pendapatan')\n",
    "plt.title('Total Penjualan produk Masing-Masing Tim pada Bulan januari')\n",
    "plt.xticks(rotation=45)\n",
    "plt.show()"
   ]
  },
  {
   "cell_type": "markdown",
   "metadata": {},
   "source": [
    "Informasi: Tim FS melakukan penjualan produk terbanyak dari tim lain sedangkan tim CV penjualan produk paling sedikit dari tim lain."
   ]
  },
  {
   "cell_type": "markdown",
   "metadata": {},
   "source": [
    "## Analisis produk berdasarkan banyak produk terjual pada bulan Januari"
   ]
  },
  {
   "cell_type": "code",
   "execution_count": 18,
   "metadata": {},
   "outputs": [
    {
     "name": "stdout",
     "output_type": "stream",
     "text": [
      "Produk 179ID-ABCDE: Total Jumlah Terjual = 900\n",
      "Produk 177ID-ABCDE: Total Jumlah Terjual = 700\n",
      "Produk 251ID-ABCDE: Total Jumlah Terjual = 602\n",
      "Produk 140ID-ABCDE: Total Jumlah Terjual = 600\n",
      "Produk 129ID-ABCDE: Total Jumlah Terjual = 555\n",
      "Produk 142ID-ABCDE: Total Jumlah Terjual = 520\n",
      "Produk 173ID-ABCDE: Total Jumlah Terjual = 515\n",
      "Produk 181ID-ABCDE: Total Jumlah Terjual = 500\n",
      "Produk 182ID-ABCDE: Total Jumlah Terjual = 500\n",
      "Produk 127ID-ABCDE: Total Jumlah Terjual = 440\n",
      "Produk 139ID-ABCDE: Total Jumlah Terjual = 380\n",
      "Produk 130ID-ABCDE: Total Jumlah Terjual = 360\n",
      "Produk 199ID-ABCDE: Total Jumlah Terjual = 356\n",
      "Produk 141ID-ABCDE: Total Jumlah Terjual = 350\n",
      "Produk 131ID-ABCDE: Total Jumlah Terjual = 250\n",
      "Produk 260ID-ABCDE: Total Jumlah Terjual = 250\n",
      "Produk 128ID-ABCDE: Total Jumlah Terjual = 224\n",
      "Produk 250ID-ABCDE: Total Jumlah Terjual = 200\n",
      "Produk 178ID-ABCDE: Total Jumlah Terjual = 200\n",
      "Produk 254ID-ABCDE: Total Jumlah Terjual = 200\n",
      "Produk 249ID-ABCDE: Total Jumlah Terjual = 180\n",
      "Produk 264ID-ABCDE: Total Jumlah Terjual = 180\n",
      "Produk 217ID-ABCDE: Total Jumlah Terjual = 160\n",
      "Produk 175ID-ABCDE: Total Jumlah Terjual = 150\n",
      "Produk 256ID-ABCDE: Total Jumlah Terjual = 140\n",
      "Produk 258ID-ABCDE: Total Jumlah Terjual = 130\n",
      "Produk 201ID-ABCDE: Total Jumlah Terjual = 112\n",
      "Produk 204ID-ABCDE: Total Jumlah Terjual = 100\n",
      "Produk 132ID-ABCDE: Total Jumlah Terjual = 100\n",
      "Produk 198ID-ABCDE: Total Jumlah Terjual = 99\n",
      "Produk 200ID-ABCDE: Total Jumlah Terjual = 90\n",
      "Produk 203ID-ABCDE: Total Jumlah Terjual = 90\n",
      "Produk 218ID-ABCDE: Total Jumlah Terjual = 80\n",
      "Produk 261ID-ABCDE: Total Jumlah Terjual = 80\n",
      "Produk /30ID-ABCDE: Total Jumlah Terjual = 76\n",
      "Produk 202ID-ABCDE: Total Jumlah Terjual = 75\n",
      "Produk 148ID-ABCDE: Total Jumlah Terjual = 50\n",
      "Produk 169ID-ABCDE: Total Jumlah Terjual = 50\n",
      "Produk /26ID-ABCDE: Total Jumlah Terjual = 50\n",
      "Produk 259ID-ABCDE: Total Jumlah Terjual = 40\n",
      "Produk 190ID-ABCDE: Total Jumlah Terjual = 30\n",
      "Produk /29ID-ABCDE: Total Jumlah Terjual = 17\n",
      "Produk 884ID-ABCDE: Total Jumlah Terjual = 15\n",
      "Produk /13ID-ABCDE: Total Jumlah Terjual = 15\n",
      "Produk 905ID-ABCDE: Total Jumlah Terjual = 15\n",
      "Produk 255ID-ABCDE: Total Jumlah Terjual = 13\n",
      "Produk 886ID-ABCDE: Total Jumlah Terjual = 12\n",
      "Produk 187ID-ABCDE: Total Jumlah Terjual = 10\n",
      "Produk 146ID-ABCDE: Total Jumlah Terjual = 10\n",
      "Produk 185ID-ABCDE: Total Jumlah Terjual = 7\n",
      "Produk /31ID-ABCDE: Total Jumlah Terjual = 5\n",
      "Produk 126ID-ABCDE: Total Jumlah Terjual = 4\n",
      "Produk 887ID-ABCDE: Total Jumlah Terjual = 4\n",
      "Produk /78ID-ABCDE: Total Jumlah Terjual = 3\n",
      "Produk 125ID-ABCDE: Total Jumlah Terjual = 2\n",
      "Produk /21ID-ABCDE: Total Jumlah Terjual = 2\n",
      "Produk 162ID-ABCDE: Total Jumlah Terjual = 2\n",
      "Produk 163ID-ABCDE: Total Jumlah Terjual = 2\n",
      "Produk 248ID-ABCDE: Total Jumlah Terjual = 1\n",
      "Produk 888ID-ABCDE: Total Jumlah Terjual = 1\n",
      "Produk a/4Ex-ABCDE: Total Jumlah Terjual = 1\n",
      "Produk a/6Ex-ABCDE: Total Jumlah Terjual = 1\n",
      "Produk 257ID-ABCDE: Total Jumlah Terjual = 1\n"
     ]
    }
   ],
   "source": [
    "# Membuat dictionary untuk menyimpan total pendapatan masing-masing produk\n",
    "produk_name = {}\n",
    "\n",
    "# Iterasi melalui data set dan menghitung total Produk di order\n",
    "for index, row in df.iterrows():\n",
    "    Product_Package_Name, total_ordered_qty= row['Product Package Name'], row['Total Ordered Qty']\n",
    "    if Product_Package_Name in produk_name:\n",
    "        produk_name[Product_Package_Name] += total_ordered_qty\n",
    "    else:\n",
    "        produk_name[Product_Package_Name] = total_ordered_qty\n",
    "\n",
    "# Mengurutkan dictionary berdasarkan nilai dari yang terbesar ke terkecil\n",
    "sorted_produk_name = {k: v for k, v in sorted(produk_name.items(), key=lambda item: item[1], reverse=True)}\n",
    "\n",
    "# Menampilkan total jumlah produk yang terjual pada bulan Juli (sudah diurutkan)\n",
    "for produk, produk_name in sorted_produk_name.items():\n",
    "    print(f\"Produk {produk}: Total Jumlah Terjual = {produk_name}\")\n"
   ]
  },
  {
   "cell_type": "code",
   "execution_count": 19,
   "metadata": {},
   "outputs": [
    {
     "data": {
      "image/png": "[encoded data removed]",
      "text/plain": [
       "<Figure size 1500x600 with 1 Axes>"
      ]
     },
     "metadata": {},
     "output_type": "display_data"
    }
   ],
   "source": [
    "plt.figure(figsize=(15, 6))\n",
    "\n",
    "# Visualisasi dengan Matplotlib\n",
    "teams = list(sorted_produk_name.keys())\n",
    "revenues = list(sorted_produk_name.values())\n",
    "\n",
    "plt.bar(teams, revenues)\n",
    "plt.xlabel('Nama produk')\n",
    "plt.ylabel('Total Produk terjual')\n",
    "plt.title('Total Penjualan masing-masing produk Bulan januari')\n",
    "plt.xticks(rotation=45)\n",
    "plt.show()"
   ]
  },
  {
   "cell_type": "markdown",
   "metadata": {},
   "source": [
    "Informasi: produk dengan kode 179ID-ABCDE merupakan produk paling laris dijual pada bulan Januari"
   ]
  },
  {
   "cell_type": "code",
   "execution_count": 20,
   "metadata": {},
   "outputs": [
    {
     "name": "stdout",
     "output_type": "stream",
     "text": [
      "Tim BR: Banyak Produk yang Dijual = {'126ID-ABCDE': 2, '248ID-ABCDE': 1, '199ID-ABCDE': 78, '/30ID-ABCDE': 70, '198ID-ABCDE': 19, '/29ID-ABCDE': 16, '127ID-ABCDE': 135, 'a/4Ex-ABCDE': 1, '130ID-ABCDE': 90, '/13ID-ABCDE': 15, '129ID-ABCDE': 150, 'a/6Ex-ABCDE': 1, '175ID-ABCDE': 50, '203ID-ABCDE': 30, '128ID-ABCDE': 48, '173ID-ABCDE': 40, '131ID-ABCDE': 50, '201ID-ABCDE': 8, '141ID-ABCDE': 70, '/31ID-ABCDE': 5, '200ID-ABCDE': 5}\n",
      "Tim C3: Banyak Produk yang Dijual = {'198ID-ABCDE': 38, '200ID-ABCDE': 30, '199ID-ABCDE': 96, '173ID-ABCDE': 190, '201ID-ABCDE': 32, '127ID-ABCDE': 130, '129ID-ABCDE': 90, '203ID-ABCDE': 30, '218ID-ABCDE': 40, '162ID-ABCDE': 2, '128ID-ABCDE': 40, '185ID-ABCDE': 2, '139ID-ABCDE': 20, '217ID-ABCDE': 20}\n",
      "Tim TM: Banyak Produk yang Dijual = {'198ID-ABCDE': 19, '125ID-ABCDE': 2, '888ID-ABCDE': 1, '199ID-ABCDE': 100, '177ID-ABCDE': 200, '128ID-ABCDE': 48, '127ID-ABCDE': 55, '173ID-ABCDE': 5, '202ID-ABCDE': 15, '163ID-ABCDE': 2, '886ID-ABCDE': 4, '887ID-ABCDE': 4, '146ID-ABCDE': 10, '129ID-ABCDE': 45, '190ID-ABCDE': 30, '169ID-ABCDE': 50, '/78ID-ABCDE': 3, '126ID-ABCDE': 2, '/26ID-ABCDE': 50, '130ID-ABCDE': 30}\n",
      "Tim C2: Banyak Produk yang Dijual = {'198ID-ABCDE': 9, '217ID-ABCDE': 140, '200ID-ABCDE': 50, '199ID-ABCDE': 32, '202ID-ABCDE': 45, '886ID-ABCDE': 4, '173ID-ABCDE': 280, '129ID-ABCDE': 195, '140ID-ABCDE': 360, '148ID-ABCDE': 25, '130ID-ABCDE': 150, '187ID-ABCDE': 10, '201ID-ABCDE': 64, '203ID-ABCDE': 30, '131ID-ABCDE': 100, '185ID-ABCDE': 5, '178ID-ABCDE': 100, '128ID-ABCDE': 48, '139ID-ABCDE': 240, '127ID-ABCDE': 30, '905ID-ABCDE': 15, '257ID-ABCDE': 1, '218ID-ABCDE': 40, '177ID-ABCDE': 100}\n",
      "Tim FS: Banyak Produk yang Dijual = {'177ID-ABCDE': 400, '179ID-ABCDE': 600, '142ID-ABCDE': 520, '139ID-ABCDE': 120, '181ID-ABCDE': 500, '127ID-ABCDE': 20, '250ID-ABCDE': 200, '178ID-ABCDE': 100, '249ID-ABCDE': 180, '251ID-ABCDE': 602, '129ID-ABCDE': 60, '254ID-ABCDE': 200, '140ID-ABCDE': 240, '128ID-ABCDE': 16, '175ID-ABCDE': 100, '255ID-ABCDE': 13, '200ID-ABCDE': 5, '256ID-ABCDE': 140, '204ID-ABCDE': 100, '258ID-ABCDE': 130, '131ID-ABCDE': 50, '202ID-ABCDE': 15, '259ID-ABCDE': 40, '141ID-ABCDE': 280, '148ID-ABCDE': 25, '199ID-ABCDE': 4, '260ID-ABCDE': 250, '130ID-ABCDE': 30, '261ID-ABCDE': 80, '182ID-ABCDE': 500, '201ID-ABCDE': 8, '132ID-ABCDE': 100, '264ID-ABCDE': 180}\n",
      "Tim RT: Banyak Produk yang Dijual = {'/29ID-ABCDE': 1, '199ID-ABCDE': 30, '/30ID-ABCDE': 6, '198ID-ABCDE': 10, '884ID-ABCDE': 15, '130ID-ABCDE': 30, '127ID-ABCDE': 50, '128ID-ABCDE': 24, '886ID-ABCDE': 4, '131ID-ABCDE': 50}\n",
      "Tim RV: Banyak Produk yang Dijual = {'130ID-ABCDE': 30, '/21ID-ABCDE': 2, '199ID-ABCDE': 16, '127ID-ABCDE': 20, '179ID-ABCDE': 300, '198ID-ABCDE': 3, '129ID-ABCDE': 15}\n",
      "Tim CV: Banyak Produk yang Dijual = {'198ID-ABCDE': 1}\n"
     ]
    }
   ],
   "source": [
    "# Membuat dictionary untuk menyimpan set unik nama produk yang dijual oleh masing-masing tim\n",
    "tim_produk = {}\n",
    "\n",
    "# Iterasi melalui data set dan mengumpulkan set unik nama produk untuk setiap tim\n",
    "for index, row in df.iterrows():\n",
    "    team1, product_package_name, total_ordered_qty= row['Team1'], row['Product Package Name'],row['Total Ordered Qty']\n",
    "    if team1 in tim_produk:\n",
    "        if product_package_name in tim_produk[team1]:\n",
    "            tim_produk[team1][product_package_name] += total_ordered_qty\n",
    "        else:\n",
    "            tim_produk[team1][product_package_name] = total_ordered_qty\n",
    "    else:\n",
    "        tim_produk[team1] = {product_package_name: total_ordered_qty}\n",
    "\n",
    "# Menampilkan banyaknya masing-masing produk yang dijual oleh masing-masing tim\n",
    "for tim, produk_count in tim_produk.items():\n",
    "    print(f\"Tim {tim}: Banyak Produk yang Dijual = {produk_count}\")"
   ]
  },
  {
   "cell_type": "code",
   "execution_count": 21,
   "metadata": {},
   "outputs": [
    {
     "data": {
      "text/plain": [
       "Index(['Date Of Sales', 'Advertiser ID', 'Team1', 'Product Package Name',\n",
       "       'Total Ordered Qty', 'Total Amt (Local Currency)', 'Paid/Free'],\n",
       "      dtype='object')"
      ]
     },
     "execution_count": 21,
     "metadata": {},
     "output_type": "execute_result"
    }
   ],
   "source": [
    "df.columns"
   ]
  },
  {
   "cell_type": "code",
   "execution_count": 22,
   "metadata": {},
   "outputs": [
    {
     "data": {
      "application/vnd.plotly.v1+json": {
       "config": {
        "plotlyServerURL": "https://plot.ly"
       },
       "data": [
        {
         "hovertemplate": "Team=BR<br>Nama produk=%{x}<br>total orderan suatu produk=%{y}<extra></extra>",
         "legendgroup": "BR",
         "marker": {
          "color": "#636efa",
          "size": 10,
          "symbol": "circle"
         },
         "mode": "markers",
         "name": "BR",
         "orientation": "v",
         "showlegend": true,
         "type": "scatter",
         "x": [
          "126ID-ABCDE",
          "248ID-ABCDE",
          "199ID-ABCDE",
          "199ID-ABCDE",
          "199ID-ABCDE",
          "/30ID-ABCDE",
          "198ID-ABCDE",
          "199ID-ABCDE",
          "/30ID-ABCDE",
          "199ID-ABCDE",
          "/29ID-ABCDE",
          "199ID-ABCDE",
          "198ID-ABCDE",
          "199ID-ABCDE",
          "199ID-ABCDE",
          "199ID-ABCDE",
          "127ID-ABCDE",
          "127ID-ABCDE",
          "/29ID-ABCDE",
          "127ID-ABCDE",
          "198ID-ABCDE",
          "199ID-ABCDE",
          "198ID-ABCDE",
          "/29ID-ABCDE",
          "199ID-ABCDE",
          "/29ID-ABCDE",
          "/29ID-ABCDE",
          "/30ID-ABCDE",
          "198ID-ABCDE",
          "a/4Ex-ABCDE",
          "198ID-ABCDE",
          "130ID-ABCDE",
          "/13ID-ABCDE",
          "127ID-ABCDE",
          "129ID-ABCDE",
          "a/6Ex-ABCDE",
          "127ID-ABCDE",
          "199ID-ABCDE",
          "175ID-ABCDE",
          "203ID-ABCDE",
          "128ID-ABCDE",
          "/29ID-ABCDE",
          "/30ID-ABCDE",
          "127ID-ABCDE",
          "199ID-ABCDE",
          "198ID-ABCDE",
          "199ID-ABCDE",
          "/30ID-ABCDE",
          "/30ID-ABCDE",
          "127ID-ABCDE",
          "/30ID-ABCDE",
          "/29ID-ABCDE",
          "199ID-ABCDE",
          "/30ID-ABCDE",
          "199ID-ABCDE",
          "127ID-ABCDE",
          "173ID-ABCDE",
          "198ID-ABCDE",
          "/29ID-ABCDE",
          "127ID-ABCDE",
          "198ID-ABCDE",
          "129ID-ABCDE",
          "129ID-ABCDE",
          "198ID-ABCDE",
          "/30ID-ABCDE",
          "199ID-ABCDE",
          "/30ID-ABCDE",
          "/29ID-ABCDE",
          "199ID-ABCDE",
          "130ID-ABCDE",
          "198ID-ABCDE",
          "/30ID-ABCDE",
          "127ID-ABCDE",
          "127ID-ABCDE",
          "131ID-ABCDE",
          "/30ID-ABCDE",
          "/30ID-ABCDE",
          "127ID-ABCDE",
          "199ID-ABCDE",
          "201ID-ABCDE",
          "199ID-ABCDE",
          "/30ID-ABCDE",
          "/30ID-ABCDE",
          "199ID-ABCDE",
          "127ID-ABCDE",
          "/29ID-ABCDE",
          "/30ID-ABCDE",
          "/30ID-ABCDE",
          "199ID-ABCDE",
          "141ID-ABCDE",
          "141ID-ABCDE",
          "199ID-ABCDE",
          "198ID-ABCDE",
          "127ID-ABCDE",
          "127ID-ABCDE",
          "129ID-ABCDE",
          "/30ID-ABCDE",
          "/29ID-ABCDE",
          "/30ID-ABCDE",
          "127ID-ABCDE",
          "130ID-ABCDE",
          "/31ID-ABCDE",
          "/30ID-ABCDE",
          "/30ID-ABCDE",
          "199ID-ABCDE",
          "129ID-ABCDE",
          "127ID-ABCDE",
          "129ID-ABCDE",
          "/30ID-ABCDE",
          "199ID-ABCDE",
          "198ID-ABCDE",
          "/30ID-ABCDE",
          "/29ID-ABCDE",
          "127ID-ABCDE",
          "/30ID-ABCDE",
          "199ID-ABCDE",
          "/30ID-ABCDE",
          "199ID-ABCDE",
          "/29ID-ABCDE",
          "199ID-ABCDE",
          "/30ID-ABCDE",
          "/30ID-ABCDE",
          "198ID-ABCDE",
          "128ID-ABCDE",
          "199ID-ABCDE",
          "198ID-ABCDE",
          "199ID-ABCDE",
          "/30ID-ABCDE",
          "127ID-ABCDE",
          "128ID-ABCDE",
          "199ID-ABCDE",
          "198ID-ABCDE",
          "128ID-ABCDE",
          "127ID-ABCDE",
          "/29ID-ABCDE",
          "199ID-ABCDE",
          "127ID-ABCDE",
          "173ID-ABCDE",
          "128ID-ABCDE",
          "/30ID-ABCDE",
          "199ID-ABCDE",
          "127ID-ABCDE",
          "127ID-ABCDE",
          "198ID-ABCDE",
          "127ID-ABCDE",
          "129ID-ABCDE",
          "199ID-ABCDE",
          "129ID-ABCDE",
          "127ID-ABCDE",
          "199ID-ABCDE",
          "198ID-ABCDE",
          "199ID-ABCDE",
          "198ID-ABCDE",
          "200ID-ABCDE",
          "/29ID-ABCDE",
          "127ID-ABCDE",
          "199ID-ABCDE",
          "/30ID-ABCDE",
          "/30ID-ABCDE",
          "/30ID-ABCDE",
          "199ID-ABCDE",
          "/30ID-ABCDE",
          "199ID-ABCDE",
          "129ID-ABCDE",
          "127ID-ABCDE",
          "128ID-ABCDE",
          "/30ID-ABCDE",
          "129ID-ABCDE",
          "/29ID-ABCDE"
         ],
         "xaxis": "x",
         "y": [
          2,
          1,
          2,
          2,
          2,
          2,
          1,
          2,
          2,
          2,
          1,
          2,
          1,
          2,
          2,
          2,
          5,
          5,
          1,
          5,
          1,
          2,
          1,
          1,
          2,
          1,
          1,
          2,
          1,
          1,
          1,
          30,
          15,
          5,
          15,
          1,
          5,
          2,
          50,
          30,
          8,
          1,
          2,
          5,
          2,
          1,
          2,
          2,
          2,
          5,
          2,
          1,
          2,
          2,
          2,
          5,
          30,
          1,
          1,
          5,
          1,
          15,
          15,
          1,
          2,
          2,
          2,
          1,
          2,
          30,
          1,
          2,
          5,
          5,
          50,
          2,
          2,
          5,
          2,
          8,
          2,
          2,
          2,
          2,
          5,
          1,
          2,
          4,
          2,
          50,
          20,
          2,
          1,
          5,
          5,
          15,
          2,
          1,
          2,
          5,
          30,
          5,
          2,
          2,
          2,
          15,
          5,
          15,
          2,
          2,
          1,
          2,
          1,
          5,
          2,
          2,
          2,
          2,
          1,
          2,
          2,
          2,
          1,
          8,
          2,
          1,
          2,
          2,
          5,
          8,
          2,
          1,
          8,
          5,
          1,
          2,
          5,
          10,
          8,
          2,
          2,
          5,
          5,
          1,
          5,
          15,
          2,
          15,
          5,
          2,
          1,
          2,
          1,
          5,
          1,
          5,
          2,
          2,
          2,
          2,
          2,
          2,
          2,
          15,
          5,
          8,
          2,
          15,
          1
         ],
         "yaxis": "y"
        },
        {
         "hovertemplate": "Team=C3<br>Nama produk=%{x}<br>total orderan suatu produk=%{y}<extra></extra>",
         "legendgroup": "C3",
         "marker": {
          "color": "#EF553B",
          "size": 10,
          "symbol": "circle"
         },
         "mode": "markers",
         "name": "C3",
         "orientation": "v",
         "showlegend": true,
         "type": "scatter",
         "x": [
          "198ID-ABCDE",
          "200ID-ABCDE",
          "199ID-ABCDE",
          "199ID-ABCDE",
          "198ID-ABCDE",
          "199ID-ABCDE",
          "199ID-ABCDE",
          "199ID-ABCDE",
          "173ID-ABCDE",
          "199ID-ABCDE",
          "198ID-ABCDE",
          "198ID-ABCDE",
          "199ID-ABCDE",
          "173ID-ABCDE",
          "201ID-ABCDE",
          "200ID-ABCDE",
          "127ID-ABCDE",
          "198ID-ABCDE",
          "129ID-ABCDE",
          "203ID-ABCDE",
          "129ID-ABCDE",
          "173ID-ABCDE",
          "199ID-ABCDE",
          "198ID-ABCDE",
          "199ID-ABCDE",
          "127ID-ABCDE",
          "199ID-ABCDE",
          "198ID-ABCDE",
          "218ID-ABCDE",
          "218ID-ABCDE",
          "199ID-ABCDE",
          "198ID-ABCDE",
          "198ID-ABCDE",
          "173ID-ABCDE",
          "200ID-ABCDE",
          "199ID-ABCDE",
          "198ID-ABCDE",
          "199ID-ABCDE",
          "173ID-ABCDE",
          "198ID-ABCDE",
          "199ID-ABCDE",
          "129ID-ABCDE",
          "162ID-ABCDE",
          "199ID-ABCDE",
          "127ID-ABCDE",
          "173ID-ABCDE",
          "199ID-ABCDE",
          "127ID-ABCDE",
          "128ID-ABCDE",
          "198ID-ABCDE",
          "199ID-ABCDE",
          "198ID-ABCDE",
          "129ID-ABCDE",
          "127ID-ABCDE",
          "198ID-ABCDE",
          "199ID-ABCDE",
          "162ID-ABCDE",
          "198ID-ABCDE",
          "173ID-ABCDE",
          "201ID-ABCDE",
          "199ID-ABCDE",
          "173ID-ABCDE",
          "200ID-ABCDE",
          "127ID-ABCDE",
          "127ID-ABCDE",
          "199ID-ABCDE",
          "199ID-ABCDE",
          "198ID-ABCDE",
          "173ID-ABCDE",
          "199ID-ABCDE",
          "128ID-ABCDE",
          "173ID-ABCDE",
          "127ID-ABCDE",
          "173ID-ABCDE",
          "185ID-ABCDE",
          "199ID-ABCDE",
          "198ID-ABCDE",
          "199ID-ABCDE",
          "198ID-ABCDE",
          "199ID-ABCDE",
          "198ID-ABCDE",
          "198ID-ABCDE",
          "199ID-ABCDE",
          "139ID-ABCDE",
          "139ID-ABCDE",
          "198ID-ABCDE",
          "199ID-ABCDE",
          "173ID-ABCDE",
          "199ID-ABCDE",
          "199ID-ABCDE",
          "199ID-ABCDE",
          "199ID-ABCDE",
          "199ID-ABCDE",
          "199ID-ABCDE",
          "199ID-ABCDE",
          "198ID-ABCDE",
          "198ID-ABCDE",
          "127ID-ABCDE",
          "173ID-ABCDE",
          "201ID-ABCDE",
          "199ID-ABCDE",
          "199ID-ABCDE",
          "198ID-ABCDE",
          "198ID-ABCDE",
          "199ID-ABCDE",
          "127ID-ABCDE",
          "173ID-ABCDE",
          "127ID-ABCDE",
          "127ID-ABCDE",
          "198ID-ABCDE",
          "198ID-ABCDE",
          "127ID-ABCDE",
          "199ID-ABCDE",
          "127ID-ABCDE",
          "198ID-ABCDE",
          "199ID-ABCDE",
          "199ID-ABCDE",
          "127ID-ABCDE",
          "198ID-ABCDE",
          "127ID-ABCDE",
          "173ID-ABCDE",
          "199ID-ABCDE",
          "128ID-ABCDE",
          "127ID-ABCDE",
          "200ID-ABCDE",
          "199ID-ABCDE",
          "199ID-ABCDE",
          "200ID-ABCDE",
          "127ID-ABCDE",
          "198ID-ABCDE",
          "127ID-ABCDE",
          "127ID-ABCDE",
          "198ID-ABCDE",
          "198ID-ABCDE",
          "127ID-ABCDE",
          "199ID-ABCDE",
          "129ID-ABCDE",
          "173ID-ABCDE",
          "199ID-ABCDE",
          "198ID-ABCDE",
          "128ID-ABCDE",
          "198ID-ABCDE",
          "127ID-ABCDE",
          "198ID-ABCDE",
          "199ID-ABCDE",
          "198ID-ABCDE",
          "198ID-ABCDE",
          "127ID-ABCDE",
          "129ID-ABCDE",
          "128ID-ABCDE",
          "217ID-ABCDE",
          "217ID-ABCDE",
          "127ID-ABCDE",
          "127ID-ABCDE",
          "199ID-ABCDE",
          "199ID-ABCDE",
          "127ID-ABCDE",
          "201ID-ABCDE"
         ],
         "xaxis": "x",
         "y": [
          1,
          5,
          2,
          2,
          1,
          2,
          2,
          2,
          10,
          2,
          1,
          1,
          2,
          10,
          8,
          5,
          5,
          1,
          15,
          30,
          15,
          10,
          2,
          1,
          2,
          5,
          2,
          1,
          30,
          10,
          2,
          1,
          1,
          10,
          5,
          2,
          1,
          2,
          10,
          1,
          2,
          15,
          1,
          2,
          5,
          10,
          2,
          5,
          8,
          1,
          2,
          2,
          15,
          5,
          1,
          2,
          1,
          1,
          10,
          8,
          2,
          10,
          5,
          5,
          5,
          2,
          2,
          1,
          10,
          2,
          8,
          20,
          5,
          10,
          2,
          2,
          1,
          2,
          1,
          2,
          1,
          1,
          2,
          15,
          5,
          1,
          2,
          10,
          2,
          2,
          2,
          2,
          2,
          2,
          2,
          1,
          1,
          5,
          10,
          8,
          2,
          2,
          1,
          1,
          2,
          5,
          20,
          5,
          5,
          1,
          1,
          5,
          2,
          5,
          1,
          2,
          2,
          5,
          1,
          5,
          10,
          2,
          8,
          5,
          5,
          2,
          2,
          5,
          5,
          1,
          5,
          5,
          1,
          1,
          5,
          2,
          15,
          20,
          2,
          1,
          8,
          1,
          5,
          1,
          2,
          1,
          1,
          5,
          15,
          8,
          15,
          5,
          5,
          5,
          2,
          2,
          5,
          8
         ],
         "yaxis": "y"
        },
        {
         "hovertemplate": "Team=TM<br>Nama produk=%{x}<br>total orderan suatu produk=%{y}<extra></extra>",
         "legendgroup": "TM",
         "marker": {
          "color": "#00cc96",
          "size": 10,
          "symbol": "circle"
         },
         "mode": "markers",
         "name": "TM",
         "orientation": "v",
         "showlegend": true,
         "type": "scatter",
         "x": [
          "198ID-ABCDE",
          "125ID-ABCDE",
          "198ID-ABCDE",
          "888ID-ABCDE",
          "198ID-ABCDE",
          "199ID-ABCDE",
          "199ID-ABCDE",
          "198ID-ABCDE",
          "177ID-ABCDE",
          "128ID-ABCDE",
          "127ID-ABCDE",
          "199ID-ABCDE",
          "199ID-ABCDE",
          "199ID-ABCDE",
          "199ID-ABCDE",
          "198ID-ABCDE",
          "128ID-ABCDE",
          "199ID-ABCDE",
          "198ID-ABCDE",
          "128ID-ABCDE",
          "173ID-ABCDE",
          "198ID-ABCDE",
          "199ID-ABCDE",
          "202ID-ABCDE",
          "127ID-ABCDE",
          "127ID-ABCDE",
          "198ID-ABCDE",
          "199ID-ABCDE",
          "127ID-ABCDE",
          "199ID-ABCDE",
          "198ID-ABCDE",
          "199ID-ABCDE",
          "199ID-ABCDE",
          "199ID-ABCDE",
          "127ID-ABCDE",
          "127ID-ABCDE",
          "199ID-ABCDE",
          "198ID-ABCDE",
          "199ID-ABCDE",
          "199ID-ABCDE",
          "199ID-ABCDE",
          "198ID-ABCDE",
          "163ID-ABCDE",
          "199ID-ABCDE",
          "199ID-ABCDE",
          "127ID-ABCDE",
          "199ID-ABCDE",
          "128ID-ABCDE",
          "198ID-ABCDE",
          "127ID-ABCDE",
          "199ID-ABCDE",
          "886ID-ABCDE",
          "199ID-ABCDE",
          "199ID-ABCDE",
          "127ID-ABCDE",
          "887ID-ABCDE",
          "199ID-ABCDE",
          "199ID-ABCDE",
          "199ID-ABCDE",
          "199ID-ABCDE",
          "199ID-ABCDE",
          "199ID-ABCDE",
          "199ID-ABCDE",
          "199ID-ABCDE",
          "199ID-ABCDE",
          "146ID-ABCDE",
          "129ID-ABCDE",
          "199ID-ABCDE",
          "199ID-ABCDE",
          "190ID-ABCDE",
          "199ID-ABCDE",
          "199ID-ABCDE",
          "169ID-ABCDE",
          "/78ID-ABCDE",
          "199ID-ABCDE",
          "128ID-ABCDE",
          "126ID-ABCDE",
          "198ID-ABCDE",
          "199ID-ABCDE",
          "177ID-ABCDE",
          "199ID-ABCDE",
          "/26ID-ABCDE",
          "199ID-ABCDE",
          "130ID-ABCDE",
          "199ID-ABCDE",
          "199ID-ABCDE",
          "199ID-ABCDE",
          "198ID-ABCDE",
          "199ID-ABCDE",
          "198ID-ABCDE",
          "199ID-ABCDE",
          "199ID-ABCDE",
          "198ID-ABCDE",
          "129ID-ABCDE",
          "199ID-ABCDE",
          "199ID-ABCDE",
          "199ID-ABCDE",
          "199ID-ABCDE",
          "127ID-ABCDE",
          "198ID-ABCDE",
          "887ID-ABCDE",
          "128ID-ABCDE",
          "127ID-ABCDE",
          "129ID-ABCDE",
          "198ID-ABCDE",
          "198ID-ABCDE"
         ],
         "xaxis": "x",
         "y": [
          1,
          2,
          1,
          1,
          1,
          2,
          2,
          1,
          100,
          8,
          5,
          2,
          2,
          2,
          2,
          1,
          8,
          2,
          1,
          8,
          5,
          1,
          2,
          15,
          5,
          5,
          1,
          2,
          5,
          2,
          1,
          2,
          2,
          2,
          5,
          5,
          2,
          1,
          2,
          2,
          2,
          1,
          2,
          2,
          2,
          5,
          2,
          8,
          1,
          5,
          2,
          4,
          2,
          2,
          5,
          2,
          2,
          2,
          2,
          2,
          2,
          2,
          2,
          2,
          2,
          10,
          15,
          2,
          2,
          30,
          2,
          2,
          50,
          3,
          2,
          8,
          2,
          1,
          2,
          100,
          2,
          50,
          2,
          30,
          2,
          2,
          2,
          1,
          2,
          1,
          2,
          2,
          1,
          15,
          2,
          2,
          2,
          2,
          5,
          1,
          2,
          8,
          5,
          15,
          1,
          1
         ],
         "yaxis": "y"
        },
        {
         "hovertemplate": "Team=C2<br>Nama produk=%{x}<br>total orderan suatu produk=%{y}<extra></extra>",
         "legendgroup": "C2",
         "marker": {
          "color": "#ab63fa",
          "size": 10,
          "symbol": "circle"
         },
         "mode": "markers",
         "name": "C2",
         "orientation": "v",
         "showlegend": true,
         "type": "scatter",
         "x": [
          "198ID-ABCDE",
          "198ID-ABCDE",
          "217ID-ABCDE",
          "217ID-ABCDE",
          "217ID-ABCDE",
          "217ID-ABCDE",
          "217ID-ABCDE",
          "217ID-ABCDE",
          "200ID-ABCDE",
          "199ID-ABCDE",
          "202ID-ABCDE",
          "200ID-ABCDE",
          "202ID-ABCDE",
          "198ID-ABCDE",
          "886ID-ABCDE",
          "202ID-ABCDE",
          "198ID-ABCDE",
          "199ID-ABCDE",
          "173ID-ABCDE",
          "199ID-ABCDE",
          "199ID-ABCDE",
          "129ID-ABCDE",
          "140ID-ABCDE",
          "140ID-ABCDE",
          "173ID-ABCDE",
          "200ID-ABCDE",
          "148ID-ABCDE",
          "140ID-ABCDE",
          "140ID-ABCDE",
          "173ID-ABCDE",
          "129ID-ABCDE",
          "199ID-ABCDE",
          "130ID-ABCDE",
          "173ID-ABCDE",
          "129ID-ABCDE",
          "187ID-ABCDE",
          "201ID-ABCDE",
          "199ID-ABCDE",
          "203ID-ABCDE",
          "131ID-ABCDE",
          "173ID-ABCDE",
          "199ID-ABCDE",
          "129ID-ABCDE",
          "199ID-ABCDE",
          "199ID-ABCDE",
          "185ID-ABCDE",
          "199ID-ABCDE",
          "217ID-ABCDE",
          "217ID-ABCDE",
          "129ID-ABCDE",
          "140ID-ABCDE",
          "140ID-ABCDE",
          "173ID-ABCDE",
          "200ID-ABCDE",
          "201ID-ABCDE",
          "129ID-ABCDE",
          "140ID-ABCDE",
          "140ID-ABCDE",
          "178ID-ABCDE",
          "199ID-ABCDE",
          "173ID-ABCDE",
          "201ID-ABCDE",
          "199ID-ABCDE",
          "128ID-ABCDE",
          "129ID-ABCDE",
          "128ID-ABCDE",
          "139ID-ABCDE",
          "139ID-ABCDE",
          "217ID-ABCDE",
          "217ID-ABCDE",
          "139ID-ABCDE",
          "139ID-ABCDE",
          "127ID-ABCDE",
          "200ID-ABCDE",
          "905ID-ABCDE",
          "129ID-ABCDE",
          "140ID-ABCDE",
          "140ID-ABCDE",
          "199ID-ABCDE",
          "130ID-ABCDE",
          "139ID-ABCDE",
          "139ID-ABCDE",
          "173ID-ABCDE",
          "201ID-ABCDE",
          "185ID-ABCDE",
          "199ID-ABCDE",
          "257ID-ABCDE",
          "201ID-ABCDE",
          "217ID-ABCDE",
          "217ID-ABCDE",
          "139ID-ABCDE",
          "139ID-ABCDE",
          "139ID-ABCDE",
          "139ID-ABCDE",
          "129ID-ABCDE",
          "139ID-ABCDE",
          "139ID-ABCDE",
          "173ID-ABCDE",
          "130ID-ABCDE",
          "130ID-ABCDE",
          "131ID-ABCDE",
          "185ID-ABCDE",
          "198ID-ABCDE",
          "199ID-ABCDE",
          "140ID-ABCDE",
          "140ID-ABCDE",
          "173ID-ABCDE",
          "201ID-ABCDE",
          "200ID-ABCDE",
          "905ID-ABCDE",
          "200ID-ABCDE",
          "140ID-ABCDE",
          "140ID-ABCDE",
          "173ID-ABCDE",
          "201ID-ABCDE",
          "139ID-ABCDE",
          "139ID-ABCDE",
          "218ID-ABCDE",
          "218ID-ABCDE",
          "139ID-ABCDE",
          "139ID-ABCDE",
          "173ID-ABCDE",
          "128ID-ABCDE",
          "199ID-ABCDE",
          "177ID-ABCDE",
          "128ID-ABCDE",
          "173ID-ABCDE",
          "200ID-ABCDE",
          "905ID-ABCDE",
          "127ID-ABCDE",
          "140ID-ABCDE",
          "140ID-ABCDE",
          "127ID-ABCDE",
          "128ID-ABCDE",
          "217ID-ABCDE",
          "217ID-ABCDE",
          "128ID-ABCDE",
          "139ID-ABCDE",
          "139ID-ABCDE",
          "198ID-ABCDE",
          "139ID-ABCDE",
          "139ID-ABCDE",
          "139ID-ABCDE",
          "139ID-ABCDE",
          "127ID-ABCDE",
          "198ID-ABCDE",
          "173ID-ABCDE",
          "200ID-ABCDE",
          "198ID-ABCDE",
          "127ID-ABCDE",
          "129ID-ABCDE",
          "187ID-ABCDE",
          "200ID-ABCDE",
          "130ID-ABCDE",
          "198ID-ABCDE",
          "127ID-ABCDE",
          "140ID-ABCDE",
          "140ID-ABCDE",
          "129ID-ABCDE",
          "139ID-ABCDE",
          "139ID-ABCDE",
          "173ID-ABCDE",
          "201ID-ABCDE",
          "129ID-ABCDE",
          "173ID-ABCDE",
          "129ID-ABCDE"
         ],
         "xaxis": "x",
         "y": [
          1,
          1,
          15,
          5,
          15,
          5,
          15,
          5,
          5,
          2,
          15,
          5,
          15,
          1,
          4,
          15,
          1,
          2,
          10,
          2,
          2,
          15,
          30,
          10,
          20,
          5,
          25,
          30,
          10,
          20,
          15,
          2,
          30,
          25,
          15,
          5,
          8,
          2,
          30,
          50,
          20,
          2,
          15,
          2,
          2,
          2,
          2,
          15,
          5,
          15,
          30,
          10,
          20,
          5,
          8,
          15,
          30,
          10,
          100,
          2,
          15,
          8,
          2,
          8,
          15,
          8,
          15,
          5,
          15,
          5,
          15,
          5,
          5,
          5,
          5,
          15,
          30,
          10,
          2,
          30,
          15,
          5,
          15,
          8,
          2,
          2,
          1,
          8,
          15,
          5,
          15,
          5,
          15,
          5,
          15,
          15,
          5,
          20,
          30,
          30,
          50,
          1,
          1,
          2,
          30,
          10,
          20,
          8,
          5,
          5,
          5,
          30,
          10,
          15,
          8,
          15,
          5,
          30,
          10,
          15,
          5,
          15,
          8,
          2,
          100,
          8,
          20,
          5,
          5,
          5,
          30,
          10,
          5,
          8,
          15,
          5,
          8,
          15,
          5,
          1,
          15,
          5,
          15,
          5,
          5,
          1,
          10,
          5,
          1,
          5,
          15,
          5,
          5,
          30,
          1,
          5,
          30,
          10,
          15,
          15,
          5,
          15,
          8,
          15,
          20,
          15
         ],
         "yaxis": "y"
        },
        {
         "hovertemplate": "Team=FS<br>Nama produk=%{x}<br>total orderan suatu produk=%{y}<extra></extra>",
         "legendgroup": "FS",
         "marker": {
          "color": "#FFA15A",
          "size": 10,
          "symbol": "circle"
         },
         "mode": "markers",
         "name": "FS",
         "orientation": "v",
         "showlegend": true,
         "type": "scatter",
         "x": [
          "177ID-ABCDE",
          "179ID-ABCDE",
          "142ID-ABCDE",
          "142ID-ABCDE",
          "139ID-ABCDE",
          "139ID-ABCDE",
          "181ID-ABCDE",
          "139ID-ABCDE",
          "139ID-ABCDE",
          "127ID-ABCDE",
          "250ID-ABCDE",
          "250ID-ABCDE",
          "178ID-ABCDE",
          "139ID-ABCDE",
          "139ID-ABCDE",
          "177ID-ABCDE",
          "249ID-ABCDE",
          "249ID-ABCDE",
          "249ID-ABCDE",
          "251ID-ABCDE",
          "251ID-ABCDE",
          "251ID-ABCDE",
          "129ID-ABCDE",
          "127ID-ABCDE",
          "254ID-ABCDE",
          "254ID-ABCDE",
          "140ID-ABCDE",
          "140ID-ABCDE",
          "128ID-ABCDE",
          "175ID-ABCDE",
          "255ID-ABCDE",
          "255ID-ABCDE",
          "200ID-ABCDE",
          "256ID-ABCDE",
          "256ID-ABCDE",
          "256ID-ABCDE",
          "129ID-ABCDE",
          "204ID-ABCDE",
          "258ID-ABCDE",
          "258ID-ABCDE",
          "204ID-ABCDE",
          "179ID-ABCDE",
          "129ID-ABCDE",
          "140ID-ABCDE",
          "140ID-ABCDE",
          "129ID-ABCDE",
          "139ID-ABCDE",
          "139ID-ABCDE",
          "131ID-ABCDE",
          "202ID-ABCDE",
          "259ID-ABCDE",
          "259ID-ABCDE",
          "259ID-ABCDE",
          "139ID-ABCDE",
          "139ID-ABCDE",
          "127ID-ABCDE",
          "142ID-ABCDE",
          "142ID-ABCDE",
          "140ID-ABCDE",
          "140ID-ABCDE",
          "141ID-ABCDE",
          "141ID-ABCDE",
          "148ID-ABCDE",
          "128ID-ABCDE",
          "177ID-ABCDE",
          "141ID-ABCDE",
          "141ID-ABCDE",
          "199ID-ABCDE",
          "142ID-ABCDE",
          "142ID-ABCDE",
          "139ID-ABCDE",
          "139ID-ABCDE",
          "175ID-ABCDE",
          "260ID-ABCDE",
          "260ID-ABCDE",
          "130ID-ABCDE",
          "127ID-ABCDE",
          "261ID-ABCDE",
          "261ID-ABCDE",
          "141ID-ABCDE",
          "141ID-ABCDE",
          "140ID-ABCDE",
          "140ID-ABCDE",
          "142ID-ABCDE",
          "142ID-ABCDE",
          "182ID-ABCDE",
          "199ID-ABCDE",
          "177ID-ABCDE",
          "201ID-ABCDE",
          "140ID-ABCDE",
          "140ID-ABCDE",
          "141ID-ABCDE",
          "141ID-ABCDE",
          "132ID-ABCDE",
          "264ID-ABCDE",
          "264ID-ABCDE",
          "264ID-ABCDE",
          "140ID-ABCDE",
          "140ID-ABCDE"
         ],
         "xaxis": "x",
         "y": [
          100,
          300,
          100,
          30,
          15,
          5,
          500,
          15,
          5,
          5,
          150,
          50,
          100,
          15,
          5,
          100,
          100,
          50,
          30,
          100,
          500,
          2,
          15,
          5,
          100,
          100,
          30,
          10,
          8,
          50,
          8,
          5,
          5,
          30,
          100,
          10,
          15,
          50,
          30,
          100,
          50,
          300,
          15,
          30,
          10,
          15,
          15,
          5,
          50,
          15,
          15,
          20,
          5,
          15,
          5,
          5,
          100,
          30,
          30,
          10,
          50,
          20,
          25,
          8,
          100,
          50,
          20,
          2,
          100,
          30,
          15,
          5,
          50,
          150,
          100,
          30,
          5,
          30,
          50,
          50,
          20,
          30,
          10,
          100,
          30,
          500,
          2,
          100,
          8,
          30,
          10,
          50,
          20,
          100,
          100,
          50,
          30,
          30,
          10
         ],
         "yaxis": "y"
        },
        {
         "hovertemplate": "Team=RT<br>Nama produk=%{x}<br>total orderan suatu produk=%{y}<extra></extra>",
         "legendgroup": "RT",
         "marker": {
          "color": "#19d3f3",
          "size": 10,
          "symbol": "circle"
         },
         "mode": "markers",
         "name": "RT",
         "orientation": "v",
         "showlegend": true,
         "type": "scatter",
         "x": [
          "/29ID-ABCDE",
          "199ID-ABCDE",
          "/30ID-ABCDE",
          "199ID-ABCDE",
          "/30ID-ABCDE",
          "198ID-ABCDE",
          "884ID-ABCDE",
          "199ID-ABCDE",
          "130ID-ABCDE",
          "127ID-ABCDE",
          "199ID-ABCDE",
          "128ID-ABCDE",
          "199ID-ABCDE",
          "198ID-ABCDE",
          "198ID-ABCDE",
          "199ID-ABCDE",
          "886ID-ABCDE",
          "127ID-ABCDE",
          "199ID-ABCDE",
          "127ID-ABCDE",
          "198ID-ABCDE",
          "199ID-ABCDE",
          "127ID-ABCDE",
          "127ID-ABCDE",
          "127ID-ABCDE",
          "199ID-ABCDE",
          "128ID-ABCDE",
          "127ID-ABCDE",
          "131ID-ABCDE",
          "127ID-ABCDE",
          "198ID-ABCDE",
          "128ID-ABCDE",
          "199ID-ABCDE",
          "199ID-ABCDE",
          "199ID-ABCDE",
          "127ID-ABCDE",
          "198ID-ABCDE",
          "198ID-ABCDE",
          "198ID-ABCDE",
          "199ID-ABCDE",
          "199ID-ABCDE",
          "198ID-ABCDE",
          "127ID-ABCDE",
          "198ID-ABCDE",
          "199ID-ABCDE",
          "/30ID-ABCDE"
         ],
         "xaxis": "x",
         "y": [
          1,
          2,
          2,
          2,
          2,
          1,
          15,
          2,
          30,
          5,
          2,
          8,
          2,
          1,
          1,
          2,
          4,
          5,
          2,
          5,
          1,
          2,
          5,
          5,
          5,
          2,
          8,
          5,
          50,
          5,
          1,
          8,
          2,
          2,
          2,
          5,
          1,
          1,
          1,
          2,
          2,
          1,
          5,
          1,
          2,
          2
         ],
         "yaxis": "y"
        },
        {
         "hovertemplate": "Team=RV<br>Nama produk=%{x}<br>total orderan suatu produk=%{y}<extra></extra>",
         "legendgroup": "RV",
         "marker": {
          "color": "#FF6692",
          "size": 10,
          "symbol": "circle"
         },
         "mode": "markers",
         "name": "RV",
         "orientation": "v",
         "showlegend": true,
         "type": "scatter",
         "x": [
          "130ID-ABCDE",
          "/21ID-ABCDE",
          "199ID-ABCDE",
          "127ID-ABCDE",
          "179ID-ABCDE",
          "127ID-ABCDE",
          "199ID-ABCDE",
          "199ID-ABCDE",
          "198ID-ABCDE",
          "198ID-ABCDE",
          "199ID-ABCDE",
          "199ID-ABCDE",
          "198ID-ABCDE",
          "199ID-ABCDE",
          "199ID-ABCDE",
          "127ID-ABCDE",
          "127ID-ABCDE",
          "199ID-ABCDE",
          "129ID-ABCDE"
         ],
         "xaxis": "x",
         "y": [
          30,
          2,
          2,
          5,
          300,
          5,
          2,
          2,
          1,
          1,
          2,
          2,
          1,
          2,
          2,
          5,
          5,
          2,
          15
         ],
         "yaxis": "y"
        },
        {
         "hovertemplate": "Team=CV<br>Nama produk=%{x}<br>total orderan suatu produk=%{y}<extra></extra>",
         "legendgroup": "CV",
         "marker": {
          "color": "#B6E880",
          "size": 10,
          "symbol": "circle"
         },
         "mode": "markers",
         "name": "CV",
         "orientation": "v",
         "showlegend": true,
         "type": "scatter",
         "x": [
          "198ID-ABCDE"
         ],
         "xaxis": "x",
         "y": [
          1
         ],
         "yaxis": "y"
        }
       ],
       "layout": {
        "height": 600,
        "legend": {
         "title": {
          "text": "Team"
         },
         "tracegroupgap": 0
        },
        "template": {
         "data": {
          "bar": [
           {
            "error_x": {
             "color": "#2a3f5f"
            },
            "error_y": {
             "color": "#2a3f5f"
            },
            "marker": {
             "line": {
              "color": "#E5ECF6",
              "width": 0.5
             },
             "pattern": {
              "fillmode": "overlay",
              "size": 10,
              "solidity": 0.2
             }
            },
            "type": "bar"
           }
          ],
          "barpolar": [
           {
            "marker": {
             "line": {
              "color": "#E5ECF6",
              "width": 0.5
             },
             "pattern": {
              "fillmode": "overlay",
              "size": 10,
              "solidity": 0.2
             }
            },
            "type": "barpolar"
           }
          ],
          "carpet": [
           {
            "aaxis": {
             "endlinecolor": "#2a3f5f",
             "gridcolor": "white",
             "linecolor": "white",
             "minorgridcolor": "white",
             "startlinecolor": "#2a3f5f"
            },
            "baxis": {
             "endlinecolor": "#2a3f5f",
             "gridcolor": "white",
             "linecolor": "white",
             "minorgridcolor": "white",
             "startlinecolor": "#2a3f5f"
            },
            "type": "carpet"
           }
          ],
          "choropleth": [
           {
            "colorbar": {
             "outlinewidth": 0,
             "ticks": ""
            },
            "type": "choropleth"
           }
          ],
          "contour": [
           {
            "colorbar": {
             "outlinewidth": 0,
             "ticks": ""
            },
            "colorscale": [
             [
              0,
              "#0d0887"
             ],
             [
              0.1111111111111111,
              "#46039f"
             ],
             [
              0.2222222222222222,
              "#7201a8"
             ],
             [
              0.3333333333333333,
              "#9c179e"
             ],
             [
              0.4444444444444444,
              "#bd3786"
             ],
             [
              0.5555555555555556,
              "#d8576b"
             ],
             [
              0.6666666666666666,
              "#ed7953"
             ],
             [
              0.7777777777777778,
              "#fb9f3a"
             ],
             [
              0.8888888888888888,
              "#fdca26"
             ],
             [
              1,
              "#f0f921"
             ]
            ],
            "type": "contour"
           }
          ],
          "contourcarpet": [
           {
            "colorbar": {
             "outlinewidth": 0,
             "ticks": ""
            },
            "type": "contourcarpet"
           }
          ],
          "heatmap": [
           {
            "colorbar": {
             "outlinewidth": 0,
             "ticks": ""
            },
            "colorscale": [
             [
              0,
              "#0d0887"
             ],
             [
              0.1111111111111111,
              "#46039f"
             ],
             [
              0.2222222222222222,
              "#7201a8"
             ],
             [
              0.3333333333333333,
              "#9c179e"
             ],
             [
              0.4444444444444444,
              "#bd3786"
             ],
             [
              0.5555555555555556,
              "#d8576b"
             ],
             [
              0.6666666666666666,
              "#ed7953"
             ],
             [
              0.7777777777777778,
              "#fb9f3a"
             ],
             [
              0.8888888888888888,
              "#fdca26"
             ],
             [
              1,
              "#f0f921"
             ]
            ],
            "type": "heatmap"
           }
          ],
          "heatmapgl": [
           {
            "colorbar": {
             "outlinewidth": 0,
             "ticks": ""
            },
            "colorscale": [
             [
              0,
              "#0d0887"
             ],
             [
              0.1111111111111111,
              "#46039f"
             ],
             [
              0.2222222222222222,
              "#7201a8"
             ],
             [
              0.3333333333333333,
              "#9c179e"
             ],
             [
              0.4444444444444444,
              "#bd3786"
             ],
             [
              0.5555555555555556,
              "#d8576b"
             ],
             [
              0.6666666666666666,
              "#ed7953"
             ],
             [
              0.7777777777777778,
              "#fb9f3a"
             ],
             [
              0.8888888888888888,
              "#fdca26"
             ],
             [
              1,
              "#f0f921"
             ]
            ],
            "type": "heatmapgl"
           }
          ],
          "histogram": [
           {
            "marker": {
             "pattern": {
              "fillmode": "overlay",
              "size": 10,
              "solidity": 0.2
             }
            },
            "type": "histogram"
           }
          ],
          "histogram2d": [
           {
            "colorbar": {
             "outlinewidth": 0,
             "ticks": ""
            },
            "colorscale": [
             [
              0,
              "#0d0887"
             ],
             [
              0.1111111111111111,
              "#46039f"
             ],
             [
              0.2222222222222222,
              "#7201a8"
             ],
             [
              0.3333333333333333,
              "#9c179e"
             ],
             [
              0.4444444444444444,
              "#bd3786"
             ],
             [
              0.5555555555555556,
              "#d8576b"
             ],
             [
              0.6666666666666666,
              "#ed7953"
             ],
             [
              0.7777777777777778,
              "#fb9f3a"
             ],
             [
              0.8888888888888888,
              "#fdca26"
             ],
             [
              1,
              "#f0f921"
             ]
            ],
            "type": "histogram2d"
           }
          ],
          "histogram2dcontour": [
           {
            "colorbar": {
             "outlinewidth": 0,
             "ticks": ""
            },
            "colorscale": [
             [
              0,
              "#0d0887"
             ],
             [
              0.1111111111111111,
              "#46039f"
             ],
             [
              0.2222222222222222,
              "#7201a8"
             ],
             [
              0.3333333333333333,
              "#9c179e"
             ],
             [
              0.4444444444444444,
              "#bd3786"
             ],
             [
              0.5555555555555556,
              "#d8576b"
             ],
             [
              0.6666666666666666,
              "#ed7953"
             ],
             [
              0.7777777777777778,
              "#fb9f3a"
             ],
             [
              0.8888888888888888,
              "#fdca26"
             ],
             [
              1,
              "#f0f921"
             ]
            ],
            "type": "histogram2dcontour"
           }
          ],
          "mesh3d": [
           {
            "colorbar": {
             "outlinewidth": 0,
             "ticks": ""
            },
            "type": "mesh3d"
           }
          ],
          "parcoords": [
           {
            "line": {
             "colorbar": {
              "outlinewidth": 0,
              "ticks": ""
             }
            },
            "type": "parcoords"
           }
          ],
          "pie": [
           {
            "automargin": true,
            "type": "pie"
           }
          ],
          "scatter": [
           {
            "fillpattern": {
             "fillmode": "overlay",
             "size": 10,
             "solidity": 0.2
            },
            "type": "scatter"
           }
          ],
          "scatter3d": [
           {
            "line": {
             "colorbar": {
              "outlinewidth": 0,
              "ticks": ""
             }
            },
            "marker": {
             "colorbar": {
              "outlinewidth": 0,
              "ticks": ""
             }
            },
            "type": "scatter3d"
           }
          ],
          "scattercarpet": [
           {
            "marker": {
             "colorbar": {
              "outlinewidth": 0,
              "ticks": ""
             }
            },
            "type": "scattercarpet"
           }
          ],
          "scattergeo": [
           {
            "marker": {
             "colorbar": {
              "outlinewidth": 0,
              "ticks": ""
             }
            },
            "type": "scattergeo"
           }
          ],
          "scattergl": [
           {
            "marker": {
             "colorbar": {
              "outlinewidth": 0,
              "ticks": ""
             }
            },
            "type": "scattergl"
           }
          ],
          "scattermapbox": [
           {
            "marker": {
             "colorbar": {
              "outlinewidth": 0,
              "ticks": ""
             }
            },
            "type": "scattermapbox"
           }
          ],
          "scatterpolar": [
           {
            "marker": {
             "colorbar": {
              "outlinewidth": 0,
              "ticks": ""
             }
            },
            "type": "scatterpolar"
           }
          ],
          "scatterpolargl": [
           {
            "marker": {
             "colorbar": {
              "outlinewidth": 0,
              "ticks": ""
             }
            },
            "type": "scatterpolargl"
           }
          ],
          "scatterternary": [
           {
            "marker": {
             "colorbar": {
              "outlinewidth": 0,
              "ticks": ""
             }
            },
            "type": "scatterternary"
           }
          ],
          "surface": [
           {
            "colorbar": {
             "outlinewidth": 0,
             "ticks": ""
            },
            "colorscale": [
             [
              0,
              "#0d0887"
             ],
             [
              0.1111111111111111,
              "#46039f"
             ],
             [
              0.2222222222222222,
              "#7201a8"
             ],
             [
              0.3333333333333333,
              "#9c179e"
             ],
             [
              0.4444444444444444,
              "#bd3786"
             ],
             [
              0.5555555555555556,
              "#d8576b"
             ],
             [
              0.6666666666666666,
              "#ed7953"
             ],
             [
              0.7777777777777778,
              "#fb9f3a"
             ],
             [
              0.8888888888888888,
              "#fdca26"
             ],
             [
              1,
              "#f0f921"
             ]
            ],
            "type": "surface"
           }
          ],
          "table": [
           {
            "cells": {
             "fill": {
              "color": "#EBF0F8"
             },
             "line": {
              "color": "white"
             }
            },
            "header": {
             "fill": {
              "color": "#C8D4E3"
             },
             "line": {
              "color": "white"
             }
            },
            "type": "table"
           }
          ]
         },
         "layout": {
          "annotationdefaults": {
           "arrowcolor": "#2a3f5f",
           "arrowhead": 0,
           "arrowwidth": 1
          },
          "autotypenumbers": "strict",
          "coloraxis": {
           "colorbar": {
            "outlinewidth": 0,
            "ticks": ""
           }
          },
          "colorscale": {
           "diverging": [
            [
             0,
             "#8e0152"
            ],
            [
             0.1,
             "#c51b7d"
            ],
            [
             0.2,
             "#de77ae"
            ],
            [
             0.3,
             "#f1b6da"
            ],
            [
             0.4,
             "#fde0ef"
            ],
            [
             0.5,
             "#f7f7f7"
            ],
            [
             0.6,
             "#e6f5d0"
            ],
            [
             0.7,
             "#b8e186"
            ],
            [
             0.8,
             "#7fbc41"
            ],
            [
             0.9,
             "#4d9221"
            ],
            [
             1,
             "#276419"
            ]
           ],
           "sequential": [
            [
             0,
             "#0d0887"
            ],
            [
             0.1111111111111111,
             "#46039f"
            ],
            [
             0.2222222222222222,
             "#7201a8"
            ],
            [
             0.3333333333333333,
             "#9c179e"
            ],
            [
             0.4444444444444444,
             "#bd3786"
            ],
            [
             0.5555555555555556,
             "#d8576b"
            ],
            [
             0.6666666666666666,
             "#ed7953"
            ],
            [
             0.7777777777777778,
             "#fb9f3a"
            ],
            [
             0.8888888888888888,
             "#fdca26"
            ],
            [
             1,
             "#f0f921"
            ]
           ],
           "sequentialminus": [
            [
             0,
             "#0d0887"
            ],
            [
             0.1111111111111111,
             "#46039f"
            ],
            [
             0.2222222222222222,
             "#7201a8"
            ],
            [
             0.3333333333333333,
             "#9c179e"
            ],
            [
             0.4444444444444444,
             "#bd3786"
            ],
            [
             0.5555555555555556,
             "#d8576b"
            ],
            [
             0.6666666666666666,
             "#ed7953"
            ],
            [
             0.7777777777777778,
             "#fb9f3a"
            ],
            [
             0.8888888888888888,
             "#fdca26"
            ],
            [
             1,
             "#f0f921"
            ]
           ]
          },
          "colorway": [
           "#636efa",
           "#EF553B",
           "#00cc96",
           "#ab63fa",
           "#FFA15A",
           "#19d3f3",
           "#FF6692",
           "#B6E880",
           "#FF97FF",
           "#FECB52"
          ],
          "font": {
           "color": "#2a3f5f"
          },
          "geo": {
           "bgcolor": "white",
           "lakecolor": "white",
           "landcolor": "#E5ECF6",
           "showlakes": true,
           "showland": true,
           "subunitcolor": "white"
          },
          "hoverlabel": {
           "align": "left"
          },
          "hovermode": "closest",
          "mapbox": {
           "style": "light"
          },
          "paper_bgcolor": "white",
          "plot_bgcolor": "#E5ECF6",
          "polar": {
           "angularaxis": {
            "gridcolor": "white",
            "linecolor": "white",
            "ticks": ""
           },
           "bgcolor": "#E5ECF6",
           "radialaxis": {
            "gridcolor": "white",
            "linecolor": "white",
            "ticks": ""
           }
          },
          "scene": {
           "xaxis": {
            "backgroundcolor": "#E5ECF6",
            "gridcolor": "white",
            "gridwidth": 2,
            "linecolor": "white",
            "showbackground": true,
            "ticks": "",
            "zerolinecolor": "white"
           },
           "yaxis": {
            "backgroundcolor": "#E5ECF6",
            "gridcolor": "white",
            "gridwidth": 2,
            "linecolor": "white",
            "showbackground": true,
            "ticks": "",
            "zerolinecolor": "white"
           },
           "zaxis": {
            "backgroundcolor": "#E5ECF6",
            "gridcolor": "white",
            "gridwidth": 2,
            "linecolor": "white",
            "showbackground": true,
            "ticks": "",
            "zerolinecolor": "white"
           }
          },
          "shapedefaults": {
           "line": {
            "color": "#2a3f5f"
           }
          },
          "ternary": {
           "aaxis": {
            "gridcolor": "white",
            "linecolor": "white",
            "ticks": ""
           },
           "baxis": {
            "gridcolor": "white",
            "linecolor": "white",
            "ticks": ""
           },
           "bgcolor": "#E5ECF6",
           "caxis": {
            "gridcolor": "white",
            "linecolor": "white",
            "ticks": ""
           }
          },
          "title": {
           "x": 0.05
          },
          "xaxis": {
           "automargin": true,
           "gridcolor": "white",
           "linecolor": "white",
           "ticks": "",
           "title": {
            "standoff": 15
           },
           "zerolinecolor": "white",
           "zerolinewidth": 2
          },
          "yaxis": {
           "automargin": true,
           "gridcolor": "white",
           "linecolor": "white",
           "ticks": "",
           "title": {
            "standoff": 15
           },
           "zerolinecolor": "white",
           "zerolinewidth": 2
          }
         }
        },
        "title": {
         "text": "Hubungan  Nama Produk, Total penjualan berdasarkan Tim"
        },
        "width": 1000,
        "xaxis": {
         "anchor": "y",
         "domain": [
          0,
          1
         ],
         "title": {
          "text": "Nama produk"
         }
        },
        "yaxis": {
         "anchor": "x",
         "domain": [
          0,
          1
         ],
         "title": {
          "text": "total orderan suatu produk"
         }
        }
       }
      }
     },
     "metadata": {},
     "output_type": "display_data"
    }
   ],
   "source": [
    "fig = px.scatter(df, x='Product Package Name', y='Total Ordered Qty', color='Team1',\n",
    "                 labels={'Product Package Name': 'Nama produk', 'Total Ordered Qty': 'total orderan suatu produk', 'Team1': 'Team'},\n",
    "                 title='Hubungan  Nama Produk, Total penjualan berdasarkan Tim')\n",
    "\n",
    "fig.update_traces(\n",
    "    marker=dict(size=10),\n",
    "    selector=dict(mode='markers')\n",
    ")\n",
    "\n",
    "# Mengatur lebar (width) dan tinggi (height) gambar\n",
    "fig.update_layout(\n",
    "    width=1000,  # Ganti angka sesuai dengan lebar yang diinginkan\n",
    "    height=600  # Ganti angka sesuai dengan tinggi yang diinginkan\n",
    ")\n",
    "\n",
    "fig.show()"
   ]
  },
  {
   "cell_type": "code",
   "execution_count": 23,
   "metadata": {},
   "outputs": [
    {
     "data": {
      "text/plain": [
       "900"
      ]
     },
     "execution_count": 23,
     "metadata": {},
     "output_type": "execute_result"
    }
   ],
   "source": [
    "df.loc[df['Product Package Name'] == \"179ID-ABCDE\"][\"Total Ordered Qty\"].sum()"
   ]
  },
  {
   "cell_type": "markdown",
   "metadata": {},
   "source": [
    "## Analisis pendapatan Setiap Hari pada bulan Januari"
   ]
  },
  {
   "cell_type": "code",
   "execution_count": 24,
   "metadata": {},
   "outputs": [
    {
     "data": {
      "image/png": "[encoded data removed]",
      "text/plain": [
       "<Figure size 640x480 with 1 Axes>"
      ]
     },
     "metadata": {},
     "output_type": "display_data"
    }
   ],
   "source": [
    "# Membuat DataFrame dari data set penjualan\n",
    "df = pd.DataFrame(df, columns=['Date Of Sales', 'Company Name', 'Team1', 'Total Ordered Qty', 'Total Amt (Local Currency)'])\n",
    "\n",
    "# Mengubah kolom 'Date Of Sales' menjadi tipe datetime\n",
    "df['Date Of Sales'] = pd.to_datetime(df['Date Of Sales'])\n",
    "\n",
    "# Mengelompokkan data berdasarkan tanggal dan menghitung total pendapatan per hari\n",
    "daily_revenue = df.groupby('Date Of Sales')['Total Amt (Local Currency)'].sum()\n",
    "\n",
    "# Visualisasi dengan Matplotlib (Diagram Garis)\n",
    "plt.plot(daily_revenue.index, daily_revenue.values, marker='o', linestyle='-', color='b')\n",
    "plt.xlabel('Tanggal')\n",
    "plt.ylabel('Total Pendapatan')\n",
    "plt.title('Total Pendapatan Setiap Hari pada Bulan Januari')\n",
    "plt.xticks(rotation=45)\n",
    "plt.grid(True)\n",
    "\n",
    "# Menambahkan label nilai pada setiap titik\n",
    "for x, y in zip(daily_revenue.index, daily_revenue.values):\n",
    "    plt.text(x, y, f'{y}', ha='left', va='bottom')\n",
    "\n",
    "plt.tight_layout()\n",
    "plt.show()"
   ]
  },
  {
   "cell_type": "markdown",
   "metadata": {},
   "source": [
    "Informasi: Pendapatan dari hari ke Hari pada Bulan Januari mengalami kenaikan yang signifikan terutama dari tanggal 2017-01-02 sampai 2017-01-05"
   ]
  },
  {
   "cell_type": "code",
   "execution_count": null,
   "metadata": {},
   "outputs": [],
   "source": []
  }
 ],
 "metadata": {
  "kernelspec": {
   "display_name": "Python 3",
   "language": "python",
   "name": "python3"
  },
  "language_info": {
   "codemirror_mode": {
    "name": "ipython",
    "version": 3
   },
   "file_extension": ".py",
   "mimetype": "text/x-python",
   "name": "python",
   "nbconvert_exporter": "python",
   "pygments_lexer": "ipython3",
   "version": "3.11.1"
  },
  "orig_nbformat": 4
 },
 "nbformat": 4,
 "nbformat_minor": 2
}
