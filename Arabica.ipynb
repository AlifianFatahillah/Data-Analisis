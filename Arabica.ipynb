{
 "cells": [
  {
   "cell_type": "code",
   "execution_count": 458,
   "metadata": {},
   "outputs": [],
   "source": [
    "import pandas as pd\n",
    "import numpy as np\n",
    "import matplotlib.pyplot as plt\n",
    "import plotly.express as px\n",
    "import seaborn as sns"
   ]
  },
  {
   "cell_type": "code",
   "execution_count": 459,
   "metadata": {},
   "outputs": [
    {
     "data": {
      "text/html": [
       "<div>\n",
       "<style scoped>\n",
       "    .dataframe tbody tr th:only-of-type {\n",
       "        vertical-align: middle;\n",
       "    }\n",
       "\n",
       "    .dataframe tbody tr th {\n",
       "        vertical-align: top;\n",
       "    }\n",
       "\n",
       "    .dataframe thead th {\n",
       "        text-align: right;\n",
       "    }\n",
       "</style>\n",
       "<table border=\"1\" class=\"dataframe\">\n",
       "  <thead>\n",
       "    <tr style=\"text-align: right;\">\n",
       "      <th></th>\n",
       "      <th>Country of Origin</th>\n",
       "      <th>Farm Name</th>\n",
       "      <th>Company</th>\n",
       "      <th>Altitude</th>\n",
       "      <th>Region</th>\n",
       "      <th>Producer</th>\n",
       "      <th>Number of Bags</th>\n",
       "      <th>Bag Weight</th>\n",
       "      <th>In-Country Partner</th>\n",
       "      <th>Harvest Year</th>\n",
       "      <th>Owner</th>\n",
       "      <th>Variety</th>\n",
       "      <th>Status</th>\n",
       "      <th>Processing Method</th>\n",
       "      <th>Aroma</th>\n",
       "      <th>Flavor</th>\n",
       "      <th>Aftertaste</th>\n",
       "      <th>Acidity</th>\n",
       "      <th>Body</th>\n",
       "      <th>Balance</th>\n",
       "      <th>Uniformity</th>\n",
       "      <th>Overall</th>\n",
       "      <th>Total Cup Points</th>\n",
       "      <th>Moisture Percentage</th>\n",
       "      <th>Category One Defects</th>\n",
       "      <th>Quakers</th>\n",
       "      <th>Color</th>\n",
       "      <th>Category Two Defects</th>\n",
       "      <th>Expiration</th>\n",
       "    </tr>\n",
       "  </thead>\n",
       "  <tbody>\n",
       "    <tr>\n",
       "      <th>0</th>\n",
       "      <td>Colombia</td>\n",
       "      <td>Finca El Paraiso</td>\n",
       "      <td>Coffee Quality Union</td>\n",
       "      <td>1700-1930</td>\n",
       "      <td>Piendamo,Cauca</td>\n",
       "      <td>Diego Samuel Bermudez</td>\n",
       "      <td>1</td>\n",
       "      <td>35 kg</td>\n",
       "      <td>Japan Coffee Exchange</td>\n",
       "      <td>2021 / 2022</td>\n",
       "      <td>Coffee Quality Union</td>\n",
       "      <td>Castillo</td>\n",
       "      <td>Completed</td>\n",
       "      <td>Double Anaerobic Washed</td>\n",
       "      <td>8.58</td>\n",
       "      <td>8.50</td>\n",
       "      <td>8.42</td>\n",
       "      <td>8.58</td>\n",
       "      <td>8.25</td>\n",
       "      <td>8.42</td>\n",
       "      <td>10.0</td>\n",
       "      <td>8.58</td>\n",
       "      <td>89.33</td>\n",
       "      <td>11.8</td>\n",
       "      <td>0</td>\n",
       "      <td>0</td>\n",
       "      <td>green</td>\n",
       "      <td>3</td>\n",
       "      <td>September 21st, 2023</td>\n",
       "    </tr>\n",
       "    <tr>\n",
       "      <th>1</th>\n",
       "      <td>Taiwan</td>\n",
       "      <td>Royal Bean Geisha Estate</td>\n",
       "      <td>Taiwan Coffee Laboratory</td>\n",
       "      <td>1200</td>\n",
       "      <td>Chiayi</td>\n",
       "      <td>曾福森</td>\n",
       "      <td>1</td>\n",
       "      <td>80 kg</td>\n",
       "      <td>Taiwan Coffee Laboratory 台灣咖啡研究室</td>\n",
       "      <td>2021 / 2022</td>\n",
       "      <td>Taiwan Coffee Laboratory 台灣咖啡研究室</td>\n",
       "      <td>Gesha</td>\n",
       "      <td>Completed</td>\n",
       "      <td>Washed / Wet</td>\n",
       "      <td>8.50</td>\n",
       "      <td>8.50</td>\n",
       "      <td>7.92</td>\n",
       "      <td>8.00</td>\n",
       "      <td>7.92</td>\n",
       "      <td>8.25</td>\n",
       "      <td>10.0</td>\n",
       "      <td>8.50</td>\n",
       "      <td>87.58</td>\n",
       "      <td>10.5</td>\n",
       "      <td>0</td>\n",
       "      <td>0</td>\n",
       "      <td>blue-green</td>\n",
       "      <td>0</td>\n",
       "      <td>November 15th, 2023</td>\n",
       "    </tr>\n",
       "    <tr>\n",
       "      <th>2</th>\n",
       "      <td>Laos</td>\n",
       "      <td>OKLAO coffee farms</td>\n",
       "      <td>Taiwan Coffee Laboratory</td>\n",
       "      <td>1300</td>\n",
       "      <td>Laos Borofen Plateau</td>\n",
       "      <td>WU TAO CHI</td>\n",
       "      <td>19</td>\n",
       "      <td>25 kg</td>\n",
       "      <td>Taiwan Coffee Laboratory 台灣咖啡研究室</td>\n",
       "      <td>2021 / 2022</td>\n",
       "      <td>Taiwan Coffee Laboratory 台灣咖啡研究室</td>\n",
       "      <td>Java</td>\n",
       "      <td>Completed</td>\n",
       "      <td>Semi Washed</td>\n",
       "      <td>8.33</td>\n",
       "      <td>8.42</td>\n",
       "      <td>8.08</td>\n",
       "      <td>8.17</td>\n",
       "      <td>7.92</td>\n",
       "      <td>8.17</td>\n",
       "      <td>10.0</td>\n",
       "      <td>8.33</td>\n",
       "      <td>87.42</td>\n",
       "      <td>10.4</td>\n",
       "      <td>0</td>\n",
       "      <td>0</td>\n",
       "      <td>yellowish</td>\n",
       "      <td>2</td>\n",
       "      <td>November 15th, 2023</td>\n",
       "    </tr>\n",
       "    <tr>\n",
       "      <th>3</th>\n",
       "      <td>Costa Rica</td>\n",
       "      <td>La Cumbre</td>\n",
       "      <td>Coffee Quality Union</td>\n",
       "      <td>1900</td>\n",
       "      <td>Los Santos,Tarrazu</td>\n",
       "      <td>Santa Maria de Dota</td>\n",
       "      <td>1</td>\n",
       "      <td>22 kg</td>\n",
       "      <td>Japan Coffee Exchange</td>\n",
       "      <td>2022</td>\n",
       "      <td>Coffee Quality Union</td>\n",
       "      <td>Gesha</td>\n",
       "      <td>Completed</td>\n",
       "      <td>Washed / Wet</td>\n",
       "      <td>8.08</td>\n",
       "      <td>8.17</td>\n",
       "      <td>8.17</td>\n",
       "      <td>8.25</td>\n",
       "      <td>8.17</td>\n",
       "      <td>8.08</td>\n",
       "      <td>10.0</td>\n",
       "      <td>8.25</td>\n",
       "      <td>87.17</td>\n",
       "      <td>11.8</td>\n",
       "      <td>0</td>\n",
       "      <td>0</td>\n",
       "      <td>green</td>\n",
       "      <td>0</td>\n",
       "      <td>September 21st, 2023</td>\n",
       "    </tr>\n",
       "    <tr>\n",
       "      <th>4</th>\n",
       "      <td>Colombia</td>\n",
       "      <td>Finca Santuario</td>\n",
       "      <td>Coffee Quality Union</td>\n",
       "      <td>1850-2100</td>\n",
       "      <td>Popayan,Cauca</td>\n",
       "      <td>Camilo Merizalde</td>\n",
       "      <td>2</td>\n",
       "      <td>24 kg</td>\n",
       "      <td>Japan Coffee Exchange</td>\n",
       "      <td>2022</td>\n",
       "      <td>Coffee Quality Union</td>\n",
       "      <td>Red Bourbon</td>\n",
       "      <td>Completed</td>\n",
       "      <td>Honey,Mossto</td>\n",
       "      <td>8.33</td>\n",
       "      <td>8.33</td>\n",
       "      <td>8.08</td>\n",
       "      <td>8.25</td>\n",
       "      <td>7.92</td>\n",
       "      <td>7.92</td>\n",
       "      <td>10.0</td>\n",
       "      <td>8.25</td>\n",
       "      <td>87.08</td>\n",
       "      <td>11.6</td>\n",
       "      <td>0</td>\n",
       "      <td>2</td>\n",
       "      <td>yellow-green</td>\n",
       "      <td>2</td>\n",
       "      <td>March 5th, 2024</td>\n",
       "    </tr>\n",
       "    <tr>\n",
       "      <th>...</th>\n",
       "      <td>...</td>\n",
       "      <td>...</td>\n",
       "      <td>...</td>\n",
       "      <td>...</td>\n",
       "      <td>...</td>\n",
       "      <td>...</td>\n",
       "      <td>...</td>\n",
       "      <td>...</td>\n",
       "      <td>...</td>\n",
       "      <td>...</td>\n",
       "      <td>...</td>\n",
       "      <td>...</td>\n",
       "      <td>...</td>\n",
       "      <td>...</td>\n",
       "      <td>...</td>\n",
       "      <td>...</td>\n",
       "      <td>...</td>\n",
       "      <td>...</td>\n",
       "      <td>...</td>\n",
       "      <td>...</td>\n",
       "      <td>...</td>\n",
       "      <td>...</td>\n",
       "      <td>...</td>\n",
       "      <td>...</td>\n",
       "      <td>...</td>\n",
       "      <td>...</td>\n",
       "      <td>...</td>\n",
       "      <td>...</td>\n",
       "      <td>...</td>\n",
       "    </tr>\n",
       "    <tr>\n",
       "      <th>202</th>\n",
       "      <td>Brazil</td>\n",
       "      <td>Fazenda Conquista</td>\n",
       "      <td>Ipanema Coffees</td>\n",
       "      <td>950</td>\n",
       "      <td>Sul de Minas</td>\n",
       "      <td>Ipanema Coffees</td>\n",
       "      <td>2240</td>\n",
       "      <td>60 kg</td>\n",
       "      <td>Brazil Specialty Coffee Association</td>\n",
       "      <td>2022 / 2023</td>\n",
       "      <td>Ipanema Coffees</td>\n",
       "      <td>Mundo Novo</td>\n",
       "      <td>Completed</td>\n",
       "      <td>Natural / Dry</td>\n",
       "      <td>7.17</td>\n",
       "      <td>7.17</td>\n",
       "      <td>6.92</td>\n",
       "      <td>7.17</td>\n",
       "      <td>7.42</td>\n",
       "      <td>7.17</td>\n",
       "      <td>10.0</td>\n",
       "      <td>7.08</td>\n",
       "      <td>80.08</td>\n",
       "      <td>11.4</td>\n",
       "      <td>0</td>\n",
       "      <td>0</td>\n",
       "      <td>green</td>\n",
       "      <td>4</td>\n",
       "      <td>February 2nd, 2024</td>\n",
       "    </tr>\n",
       "    <tr>\n",
       "      <th>203</th>\n",
       "      <td>Nicaragua</td>\n",
       "      <td>Finca San Felipe</td>\n",
       "      <td>Exportadora Atlantic S.A</td>\n",
       "      <td>1200</td>\n",
       "      <td>Matagalpa</td>\n",
       "      <td>Exportadora Atlantic S.A.</td>\n",
       "      <td>300</td>\n",
       "      <td>30 kg</td>\n",
       "      <td>Asociación de Cafés Especiales de Nicaragua</td>\n",
       "      <td>2022 / 2023</td>\n",
       "      <td>Exportadora Atlantic, S.A.</td>\n",
       "      <td>SHG</td>\n",
       "      <td>Completed</td>\n",
       "      <td>Natural / Dry</td>\n",
       "      <td>7.33</td>\n",
       "      <td>7.08</td>\n",
       "      <td>6.75</td>\n",
       "      <td>7.17</td>\n",
       "      <td>7.42</td>\n",
       "      <td>7.17</td>\n",
       "      <td>10.0</td>\n",
       "      <td>7.08</td>\n",
       "      <td>80.00</td>\n",
       "      <td>10.4</td>\n",
       "      <td>0</td>\n",
       "      <td>2</td>\n",
       "      <td>green</td>\n",
       "      <td>12</td>\n",
       "      <td>March 2nd, 2024</td>\n",
       "    </tr>\n",
       "    <tr>\n",
       "      <th>204</th>\n",
       "      <td>Laos</td>\n",
       "      <td>-</td>\n",
       "      <td>Marubeni Corporation</td>\n",
       "      <td>1300</td>\n",
       "      <td>Bolaven Plateau</td>\n",
       "      <td>LAO MINH TIEN COFFEE SOLE CO.,LTD</td>\n",
       "      <td>343</td>\n",
       "      <td>60 kg</td>\n",
       "      <td>Japan Coffee Exchange</td>\n",
       "      <td>2021 / 2022</td>\n",
       "      <td>Ikuto Uehara</td>\n",
       "      <td>Catimor</td>\n",
       "      <td>Completed</td>\n",
       "      <td>Washed / Wet</td>\n",
       "      <td>7.25</td>\n",
       "      <td>7.17</td>\n",
       "      <td>7.08</td>\n",
       "      <td>7.00</td>\n",
       "      <td>7.08</td>\n",
       "      <td>7.08</td>\n",
       "      <td>10.0</td>\n",
       "      <td>7.00</td>\n",
       "      <td>79.67</td>\n",
       "      <td>11.6</td>\n",
       "      <td>0</td>\n",
       "      <td>9</td>\n",
       "      <td>green</td>\n",
       "      <td>11</td>\n",
       "      <td>November 11th, 2023</td>\n",
       "    </tr>\n",
       "    <tr>\n",
       "      <th>205</th>\n",
       "      <td>El Salvador</td>\n",
       "      <td>Rosario de Maria II, Area de La Pila</td>\n",
       "      <td>Aprentium Enterprises LLC</td>\n",
       "      <td>1200</td>\n",
       "      <td>Volcan de San Vicente, La Paz, El Salvador</td>\n",
       "      <td>Roselia Yglesias</td>\n",
       "      <td>1</td>\n",
       "      <td>2 kg</td>\n",
       "      <td>Salvadoran Coffee Council</td>\n",
       "      <td>2023</td>\n",
       "      <td>Roselia Yglesias</td>\n",
       "      <td>Maragogype</td>\n",
       "      <td>Completed</td>\n",
       "      <td>Natural / Dry</td>\n",
       "      <td>6.50</td>\n",
       "      <td>6.75</td>\n",
       "      <td>6.75</td>\n",
       "      <td>7.17</td>\n",
       "      <td>7.08</td>\n",
       "      <td>7.00</td>\n",
       "      <td>10.0</td>\n",
       "      <td>6.83</td>\n",
       "      <td>78.08</td>\n",
       "      <td>11.0</td>\n",
       "      <td>0</td>\n",
       "      <td>12</td>\n",
       "      <td>bluish-green</td>\n",
       "      <td>13</td>\n",
       "      <td>March 7th, 2024</td>\n",
       "    </tr>\n",
       "    <tr>\n",
       "      <th>206</th>\n",
       "      <td>Brazil</td>\n",
       "      <td>Walter Matter</td>\n",
       "      <td>Descafeinadores Mexicano SA. de CV</td>\n",
       "      <td>850-1100</td>\n",
       "      <td>Minas Gerais</td>\n",
       "      <td>Walter Matter</td>\n",
       "      <td>600</td>\n",
       "      <td>60 kg</td>\n",
       "      <td>Centro Agroecológico del Café A.C.</td>\n",
       "      <td>2021 / 2022</td>\n",
       "      <td>Descafeinadores Mexicanos S.A de C.V</td>\n",
       "      <td>Mundo Novo</td>\n",
       "      <td>Completed</td>\n",
       "      <td>SEMI-LAVADO</td>\n",
       "      <td>7.25</td>\n",
       "      <td>7.08</td>\n",
       "      <td>6.67</td>\n",
       "      <td>6.83</td>\n",
       "      <td>6.83</td>\n",
       "      <td>6.67</td>\n",
       "      <td>10.0</td>\n",
       "      <td>6.67</td>\n",
       "      <td>78.00</td>\n",
       "      <td>11.3</td>\n",
       "      <td>0</td>\n",
       "      <td>0</td>\n",
       "      <td>green</td>\n",
       "      <td>1</td>\n",
       "      <td>November 18th, 2023</td>\n",
       "    </tr>\n",
       "  </tbody>\n",
       "</table>\n",
       "<p>207 rows × 29 columns</p>\n",
       "</div>"
      ],
      "text/plain": [
       "    Country of Origin                             Farm Name  \\\n",
       "0            Colombia                      Finca El Paraiso   \n",
       "1              Taiwan              Royal Bean Geisha Estate   \n",
       "2                Laos                    OKLAO coffee farms   \n",
       "3          Costa Rica                             La Cumbre   \n",
       "4            Colombia                       Finca Santuario   \n",
       "..                ...                                   ...   \n",
       "202            Brazil                     Fazenda Conquista   \n",
       "203         Nicaragua                      Finca San Felipe   \n",
       "204              Laos                                     -   \n",
       "205       El Salvador  Rosario de Maria II, Area de La Pila   \n",
       "206            Brazil                         Walter Matter   \n",
       "\n",
       "                                Company   Altitude  \\\n",
       "0                  Coffee Quality Union  1700-1930   \n",
       "1              Taiwan Coffee Laboratory       1200   \n",
       "2              Taiwan Coffee Laboratory       1300   \n",
       "3                  Coffee Quality Union       1900   \n",
       "4                  Coffee Quality Union  1850-2100   \n",
       "..                                  ...        ...   \n",
       "202                     Ipanema Coffees        950   \n",
       "203            Exportadora Atlantic S.A       1200   \n",
       "204                Marubeni Corporation       1300   \n",
       "205           Aprentium Enterprises LLC       1200   \n",
       "206  Descafeinadores Mexicano SA. de CV   850-1100   \n",
       "\n",
       "                                         Region  \\\n",
       "0                                Piendamo,Cauca   \n",
       "1                                        Chiayi   \n",
       "2                          Laos Borofen Plateau   \n",
       "3                            Los Santos,Tarrazu   \n",
       "4                                 Popayan,Cauca   \n",
       "..                                          ...   \n",
       "202                                Sul de Minas   \n",
       "203                                   Matagalpa   \n",
       "204                             Bolaven Plateau   \n",
       "205  Volcan de San Vicente, La Paz, El Salvador   \n",
       "206                                Minas Gerais   \n",
       "\n",
       "                              Producer  Number of Bags Bag Weight  \\\n",
       "0                Diego Samuel Bermudez               1      35 kg   \n",
       "1                                  曾福森               1      80 kg   \n",
       "2                           WU TAO CHI              19      25 kg   \n",
       "3                  Santa Maria de Dota               1      22 kg   \n",
       "4                     Camilo Merizalde               2      24 kg   \n",
       "..                                 ...             ...        ...   \n",
       "202                    Ipanema Coffees            2240      60 kg   \n",
       "203          Exportadora Atlantic S.A.             300      30 kg   \n",
       "204  LAO MINH TIEN COFFEE SOLE CO.,LTD             343      60 kg   \n",
       "205                   Roselia Yglesias               1       2 kg   \n",
       "206                      Walter Matter             600      60 kg   \n",
       "\n",
       "                              In-Country Partner Harvest Year  \\\n",
       "0                          Japan Coffee Exchange  2021 / 2022   \n",
       "1               Taiwan Coffee Laboratory 台灣咖啡研究室  2021 / 2022   \n",
       "2               Taiwan Coffee Laboratory 台灣咖啡研究室  2021 / 2022   \n",
       "3                          Japan Coffee Exchange         2022   \n",
       "4                          Japan Coffee Exchange         2022   \n",
       "..                                           ...          ...   \n",
       "202          Brazil Specialty Coffee Association  2022 / 2023   \n",
       "203  Asociación de Cafés Especiales de Nicaragua  2022 / 2023   \n",
       "204                        Japan Coffee Exchange  2021 / 2022   \n",
       "205                    Salvadoran Coffee Council         2023   \n",
       "206           Centro Agroecológico del Café A.C.  2021 / 2022   \n",
       "\n",
       "                                    Owner      Variety     Status  \\\n",
       "0                    Coffee Quality Union     Castillo  Completed   \n",
       "1        Taiwan Coffee Laboratory 台灣咖啡研究室        Gesha  Completed   \n",
       "2        Taiwan Coffee Laboratory 台灣咖啡研究室         Java  Completed   \n",
       "3                    Coffee Quality Union        Gesha  Completed   \n",
       "4                    Coffee Quality Union  Red Bourbon  Completed   \n",
       "..                                    ...          ...        ...   \n",
       "202                       Ipanema Coffees   Mundo Novo  Completed   \n",
       "203            Exportadora Atlantic, S.A.          SHG  Completed   \n",
       "204                          Ikuto Uehara      Catimor  Completed   \n",
       "205                      Roselia Yglesias   Maragogype  Completed   \n",
       "206  Descafeinadores Mexicanos S.A de C.V   Mundo Novo  Completed   \n",
       "\n",
       "           Processing Method  Aroma  Flavor  Aftertaste  Acidity  Body  \\\n",
       "0    Double Anaerobic Washed   8.58    8.50        8.42     8.58  8.25   \n",
       "1               Washed / Wet   8.50    8.50        7.92     8.00  7.92   \n",
       "2                Semi Washed   8.33    8.42        8.08     8.17  7.92   \n",
       "3               Washed / Wet   8.08    8.17        8.17     8.25  8.17   \n",
       "4               Honey,Mossto   8.33    8.33        8.08     8.25  7.92   \n",
       "..                       ...    ...     ...         ...      ...   ...   \n",
       "202            Natural / Dry   7.17    7.17        6.92     7.17  7.42   \n",
       "203            Natural / Dry   7.33    7.08        6.75     7.17  7.42   \n",
       "204             Washed / Wet   7.25    7.17        7.08     7.00  7.08   \n",
       "205            Natural / Dry   6.50    6.75        6.75     7.17  7.08   \n",
       "206              SEMI-LAVADO   7.25    7.08        6.67     6.83  6.83   \n",
       "\n",
       "     Balance  Uniformity  Overall  Total Cup Points  Moisture Percentage  \\\n",
       "0       8.42        10.0     8.58             89.33                 11.8   \n",
       "1       8.25        10.0     8.50             87.58                 10.5   \n",
       "2       8.17        10.0     8.33             87.42                 10.4   \n",
       "3       8.08        10.0     8.25             87.17                 11.8   \n",
       "4       7.92        10.0     8.25             87.08                 11.6   \n",
       "..       ...         ...      ...               ...                  ...   \n",
       "202     7.17        10.0     7.08             80.08                 11.4   \n",
       "203     7.17        10.0     7.08             80.00                 10.4   \n",
       "204     7.08        10.0     7.00             79.67                 11.6   \n",
       "205     7.00        10.0     6.83             78.08                 11.0   \n",
       "206     6.67        10.0     6.67             78.00                 11.3   \n",
       "\n",
       "     Category One Defects  Quakers         Color  Category Two Defects  \\\n",
       "0                       0        0         green                     3   \n",
       "1                       0        0    blue-green                     0   \n",
       "2                       0        0     yellowish                     2   \n",
       "3                       0        0         green                     0   \n",
       "4                       0        2  yellow-green                     2   \n",
       "..                    ...      ...           ...                   ...   \n",
       "202                     0        0         green                     4   \n",
       "203                     0        2         green                    12   \n",
       "204                     0        9         green                    11   \n",
       "205                     0       12  bluish-green                    13   \n",
       "206                     0        0         green                     1   \n",
       "\n",
       "               Expiration  \n",
       "0    September 21st, 2023  \n",
       "1     November 15th, 2023  \n",
       "2     November 15th, 2023  \n",
       "3    September 21st, 2023  \n",
       "4         March 5th, 2024  \n",
       "..                    ...  \n",
       "202    February 2nd, 2024  \n",
       "203       March 2nd, 2024  \n",
       "204   November 11th, 2023  \n",
       "205       March 7th, 2024  \n",
       "206   November 18th, 2023  \n",
       "\n",
       "[207 rows x 29 columns]"
      ]
     },
     "execution_count": 459,
     "metadata": {},
     "output_type": "execute_result"
    }
   ],
   "source": [
    "# Mengatur opsi untuk menampilkan semua kolom\n",
    "pd.set_option('display.max_columns', None)\n",
    "\n",
    "df = pd.read_csv(r'D:\\DATA PELATIHAN\\df_arabica_clean.csv')\n",
    "\n",
    "del df['Unnamed: 0']\n",
    "del df['ID']\n",
    "del df['Lot Number']\n",
    "del df['ICO Number']\n",
    "del df[\"Mill\"]\n",
    "del df[\"Sweetness\"]\n",
    "del df[\"Clean Cup\"]\n",
    "del df[\"Defects\"]\n",
    "del df['Grading Date']\n",
    "del df['Certification Body']\n",
    "del df['Certification Address']\n",
    "del df['Certification Contact']\n",
    "\n",
    "df"
   ]
  },
  {
   "cell_type": "code",
   "execution_count": 460,
   "metadata": {},
   "outputs": [
    {
     "name": "stdout",
     "output_type": "stream",
     "text": [
      "<class 'pandas.core.frame.DataFrame'>\n",
      "RangeIndex: 207 entries, 0 to 206\n",
      "Data columns (total 29 columns):\n",
      " #   Column                Non-Null Count  Dtype  \n",
      "---  ------                --------------  -----  \n",
      " 0   Country of Origin     207 non-null    object \n",
      " 1   Farm Name             205 non-null    object \n",
      " 2   Company               207 non-null    object \n",
      " 3   Altitude              206 non-null    object \n",
      " 4   Region                205 non-null    object \n",
      " 5   Producer              206 non-null    object \n",
      " 6   Number of Bags        207 non-null    int64  \n",
      " 7   Bag Weight            207 non-null    object \n",
      " 8   In-Country Partner    207 non-null    object \n",
      " 9   Harvest Year          207 non-null    object \n",
      " 10  Owner                 207 non-null    object \n",
      " 11  Variety               201 non-null    object \n",
      " 12  Status                207 non-null    object \n",
      " 13  Processing Method     202 non-null    object \n",
      " 14  Aroma                 207 non-null    float64\n",
      " 15  Flavor                207 non-null    float64\n",
      " 16  Aftertaste            207 non-null    float64\n",
      " 17  Acidity               207 non-null    float64\n",
      " 18  Body                  207 non-null    float64\n",
      " 19  Balance               207 non-null    float64\n",
      " 20  Uniformity            207 non-null    float64\n",
      " 21  Overall               207 non-null    float64\n",
      " 22  Total Cup Points      207 non-null    float64\n",
      " 23  Moisture Percentage   207 non-null    float64\n",
      " 24  Category One Defects  207 non-null    int64  \n",
      " 25  Quakers               207 non-null    int64  \n",
      " 26  Color                 207 non-null    object \n",
      " 27  Category Two Defects  207 non-null    int64  \n",
      " 28  Expiration            207 non-null    object \n",
      "dtypes: float64(10), int64(4), object(15)\n",
      "memory usage: 47.0+ KB\n"
     ]
    }
   ],
   "source": [
    "df.info()"
   ]
  },
  {
   "cell_type": "code",
   "execution_count": 461,
   "metadata": {},
   "outputs": [
    {
     "name": "stdout",
     "output_type": "stream",
     "text": [
      "Country of Origin: 22 distinct values\n",
      "Farm Name: 173 distinct values\n",
      "Company: 72 distinct values\n",
      "Altitude: 98 distinct values\n",
      "Region: 121 distinct values\n",
      "Producer: 173 distinct values\n",
      "Number of Bags: 55 distinct values\n",
      "Bag Weight: 39 distinct values\n",
      "In-Country Partner: 21 distinct values\n",
      "Harvest Year: 7 distinct values\n",
      "Owner: 80 distinct values\n",
      "Variety: 49 distinct values\n",
      "Status: 1 distinct values\n",
      "Processing Method: 11 distinct values\n",
      "Aroma: 19 distinct values\n",
      "Flavor: 19 distinct values\n",
      "Aftertaste: 20 distinct values\n",
      "Acidity: 19 distinct values\n",
      "Body: 17 distinct values\n",
      "Balance: 18 distinct values\n",
      "Uniformity: 3 distinct values\n",
      "Overall: 21 distinct values\n",
      "Total Cup Points: 81 distinct values\n",
      "Moisture Percentage: 46 distinct values\n",
      "Category One Defects: 6 distinct values\n",
      "Quakers: 11 distinct values\n",
      "Color: 12 distinct values\n",
      "Category Two Defects: 14 distinct values\n",
      "Expiration: 75 distinct values\n"
     ]
    }
   ],
   "source": [
    "for column in df.columns:\n",
    "    Unique_values = len(df[column].unique())\n",
    "    print(f\"{column}: {Unique_values} distinct values\")"
   ]
  },
  {
   "cell_type": "markdown",
   "metadata": {},
   "source": [
    "## Mengubah format kolom \"Harvest Year\" dan \"Expiration\""
   ]
  },
  {
   "cell_type": "code",
   "execution_count": 462,
   "metadata": {},
   "outputs": [],
   "source": [
    "df['Harvest Year'] = df['Harvest Year'].str.split('/').str[0].str.strip()"
   ]
  },
  {
   "cell_type": "code",
   "execution_count": 463,
   "metadata": {},
   "outputs": [],
   "source": [
    "from dateutil import parser\n",
    "\n",
    "df['Harvest Year'] = pd.to_datetime(df['Harvest Year'], format='%Y')\n",
    "df['Expiration'] = df['Expiration'].apply(parser.parse)"
   ]
  },
  {
   "cell_type": "code",
   "execution_count": 464,
   "metadata": {},
   "outputs": [],
   "source": [
    "df['Diference_day'] = (pd.to_datetime(df['Expiration']) - pd.to_datetime(df['Harvest Year'])).dt.days"
   ]
  },
  {
   "cell_type": "code",
   "execution_count": 465,
   "metadata": {},
   "outputs": [
    {
     "data": {
      "image/png": "[encoded data removed]",
      "text/plain": [
       "<Figure size 1500x800 with 1 Axes>"
      ]
     },
     "metadata": {},
     "output_type": "display_data"
    }
   ],
   "source": [
    "from jcopml.plot import plot_missing_value\n",
    "\n",
    "plot_missing_value(df)"
   ]
  },
  {
   "cell_type": "markdown",
   "metadata": {},
   "source": [
    "## Mengatasi Missing Value"
   ]
  },
  {
   "cell_type": "markdown",
   "metadata": {},
   "source": [
    "### 1. Mengatasi missing value pada Kolom \"Farm Name\""
   ]
  },
  {
   "cell_type": "code",
   "execution_count": 466,
   "metadata": {},
   "outputs": [
    {
     "data": {
      "text/html": [
       "<div>\n",
       "<style scoped>\n",
       "    .dataframe tbody tr th:only-of-type {\n",
       "        vertical-align: middle;\n",
       "    }\n",
       "\n",
       "    .dataframe tbody tr th {\n",
       "        vertical-align: top;\n",
       "    }\n",
       "\n",
       "    .dataframe thead th {\n",
       "        text-align: right;\n",
       "    }\n",
       "</style>\n",
       "<table border=\"1\" class=\"dataframe\">\n",
       "  <thead>\n",
       "    <tr style=\"text-align: right;\">\n",
       "      <th></th>\n",
       "      <th>Country of Origin</th>\n",
       "      <th>Farm Name</th>\n",
       "      <th>Company</th>\n",
       "      <th>Altitude</th>\n",
       "      <th>Region</th>\n",
       "      <th>Producer</th>\n",
       "      <th>Number of Bags</th>\n",
       "      <th>Bag Weight</th>\n",
       "      <th>In-Country Partner</th>\n",
       "      <th>Harvest Year</th>\n",
       "      <th>Owner</th>\n",
       "      <th>Variety</th>\n",
       "      <th>Status</th>\n",
       "      <th>Processing Method</th>\n",
       "      <th>Aroma</th>\n",
       "      <th>Flavor</th>\n",
       "      <th>Aftertaste</th>\n",
       "      <th>Acidity</th>\n",
       "      <th>Body</th>\n",
       "      <th>Balance</th>\n",
       "      <th>Uniformity</th>\n",
       "      <th>Overall</th>\n",
       "      <th>Total Cup Points</th>\n",
       "      <th>Moisture Percentage</th>\n",
       "      <th>Category One Defects</th>\n",
       "      <th>Quakers</th>\n",
       "      <th>Color</th>\n",
       "      <th>Category Two Defects</th>\n",
       "      <th>Expiration</th>\n",
       "      <th>Diference_day</th>\n",
       "    </tr>\n",
       "  </thead>\n",
       "  <tbody>\n",
       "    <tr>\n",
       "      <th>97</th>\n",
       "      <td>Colombia</td>\n",
       "      <td>NaN</td>\n",
       "      <td>Marubeni Corporation</td>\n",
       "      <td>1411</td>\n",
       "      <td>Pereira</td>\n",
       "      <td>RACAFE &amp; CIA SCA</td>\n",
       "      <td>375</td>\n",
       "      <td>70 kg</td>\n",
       "      <td>Japan Coffee Exchange</td>\n",
       "      <td>2022-01-01</td>\n",
       "      <td>Ikuto Uehara</td>\n",
       "      <td>NaN</td>\n",
       "      <td>Completed</td>\n",
       "      <td>Washed / Wet</td>\n",
       "      <td>7.67</td>\n",
       "      <td>7.75</td>\n",
       "      <td>7.67</td>\n",
       "      <td>7.75</td>\n",
       "      <td>7.67</td>\n",
       "      <td>7.67</td>\n",
       "      <td>10.0</td>\n",
       "      <td>7.67</td>\n",
       "      <td>83.83</td>\n",
       "      <td>11.9</td>\n",
       "      <td>0</td>\n",
       "      <td>1</td>\n",
       "      <td>green</td>\n",
       "      <td>1</td>\n",
       "      <td>2024-04-16</td>\n",
       "      <td>836</td>\n",
       "    </tr>\n",
       "    <tr>\n",
       "      <th>105</th>\n",
       "      <td>Colombia</td>\n",
       "      <td>NaN</td>\n",
       "      <td>Coffee Quality Institute</td>\n",
       "      <td>NaN</td>\n",
       "      <td>NaN</td>\n",
       "      <td>NaN</td>\n",
       "      <td>1</td>\n",
       "      <td>1 kg</td>\n",
       "      <td>Barista and Coffee Academy of Asia</td>\n",
       "      <td>2022-01-01</td>\n",
       "      <td>Coffee Quality Institute</td>\n",
       "      <td>NaN</td>\n",
       "      <td>Completed</td>\n",
       "      <td>NaN</td>\n",
       "      <td>7.83</td>\n",
       "      <td>7.75</td>\n",
       "      <td>7.50</td>\n",
       "      <td>7.58</td>\n",
       "      <td>7.67</td>\n",
       "      <td>7.67</td>\n",
       "      <td>10.0</td>\n",
       "      <td>7.67</td>\n",
       "      <td>83.67</td>\n",
       "      <td>12.4</td>\n",
       "      <td>1</td>\n",
       "      <td>0</td>\n",
       "      <td>greenish</td>\n",
       "      <td>9</td>\n",
       "      <td>2023-09-26</td>\n",
       "      <td>633</td>\n",
       "    </tr>\n",
       "  </tbody>\n",
       "</table>\n",
       "</div>"
      ],
      "text/plain": [
       "    Country of Origin Farm Name                   Company Altitude   Region  \\\n",
       "97           Colombia       NaN      Marubeni Corporation     1411  Pereira   \n",
       "105          Colombia       NaN  Coffee Quality Institute      NaN      NaN   \n",
       "\n",
       "             Producer  Number of Bags Bag Weight  \\\n",
       "97   RACAFE & CIA SCA             375      70 kg   \n",
       "105               NaN               1       1 kg   \n",
       "\n",
       "                     In-Country Partner Harvest Year  \\\n",
       "97                Japan Coffee Exchange   2022-01-01   \n",
       "105  Barista and Coffee Academy of Asia   2022-01-01   \n",
       "\n",
       "                        Owner Variety     Status Processing Method  Aroma  \\\n",
       "97               Ikuto Uehara     NaN  Completed      Washed / Wet   7.67   \n",
       "105  Coffee Quality Institute     NaN  Completed               NaN   7.83   \n",
       "\n",
       "     Flavor  Aftertaste  Acidity  Body  Balance  Uniformity  Overall  \\\n",
       "97     7.75        7.67     7.75  7.67     7.67        10.0     7.67   \n",
       "105    7.75        7.50     7.58  7.67     7.67        10.0     7.67   \n",
       "\n",
       "     Total Cup Points  Moisture Percentage  Category One Defects  Quakers  \\\n",
       "97              83.83                 11.9                     0        1   \n",
       "105             83.67                 12.4                     1        0   \n",
       "\n",
       "        Color  Category Two Defects Expiration  Diference_day  \n",
       "97      green                     1 2024-04-16            836  \n",
       "105  greenish                     9 2023-09-26            633  "
      ]
     },
     "execution_count": 466,
     "metadata": {},
     "output_type": "execute_result"
    }
   ],
   "source": [
    "df[pd.isna(df['Farm Name'])]"
   ]
  },
  {
   "cell_type": "code",
   "execution_count": 467,
   "metadata": {},
   "outputs": [],
   "source": [
    "df.loc[df.index == 105, 'Farm Name'] = 'Hacienda Vanicia'\n",
    "df.loc[df.index == 97, 'Farm Name'] = 'Finca Samaria'"
   ]
  },
  {
   "cell_type": "markdown",
   "metadata": {},
   "source": [
    "### 2. Mengatasi Missing value Kolom \"Altitude\""
   ]
  },
  {
   "cell_type": "code",
   "execution_count": 468,
   "metadata": {},
   "outputs": [],
   "source": [
    "def clean_altitude_range(range_value):\n",
    "    if isinstance(range_value, str):\n",
    "        range_value = range_value.replace(\" \", \"\")\n",
    "        if '-' in range_value:\n",
    "            try:\n",
    "                start, end = range_value.split('-')\n",
    "                start = int(start)\n",
    "                end = int(end)\n",
    "                return (start + end) / 2\n",
    "            except ValueError:\n",
    "                return np.nan\n",
    "        else:\n",
    "            try:\n",
    "                return int(range_value)\n",
    "            except ValueError:\n",
    "                return np.nan\n",
    "    else:\n",
    "        return range_value\n",
    "\n",
    "# Apply the function to clean and calculate the mean for each value in the \"Altitude\" column\n",
    "df['Altitude'] = df['Altitude'].apply(clean_altitude_range)"
   ]
  },
  {
   "cell_type": "code",
   "execution_count": 469,
   "metadata": {},
   "outputs": [
    {
     "data": {
      "text/html": [
       "<div>\n",
       "<style scoped>\n",
       "    .dataframe tbody tr th:only-of-type {\n",
       "        vertical-align: middle;\n",
       "    }\n",
       "\n",
       "    .dataframe tbody tr th {\n",
       "        vertical-align: top;\n",
       "    }\n",
       "\n",
       "    .dataframe thead th {\n",
       "        text-align: right;\n",
       "    }\n",
       "</style>\n",
       "<table border=\"1\" class=\"dataframe\">\n",
       "  <thead>\n",
       "    <tr style=\"text-align: right;\">\n",
       "      <th></th>\n",
       "      <th>Country of Origin</th>\n",
       "      <th>Farm Name</th>\n",
       "      <th>Company</th>\n",
       "      <th>Altitude</th>\n",
       "      <th>Region</th>\n",
       "      <th>Producer</th>\n",
       "      <th>Number of Bags</th>\n",
       "      <th>Bag Weight</th>\n",
       "      <th>In-Country Partner</th>\n",
       "      <th>Harvest Year</th>\n",
       "      <th>Owner</th>\n",
       "      <th>Variety</th>\n",
       "      <th>Status</th>\n",
       "      <th>Processing Method</th>\n",
       "      <th>Aroma</th>\n",
       "      <th>Flavor</th>\n",
       "      <th>Aftertaste</th>\n",
       "      <th>Acidity</th>\n",
       "      <th>Body</th>\n",
       "      <th>Balance</th>\n",
       "      <th>Uniformity</th>\n",
       "      <th>Overall</th>\n",
       "      <th>Total Cup Points</th>\n",
       "      <th>Moisture Percentage</th>\n",
       "      <th>Category One Defects</th>\n",
       "      <th>Quakers</th>\n",
       "      <th>Color</th>\n",
       "      <th>Category Two Defects</th>\n",
       "      <th>Expiration</th>\n",
       "      <th>Diference_day</th>\n",
       "    </tr>\n",
       "  </thead>\n",
       "  <tbody>\n",
       "    <tr>\n",
       "      <th>99</th>\n",
       "      <td>Guatemala</td>\n",
       "      <td>SAN RAFAEL URIAS VALDES</td>\n",
       "      <td>Asociación Nacional del Cafe</td>\n",
       "      <td>NaN</td>\n",
       "      <td>ANTIGUA GUATEMALA</td>\n",
       "      <td>VALBROS, S. A.</td>\n",
       "      <td>635</td>\n",
       "      <td>30 kg</td>\n",
       "      <td>Asociacion Nacional Del Café</td>\n",
       "      <td>2021-01-01</td>\n",
       "      <td>Angelica Paola Citan Lopez</td>\n",
       "      <td>Bourbon</td>\n",
       "      <td>Completed</td>\n",
       "      <td>Washed / Wet</td>\n",
       "      <td>7.58</td>\n",
       "      <td>7.92</td>\n",
       "      <td>7.50</td>\n",
       "      <td>7.67</td>\n",
       "      <td>7.75</td>\n",
       "      <td>7.67</td>\n",
       "      <td>10.0</td>\n",
       "      <td>7.75</td>\n",
       "      <td>83.83</td>\n",
       "      <td>10.9</td>\n",
       "      <td>0</td>\n",
       "      <td>1</td>\n",
       "      <td>greenish</td>\n",
       "      <td>4</td>\n",
       "      <td>2023-05-19</td>\n",
       "      <td>868</td>\n",
       "    </tr>\n",
       "    <tr>\n",
       "      <th>105</th>\n",
       "      <td>Colombia</td>\n",
       "      <td>Hacienda Vanicia</td>\n",
       "      <td>Coffee Quality Institute</td>\n",
       "      <td>NaN</td>\n",
       "      <td>NaN</td>\n",
       "      <td>NaN</td>\n",
       "      <td>1</td>\n",
       "      <td>1 kg</td>\n",
       "      <td>Barista and Coffee Academy of Asia</td>\n",
       "      <td>2022-01-01</td>\n",
       "      <td>Coffee Quality Institute</td>\n",
       "      <td>NaN</td>\n",
       "      <td>Completed</td>\n",
       "      <td>NaN</td>\n",
       "      <td>7.83</td>\n",
       "      <td>7.75</td>\n",
       "      <td>7.50</td>\n",
       "      <td>7.58</td>\n",
       "      <td>7.67</td>\n",
       "      <td>7.67</td>\n",
       "      <td>10.0</td>\n",
       "      <td>7.67</td>\n",
       "      <td>83.67</td>\n",
       "      <td>12.4</td>\n",
       "      <td>1</td>\n",
       "      <td>0</td>\n",
       "      <td>greenish</td>\n",
       "      <td>9</td>\n",
       "      <td>2023-09-26</td>\n",
       "      <td>633</td>\n",
       "    </tr>\n",
       "    <tr>\n",
       "      <th>180</th>\n",
       "      <td>Guatemala</td>\n",
       "      <td>MULTIPLE SMALLHOLDER FARMS</td>\n",
       "      <td>HARU International Corp, 守成咖啡</td>\n",
       "      <td>NaN</td>\n",
       "      <td>Antigua</td>\n",
       "      <td>La Minita</td>\n",
       "      <td>540</td>\n",
       "      <td>30 kg</td>\n",
       "      <td>Taiwan Coffee Laboratory 台灣咖啡研究室</td>\n",
       "      <td>2022-01-01</td>\n",
       "      <td>Anderson Wong</td>\n",
       "      <td>Caturra</td>\n",
       "      <td>Completed</td>\n",
       "      <td>Washed / Wet</td>\n",
       "      <td>7.33</td>\n",
       "      <td>7.42</td>\n",
       "      <td>7.33</td>\n",
       "      <td>7.42</td>\n",
       "      <td>7.58</td>\n",
       "      <td>7.42</td>\n",
       "      <td>10.0</td>\n",
       "      <td>7.42</td>\n",
       "      <td>81.92</td>\n",
       "      <td>10.3</td>\n",
       "      <td>0</td>\n",
       "      <td>0</td>\n",
       "      <td>greenish</td>\n",
       "      <td>1</td>\n",
       "      <td>2023-11-03</td>\n",
       "      <td>671</td>\n",
       "    </tr>\n",
       "  </tbody>\n",
       "</table>\n",
       "</div>"
      ],
      "text/plain": [
       "    Country of Origin                   Farm Name  \\\n",
       "99          Guatemala     SAN RAFAEL URIAS VALDES   \n",
       "105          Colombia            Hacienda Vanicia   \n",
       "180         Guatemala  MULTIPLE SMALLHOLDER FARMS   \n",
       "\n",
       "                           Company  Altitude             Region  \\\n",
       "99    Asociación Nacional del Cafe       NaN  ANTIGUA GUATEMALA   \n",
       "105       Coffee Quality Institute       NaN                NaN   \n",
       "180  HARU International Corp, 守成咖啡       NaN            Antigua   \n",
       "\n",
       "           Producer  Number of Bags Bag Weight  \\\n",
       "99   VALBROS, S. A.             635      30 kg   \n",
       "105             NaN               1       1 kg   \n",
       "180       La Minita             540      30 kg   \n",
       "\n",
       "                     In-Country Partner Harvest Year  \\\n",
       "99         Asociacion Nacional Del Café   2021-01-01   \n",
       "105  Barista and Coffee Academy of Asia   2022-01-01   \n",
       "180    Taiwan Coffee Laboratory 台灣咖啡研究室   2022-01-01   \n",
       "\n",
       "                          Owner  Variety     Status Processing Method  Aroma  \\\n",
       "99   Angelica Paola Citan Lopez  Bourbon  Completed      Washed / Wet   7.58   \n",
       "105    Coffee Quality Institute      NaN  Completed               NaN   7.83   \n",
       "180               Anderson Wong  Caturra  Completed      Washed / Wet   7.33   \n",
       "\n",
       "     Flavor  Aftertaste  Acidity  Body  Balance  Uniformity  Overall  \\\n",
       "99     7.92        7.50     7.67  7.75     7.67        10.0     7.75   \n",
       "105    7.75        7.50     7.58  7.67     7.67        10.0     7.67   \n",
       "180    7.42        7.33     7.42  7.58     7.42        10.0     7.42   \n",
       "\n",
       "     Total Cup Points  Moisture Percentage  Category One Defects  Quakers  \\\n",
       "99              83.83                 10.9                     0        1   \n",
       "105             83.67                 12.4                     1        0   \n",
       "180             81.92                 10.3                     0        0   \n",
       "\n",
       "        Color  Category Two Defects Expiration  Diference_day  \n",
       "99   greenish                     4 2023-05-19            868  \n",
       "105  greenish                     9 2023-09-26            633  \n",
       "180  greenish                     1 2023-11-03            671  "
      ]
     },
     "execution_count": 469,
     "metadata": {},
     "output_type": "execute_result"
    }
   ],
   "source": [
    "df[pd.isna(df['Altitude'])]"
   ]
  },
  {
   "cell_type": "code",
   "execution_count": 470,
   "metadata": {},
   "outputs": [],
   "source": [
    "df.loc[df.index == 99, 'Altitude'] = '1500.0'\n",
    "df.loc[df.index == 105, 'Altitude'] = '1500.0'\n",
    "df.loc[df.index == 180, 'Altitude'] = '1500.0'"
   ]
  },
  {
   "cell_type": "code",
   "execution_count": 471,
   "metadata": {},
   "outputs": [
    {
     "data": {
      "image/png": "[encoded data removed]",
      "text/plain": [
       "<Figure size 1600x600 with 1 Axes>"
      ]
     },
     "metadata": {},
     "output_type": "display_data"
    }
   ],
   "source": [
    "plt.figure(figsize=(16, 6))\n",
    "\n",
    "# Membuat diagram batang\n",
    "df['Altitude'].value_counts().plot.bar()\n",
    "\n",
    "# Mengatur judul diagram dan label sumbu-sumbu\n",
    "plt.title('Diagram Batang Jumlah Altitude')\n",
    "plt.xlabel('Altitude')\n",
    "plt.ylabel('Jumlah')\n",
    "\n",
    "# Mengatur rotasi label sumbu X\n",
    "plt.xticks(rotation=45)\n",
    "\n",
    "# Menampilkan diagram\n",
    "plt.show()\n"
   ]
  },
  {
   "cell_type": "markdown",
   "metadata": {},
   "source": [
    "### 3. Mengatasi Missing value kolom 'Ragion'"
   ]
  },
  {
   "cell_type": "code",
   "execution_count": 472,
   "metadata": {},
   "outputs": [
    {
     "data": {
      "text/html": [
       "<div>\n",
       "<style scoped>\n",
       "    .dataframe tbody tr th:only-of-type {\n",
       "        vertical-align: middle;\n",
       "    }\n",
       "\n",
       "    .dataframe tbody tr th {\n",
       "        vertical-align: top;\n",
       "    }\n",
       "\n",
       "    .dataframe thead th {\n",
       "        text-align: right;\n",
       "    }\n",
       "</style>\n",
       "<table border=\"1\" class=\"dataframe\">\n",
       "  <thead>\n",
       "    <tr style=\"text-align: right;\">\n",
       "      <th></th>\n",
       "      <th>Country of Origin</th>\n",
       "      <th>Farm Name</th>\n",
       "      <th>Company</th>\n",
       "      <th>Altitude</th>\n",
       "      <th>Region</th>\n",
       "      <th>Producer</th>\n",
       "      <th>Number of Bags</th>\n",
       "      <th>Bag Weight</th>\n",
       "      <th>In-Country Partner</th>\n",
       "      <th>Harvest Year</th>\n",
       "      <th>Owner</th>\n",
       "      <th>Variety</th>\n",
       "      <th>Status</th>\n",
       "      <th>Processing Method</th>\n",
       "      <th>Aroma</th>\n",
       "      <th>Flavor</th>\n",
       "      <th>Aftertaste</th>\n",
       "      <th>Acidity</th>\n",
       "      <th>Body</th>\n",
       "      <th>Balance</th>\n",
       "      <th>Uniformity</th>\n",
       "      <th>Overall</th>\n",
       "      <th>Total Cup Points</th>\n",
       "      <th>Moisture Percentage</th>\n",
       "      <th>Category One Defects</th>\n",
       "      <th>Quakers</th>\n",
       "      <th>Color</th>\n",
       "      <th>Category Two Defects</th>\n",
       "      <th>Expiration</th>\n",
       "      <th>Diference_day</th>\n",
       "    </tr>\n",
       "  </thead>\n",
       "  <tbody>\n",
       "    <tr>\n",
       "      <th>105</th>\n",
       "      <td>Colombia</td>\n",
       "      <td>Hacienda Vanicia</td>\n",
       "      <td>Coffee Quality Institute</td>\n",
       "      <td>1500.0</td>\n",
       "      <td>NaN</td>\n",
       "      <td>NaN</td>\n",
       "      <td>1</td>\n",
       "      <td>1 kg</td>\n",
       "      <td>Barista and Coffee Academy of Asia</td>\n",
       "      <td>2022-01-01</td>\n",
       "      <td>Coffee Quality Institute</td>\n",
       "      <td>NaN</td>\n",
       "      <td>Completed</td>\n",
       "      <td>NaN</td>\n",
       "      <td>7.83</td>\n",
       "      <td>7.75</td>\n",
       "      <td>7.50</td>\n",
       "      <td>7.58</td>\n",
       "      <td>7.67</td>\n",
       "      <td>7.67</td>\n",
       "      <td>10.0</td>\n",
       "      <td>7.67</td>\n",
       "      <td>83.67</td>\n",
       "      <td>12.4</td>\n",
       "      <td>1</td>\n",
       "      <td>0</td>\n",
       "      <td>greenish</td>\n",
       "      <td>9</td>\n",
       "      <td>2023-09-26</td>\n",
       "      <td>633</td>\n",
       "    </tr>\n",
       "    <tr>\n",
       "      <th>196</th>\n",
       "      <td>Nicaragua</td>\n",
       "      <td>EXPORTADORA ATLANTIC S.A</td>\n",
       "      <td>ISHIMITSU</td>\n",
       "      <td>1100.0</td>\n",
       "      <td>NaN</td>\n",
       "      <td>Varios Productores</td>\n",
       "      <td>275</td>\n",
       "      <td>69 kg</td>\n",
       "      <td>Japan Coffee Exchange</td>\n",
       "      <td>2021-01-01</td>\n",
       "      <td>丸山花織</td>\n",
       "      <td>Caturra</td>\n",
       "      <td>Completed</td>\n",
       "      <td>Washed / Wet</td>\n",
       "      <td>7.25</td>\n",
       "      <td>7.25</td>\n",
       "      <td>7.17</td>\n",
       "      <td>7.33</td>\n",
       "      <td>7.08</td>\n",
       "      <td>7.25</td>\n",
       "      <td>10.0</td>\n",
       "      <td>7.17</td>\n",
       "      <td>80.50</td>\n",
       "      <td>11.5</td>\n",
       "      <td>0</td>\n",
       "      <td>1</td>\n",
       "      <td>greenish</td>\n",
       "      <td>3</td>\n",
       "      <td>2023-07-11</td>\n",
       "      <td>921</td>\n",
       "    </tr>\n",
       "  </tbody>\n",
       "</table>\n",
       "</div>"
      ],
      "text/plain": [
       "    Country of Origin                 Farm Name                   Company  \\\n",
       "105          Colombia          Hacienda Vanicia  Coffee Quality Institute   \n",
       "196         Nicaragua  EXPORTADORA ATLANTIC S.A                 ISHIMITSU   \n",
       "\n",
       "    Altitude Region            Producer  Number of Bags Bag Weight  \\\n",
       "105   1500.0    NaN                 NaN               1       1 kg   \n",
       "196   1100.0    NaN  Varios Productores             275      69 kg   \n",
       "\n",
       "                     In-Country Partner Harvest Year  \\\n",
       "105  Barista and Coffee Academy of Asia   2022-01-01   \n",
       "196               Japan Coffee Exchange   2021-01-01   \n",
       "\n",
       "                        Owner  Variety     Status Processing Method  Aroma  \\\n",
       "105  Coffee Quality Institute      NaN  Completed               NaN   7.83   \n",
       "196                      丸山花織  Caturra  Completed      Washed / Wet   7.25   \n",
       "\n",
       "     Flavor  Aftertaste  Acidity  Body  Balance  Uniformity  Overall  \\\n",
       "105    7.75        7.50     7.58  7.67     7.67        10.0     7.67   \n",
       "196    7.25        7.17     7.33  7.08     7.25        10.0     7.17   \n",
       "\n",
       "     Total Cup Points  Moisture Percentage  Category One Defects  Quakers  \\\n",
       "105             83.67                 12.4                     1        0   \n",
       "196             80.50                 11.5                     0        1   \n",
       "\n",
       "        Color  Category Two Defects Expiration  Diference_day  \n",
       "105  greenish                     9 2023-09-26            633  \n",
       "196  greenish                     3 2023-07-11            921  "
      ]
     },
     "execution_count": 472,
     "metadata": {},
     "output_type": "execute_result"
    }
   ],
   "source": [
    "df[pd.isna(df[\"Region\"])]"
   ]
  },
  {
   "cell_type": "code",
   "execution_count": 473,
   "metadata": {},
   "outputs": [],
   "source": [
    "df.loc[df.index == 105, 'Region'] = 'Pereira'\n",
    "df.loc[df.index == 196, 'Region'] = \"Jinotega\""
   ]
  },
  {
   "cell_type": "markdown",
   "metadata": {},
   "source": [
    "### 4. Mengatasi missing value kolom \"Processing Method\""
   ]
  },
  {
   "cell_type": "code",
   "execution_count": 474,
   "metadata": {},
   "outputs": [
    {
     "data": {
      "text/plain": [
       "<Axes: >"
      ]
     },
     "execution_count": 474,
     "metadata": {},
     "output_type": "execute_result"
    },
    {
     "data": {
      "image/png": "[encoded data removed]",
      "text/plain": [
       "<Figure size 640x480 with 1 Axes>"
      ]
     },
     "metadata": {},
     "output_type": "display_data"
    }
   ],
   "source": [
    "df['Processing Method'].value_counts().plot.bar()"
   ]
  },
  {
   "cell_type": "code",
   "execution_count": 475,
   "metadata": {},
   "outputs": [
    {
     "data": {
      "text/html": [
       "<div>\n",
       "<style scoped>\n",
       "    .dataframe tbody tr th:only-of-type {\n",
       "        vertical-align: middle;\n",
       "    }\n",
       "\n",
       "    .dataframe tbody tr th {\n",
       "        vertical-align: top;\n",
       "    }\n",
       "\n",
       "    .dataframe thead th {\n",
       "        text-align: right;\n",
       "    }\n",
       "</style>\n",
       "<table border=\"1\" class=\"dataframe\">\n",
       "  <thead>\n",
       "    <tr style=\"text-align: right;\">\n",
       "      <th></th>\n",
       "      <th>Country of Origin</th>\n",
       "      <th>Farm Name</th>\n",
       "      <th>Company</th>\n",
       "      <th>Altitude</th>\n",
       "      <th>Region</th>\n",
       "      <th>Producer</th>\n",
       "      <th>Number of Bags</th>\n",
       "      <th>Bag Weight</th>\n",
       "      <th>In-Country Partner</th>\n",
       "      <th>Harvest Year</th>\n",
       "      <th>Owner</th>\n",
       "      <th>Variety</th>\n",
       "      <th>Status</th>\n",
       "      <th>Processing Method</th>\n",
       "      <th>Aroma</th>\n",
       "      <th>Flavor</th>\n",
       "      <th>Aftertaste</th>\n",
       "      <th>Acidity</th>\n",
       "      <th>Body</th>\n",
       "      <th>Balance</th>\n",
       "      <th>Uniformity</th>\n",
       "      <th>Overall</th>\n",
       "      <th>Total Cup Points</th>\n",
       "      <th>Moisture Percentage</th>\n",
       "      <th>Category One Defects</th>\n",
       "      <th>Quakers</th>\n",
       "      <th>Color</th>\n",
       "      <th>Category Two Defects</th>\n",
       "      <th>Expiration</th>\n",
       "      <th>Diference_day</th>\n",
       "    </tr>\n",
       "  </thead>\n",
       "  <tbody>\n",
       "    <tr>\n",
       "      <th>23</th>\n",
       "      <td>Colombia</td>\n",
       "      <td>El Diamante</td>\n",
       "      <td>Coffee Quality Union</td>\n",
       "      <td>1350.0</td>\n",
       "      <td>Quindio</td>\n",
       "      <td>Farm Bedoya Arango</td>\n",
       "      <td>6</td>\n",
       "      <td>5 kg</td>\n",
       "      <td>Japan Coffee Exchange</td>\n",
       "      <td>2022-01-01</td>\n",
       "      <td>Coffee Quality Union</td>\n",
       "      <td>Castillo Paraguaycito</td>\n",
       "      <td>Completed</td>\n",
       "      <td>NaN</td>\n",
       "      <td>8.08</td>\n",
       "      <td>8.00</td>\n",
       "      <td>7.83</td>\n",
       "      <td>8.17</td>\n",
       "      <td>7.75</td>\n",
       "      <td>7.83</td>\n",
       "      <td>10.0</td>\n",
       "      <td>8.00</td>\n",
       "      <td>85.67</td>\n",
       "      <td>11.3</td>\n",
       "      <td>0</td>\n",
       "      <td>0</td>\n",
       "      <td>brownish</td>\n",
       "      <td>2</td>\n",
       "      <td>2024-04-06</td>\n",
       "      <td>826</td>\n",
       "    </tr>\n",
       "    <tr>\n",
       "      <th>44</th>\n",
       "      <td>Taiwan</td>\n",
       "      <td>愛姬咖啡莊園iGfarm</td>\n",
       "      <td>Taiwan Coffee Laboratory</td>\n",
       "      <td>150.0</td>\n",
       "      <td>壽豐鄉Shoufeng Township</td>\n",
       "      <td>劉孟宗 LIU MENG TSUNG</td>\n",
       "      <td>1</td>\n",
       "      <td>50 kg</td>\n",
       "      <td>Taiwan Coffee Laboratory 台灣咖啡研究室</td>\n",
       "      <td>2021-01-01</td>\n",
       "      <td>Liu Meng Tsung劉孟宗</td>\n",
       "      <td>Typica</td>\n",
       "      <td>Completed</td>\n",
       "      <td>NaN</td>\n",
       "      <td>7.92</td>\n",
       "      <td>8.00</td>\n",
       "      <td>7.92</td>\n",
       "      <td>8.00</td>\n",
       "      <td>7.58</td>\n",
       "      <td>7.75</td>\n",
       "      <td>10.0</td>\n",
       "      <td>7.83</td>\n",
       "      <td>85.00</td>\n",
       "      <td>10.9</td>\n",
       "      <td>0</td>\n",
       "      <td>0</td>\n",
       "      <td>green</td>\n",
       "      <td>0</td>\n",
       "      <td>2023-12-12</td>\n",
       "      <td>1075</td>\n",
       "    </tr>\n",
       "    <tr>\n",
       "      <th>51</th>\n",
       "      <td>Indonesia</td>\n",
       "      <td>PT Indo CafCo North Sumatera</td>\n",
       "      <td>InterAmerican Coffee</td>\n",
       "      <td>1200.0</td>\n",
       "      <td>Aceh Tengah</td>\n",
       "      <td>PT Indo CafCo North Sumatera</td>\n",
       "      <td>320</td>\n",
       "      <td>60 kg</td>\n",
       "      <td>NKG Quality Service (a division of Bernhard Ro...</td>\n",
       "      <td>2022-01-01</td>\n",
       "      <td>Charles Umeano</td>\n",
       "      <td>Catimor</td>\n",
       "      <td>Completed</td>\n",
       "      <td>NaN</td>\n",
       "      <td>7.83</td>\n",
       "      <td>7.92</td>\n",
       "      <td>7.75</td>\n",
       "      <td>7.83</td>\n",
       "      <td>7.83</td>\n",
       "      <td>7.83</td>\n",
       "      <td>10.0</td>\n",
       "      <td>7.83</td>\n",
       "      <td>84.83</td>\n",
       "      <td>11.9</td>\n",
       "      <td>0</td>\n",
       "      <td>3</td>\n",
       "      <td>bluish-green</td>\n",
       "      <td>2</td>\n",
       "      <td>2023-09-23</td>\n",
       "      <td>630</td>\n",
       "    </tr>\n",
       "    <tr>\n",
       "      <th>105</th>\n",
       "      <td>Colombia</td>\n",
       "      <td>Hacienda Vanicia</td>\n",
       "      <td>Coffee Quality Institute</td>\n",
       "      <td>1500.0</td>\n",
       "      <td>Pereira</td>\n",
       "      <td>NaN</td>\n",
       "      <td>1</td>\n",
       "      <td>1 kg</td>\n",
       "      <td>Barista and Coffee Academy of Asia</td>\n",
       "      <td>2022-01-01</td>\n",
       "      <td>Coffee Quality Institute</td>\n",
       "      <td>NaN</td>\n",
       "      <td>Completed</td>\n",
       "      <td>NaN</td>\n",
       "      <td>7.83</td>\n",
       "      <td>7.75</td>\n",
       "      <td>7.50</td>\n",
       "      <td>7.58</td>\n",
       "      <td>7.67</td>\n",
       "      <td>7.67</td>\n",
       "      <td>10.0</td>\n",
       "      <td>7.67</td>\n",
       "      <td>83.67</td>\n",
       "      <td>12.4</td>\n",
       "      <td>1</td>\n",
       "      <td>0</td>\n",
       "      <td>greenish</td>\n",
       "      <td>9</td>\n",
       "      <td>2023-09-26</td>\n",
       "      <td>633</td>\n",
       "    </tr>\n",
       "    <tr>\n",
       "      <th>143</th>\n",
       "      <td>Taiwan</td>\n",
       "      <td>嵩岳咖啡莊園</td>\n",
       "      <td>宸嶧國際有限公司</td>\n",
       "      <td>1200.0</td>\n",
       "      <td>Shibi, Gukeng Township, Yunlin County 郵遞區號 , T...</td>\n",
       "      <td>郭亮志</td>\n",
       "      <td>300</td>\n",
       "      <td>1 kg</td>\n",
       "      <td>Blossom Valley International宸嶧國際</td>\n",
       "      <td>2022-01-01</td>\n",
       "      <td>郭亮志 GuoLiangZhi</td>\n",
       "      <td>Gesha</td>\n",
       "      <td>Completed</td>\n",
       "      <td>NaN</td>\n",
       "      <td>7.67</td>\n",
       "      <td>7.50</td>\n",
       "      <td>7.42</td>\n",
       "      <td>7.75</td>\n",
       "      <td>7.42</td>\n",
       "      <td>7.58</td>\n",
       "      <td>10.0</td>\n",
       "      <td>7.58</td>\n",
       "      <td>82.92</td>\n",
       "      <td>10.2</td>\n",
       "      <td>0</td>\n",
       "      <td>0</td>\n",
       "      <td>yellow-green</td>\n",
       "      <td>0</td>\n",
       "      <td>2023-10-24</td>\n",
       "      <td>661</td>\n",
       "    </tr>\n",
       "  </tbody>\n",
       "</table>\n",
       "</div>"
      ],
      "text/plain": [
       "    Country of Origin                     Farm Name                   Company  \\\n",
       "23           Colombia                   El Diamante      Coffee Quality Union   \n",
       "44             Taiwan                  愛姬咖啡莊園iGfarm  Taiwan Coffee Laboratory   \n",
       "51          Indonesia  PT Indo CafCo North Sumatera      InterAmerican Coffee   \n",
       "105          Colombia              Hacienda Vanicia  Coffee Quality Institute   \n",
       "143            Taiwan                        嵩岳咖啡莊園                  宸嶧國際有限公司   \n",
       "\n",
       "    Altitude                                             Region  \\\n",
       "23    1350.0                                            Quindio   \n",
       "44     150.0                               壽豐鄉Shoufeng Township   \n",
       "51    1200.0                                        Aceh Tengah   \n",
       "105   1500.0                                            Pereira   \n",
       "143   1200.0  Shibi, Gukeng Township, Yunlin County 郵遞區號 , T...   \n",
       "\n",
       "                         Producer  Number of Bags Bag Weight  \\\n",
       "23             Farm Bedoya Arango               6       5 kg   \n",
       "44             劉孟宗 LIU MENG TSUNG               1      50 kg   \n",
       "51   PT Indo CafCo North Sumatera             320      60 kg   \n",
       "105                           NaN               1       1 kg   \n",
       "143                           郭亮志             300       1 kg   \n",
       "\n",
       "                                    In-Country Partner Harvest Year  \\\n",
       "23                               Japan Coffee Exchange   2022-01-01   \n",
       "44                    Taiwan Coffee Laboratory 台灣咖啡研究室   2021-01-01   \n",
       "51   NKG Quality Service (a division of Bernhard Ro...   2022-01-01   \n",
       "105                 Barista and Coffee Academy of Asia   2022-01-01   \n",
       "143                   Blossom Valley International宸嶧國際   2022-01-01   \n",
       "\n",
       "                        Owner                Variety     Status  \\\n",
       "23       Coffee Quality Union  Castillo Paraguaycito  Completed   \n",
       "44          Liu Meng Tsung劉孟宗                 Typica  Completed   \n",
       "51             Charles Umeano                Catimor  Completed   \n",
       "105  Coffee Quality Institute                    NaN  Completed   \n",
       "143           郭亮志 GuoLiangZhi                  Gesha  Completed   \n",
       "\n",
       "    Processing Method  Aroma  Flavor  Aftertaste  Acidity  Body  Balance  \\\n",
       "23                NaN   8.08    8.00        7.83     8.17  7.75     7.83   \n",
       "44                NaN   7.92    8.00        7.92     8.00  7.58     7.75   \n",
       "51                NaN   7.83    7.92        7.75     7.83  7.83     7.83   \n",
       "105               NaN   7.83    7.75        7.50     7.58  7.67     7.67   \n",
       "143               NaN   7.67    7.50        7.42     7.75  7.42     7.58   \n",
       "\n",
       "     Uniformity  Overall  Total Cup Points  Moisture Percentage  \\\n",
       "23         10.0     8.00             85.67                 11.3   \n",
       "44         10.0     7.83             85.00                 10.9   \n",
       "51         10.0     7.83             84.83                 11.9   \n",
       "105        10.0     7.67             83.67                 12.4   \n",
       "143        10.0     7.58             82.92                 10.2   \n",
       "\n",
       "     Category One Defects  Quakers         Color  Category Two Defects  \\\n",
       "23                      0        0      brownish                     2   \n",
       "44                      0        0         green                     0   \n",
       "51                      0        3  bluish-green                     2   \n",
       "105                     1        0      greenish                     9   \n",
       "143                     0        0  yellow-green                     0   \n",
       "\n",
       "    Expiration  Diference_day  \n",
       "23  2024-04-06            826  \n",
       "44  2023-12-12           1075  \n",
       "51  2023-09-23            630  \n",
       "105 2023-09-26            633  \n",
       "143 2023-10-24            661  "
      ]
     },
     "execution_count": 475,
     "metadata": {},
     "output_type": "execute_result"
    }
   ],
   "source": [
    "df[pd.isna(df['Processing Method'])]"
   ]
  },
  {
   "cell_type": "code",
   "execution_count": 476,
   "metadata": {},
   "outputs": [],
   "source": [
    "df.loc[df.index == 23, 'Processing Method'] = 'Washed / Wet'\n",
    "df.loc[df.index == 44, 'Processing Method'] = 'Washed / Wet'\n",
    "df.loc[df.index == 51, 'Processing Method'] = 'Washed / Wet'\n",
    "df.loc[df.index == 105, 'Processing Method'] = 'Washed / Wet'\n",
    "df.loc[df.index == 143, 'Processing Method'] = 'Washed / Wet'"
   ]
  },
  {
   "cell_type": "code",
   "execution_count": 477,
   "metadata": {},
   "outputs": [
    {
     "name": "stderr",
     "output_type": "stream",
     "text": [
      "C:\\Users\\Asani\\AppData\\Local\\Temp\\ipykernel_5864\\1738849441.py:2: FutureWarning:\n",
      "\n",
      "The default value of numeric_only in DataFrame.corr is deprecated. In a future version, it will default to False. Select only valid columns or specify the value of numeric_only to silence this warning.\n",
      "\n"
     ]
    },
    {
     "data": {
      "image/png": "[encoded data removed]",
      "text/plain": [
       "<Figure size 1600x600 with 2 Axes>"
      ]
     },
     "metadata": {},
     "output_type": "display_data"
    }
   ],
   "source": [
    "# Menghitung korelasi antara kolom-kolom pada DataFrame rating_counts\n",
    "correlation_matrix = df.corr()\n",
    "\n",
    "# Membuat heat map dari matriks korelasi\n",
    "plt.figure(figsize=(16, 6))\n",
    "sns.heatmap(correlation_matrix, annot=True, cmap='coolwarm', linewidths=0.5)\n",
    "plt.title('Heat Map Korelasi')\n",
    "plt.show()"
   ]
  },
  {
   "cell_type": "markdown",
   "metadata": {},
   "source": [
    "## Melakukan Analisis Berdasarkan 'Processing Method'"
   ]
  },
  {
   "cell_type": "code",
   "execution_count": 478,
   "metadata": {},
   "outputs": [],
   "source": [
    "df = df.groupby('Processing Method').filter(lambda x: len(x) > 1)"
   ]
  },
  {
   "cell_type": "code",
   "execution_count": 479,
   "metadata": {},
   "outputs": [
    {
     "data": {
      "application/vnd.plotly.v1+json": {
       "config": {
        "plotlyServerURL": "https://plot.ly"
       },
       "data": [
        {
         "hovertemplate": "Processing Method=Washed / Wet<br>After taste=%{x}<br>Keasaman=%{y}<extra></extra>",
         "legendgroup": "Washed / Wet",
         "marker": {
          "color": "#636efa",
          "size": 10,
          "symbol": "circle"
         },
         "mode": "markers",
         "name": "Washed / Wet",
         "orientation": "v",
         "showlegend": true,
         "type": "scatter",
         "x": [
          7.92,
          8.17,
          8.25,
          8.08,
          8.25,
          8.08,
          8.08,
          8.08,
          7.92,
          7.92,
          7.83,
          7.92,
          8,
          7.83,
          7.83,
          7.67,
          7.83,
          7.83,
          7.83,
          7.83,
          7.75,
          7.67,
          7.67,
          7.75,
          7.92,
          7.67,
          7.75,
          7.75,
          7.83,
          7.75,
          7.83,
          7.75,
          7.92,
          7.75,
          7.67,
          7.5,
          7.67,
          7.67,
          7.75,
          7.75,
          7.5,
          7.75,
          7.75,
          7.75,
          7.67,
          7.58,
          7.58,
          7.58,
          7.67,
          7.67,
          7.75,
          7.5,
          7.58,
          7.58,
          7.58,
          7.58,
          7.67,
          7.5,
          7.5,
          7.42,
          7.58,
          7.58,
          7.5,
          7.75,
          7.58,
          7.58,
          7.5,
          7.58,
          7.42,
          7.5,
          7.5,
          7.67,
          7.58,
          7.58,
          7.58,
          7.42,
          7.42,
          7.58,
          7.75,
          7.42,
          7.58,
          7.67,
          7.58,
          7.5,
          7.5,
          7.58,
          7.42,
          7.42,
          7.5,
          7.42,
          7.5,
          7.58,
          7.58,
          7.58,
          7.33,
          7.42,
          7.42,
          7.17,
          7.17,
          7.5,
          7.5,
          7.33,
          7.58,
          7.42,
          7.33,
          7.42,
          7.25,
          7.33,
          7.33,
          7.42,
          7.25,
          7.33,
          7.42,
          7.42,
          7.42,
          7.42,
          7.33,
          7.33,
          7.33,
          7.25,
          7.25,
          7.25,
          7.42,
          7.25,
          7.17,
          7,
          7.17,
          7.17,
          7.08
         ],
         "xaxis": "x",
         "y": [
          8,
          8.25,
          7.83,
          8,
          8.08,
          8.17,
          8.08,
          7.92,
          8.17,
          7.92,
          8.17,
          8,
          7.83,
          7.83,
          7.92,
          7.83,
          8,
          8.17,
          7.92,
          7.58,
          8,
          7.75,
          8,
          7.75,
          8,
          8,
          7.92,
          8,
          7.83,
          7.83,
          7.83,
          7.92,
          7.83,
          7.92,
          7.83,
          7.67,
          7.67,
          7.83,
          7.75,
          7.92,
          7.75,
          7.75,
          7.92,
          7.75,
          7.75,
          7.75,
          7.83,
          7.83,
          7.83,
          7.75,
          7.75,
          7.67,
          7.92,
          7.92,
          7.75,
          7.75,
          7.75,
          7.67,
          7.92,
          7.58,
          7.58,
          7.67,
          7.58,
          7.75,
          7.67,
          7.58,
          7.58,
          7.67,
          8,
          7.67,
          7.5,
          7.92,
          7.5,
          7.75,
          7.75,
          7.75,
          7.67,
          7.58,
          7.33,
          7.5,
          7.67,
          7.58,
          7.58,
          7.58,
          7.58,
          7.58,
          7.58,
          7.67,
          7.67,
          7.75,
          7.5,
          7.5,
          7.5,
          7.5,
          7.5,
          7.42,
          7.58,
          7.67,
          7.67,
          7.5,
          7.5,
          7.5,
          7.42,
          7.42,
          7.5,
          7.42,
          7.67,
          7.58,
          7.5,
          7.5,
          7.5,
          7.5,
          7.42,
          7.42,
          7.33,
          7.33,
          7.5,
          7.42,
          7.42,
          7.25,
          7.42,
          7.33,
          7.25,
          7.42,
          7.33,
          7.08,
          7.33,
          7.17,
          7
         ],
         "yaxis": "y"
        },
        {
         "hovertemplate": "Processing Method=Natural / Dry<br>After taste=%{x}<br>Keasaman=%{y}<extra></extra>",
         "legendgroup": "Natural / Dry",
         "marker": {
          "color": "#EF553B",
          "size": 10,
          "symbol": "circle"
         },
         "mode": "markers",
         "name": "Natural / Dry",
         "orientation": "v",
         "showlegend": true,
         "type": "scatter",
         "x": [
          8.17,
          8,
          8,
          8,
          8,
          7.75,
          8.08,
          7.92,
          8,
          7.92,
          8,
          8,
          7.83,
          7.83,
          7.75,
          7.67,
          7.67,
          7.67,
          7.67,
          7.75,
          7.75,
          7.58,
          7.67,
          7.58,
          7.58,
          7.67,
          7.67,
          7.58,
          7.5,
          7.5,
          7.5,
          7.33,
          7.25,
          7.5,
          7.42,
          7.5,
          7.42,
          7.58,
          7.33,
          7.25,
          7.33,
          7.08,
          7.17,
          6.92,
          6.75,
          6.75
         ],
         "xaxis": "x",
         "y": [
          8,
          8.08,
          7.75,
          8.33,
          7.92,
          7.92,
          7.92,
          7.92,
          7.92,
          8,
          7.92,
          8,
          7.92,
          7.67,
          7.75,
          7.67,
          7.83,
          7.67,
          7.75,
          7.67,
          7.83,
          7.92,
          7.75,
          7.67,
          7.75,
          7.67,
          7.58,
          7.75,
          7.75,
          7.83,
          7.75,
          7.67,
          7.33,
          7.42,
          7.42,
          7.5,
          7.5,
          7.33,
          7.42,
          7.25,
          7.5,
          7.42,
          7.08,
          7.17,
          7.17,
          7.17
         ],
         "yaxis": "y"
        },
        {
         "hovertemplate": "Processing Method=Pulped natural / honey<br>After taste=%{x}<br>Keasaman=%{y}<extra></extra>",
         "legendgroup": "Pulped natural / honey",
         "marker": {
          "color": "#00cc96",
          "size": 10,
          "symbol": "circle"
         },
         "mode": "markers",
         "name": "Pulped natural / honey",
         "orientation": "v",
         "showlegend": true,
         "type": "scatter",
         "x": [
          8,
          7.83,
          7.83,
          7.83,
          7.67,
          7.75,
          7.67,
          7.83,
          7.83,
          7.83,
          7.75,
          7.67,
          7.67,
          7.58,
          7.5,
          7.58,
          7.58,
          7.25,
          7.42,
          7.25,
          7.42,
          7.25,
          7.42,
          7.33,
          7.42
         ],
         "xaxis": "x",
         "y": [
          7.92,
          8,
          7.92,
          7.75,
          7.92,
          7.75,
          7.83,
          7.75,
          7.83,
          7.58,
          7.67,
          7.58,
          7.83,
          7.75,
          7.75,
          7.58,
          7.5,
          7.92,
          7.5,
          7.67,
          7.5,
          7.42,
          7.33,
          7.33,
          7.33
         ],
         "yaxis": "y"
        }
       ],
       "layout": {
        "legend": {
         "title": {
          "text": "Processing Method"
         },
         "tracegroupgap": 0
        },
        "template": {
         "data": {
          "bar": [
           {
            "error_x": {
             "color": "#2a3f5f"
            },
            "error_y": {
             "color": "#2a3f5f"
            },
            "marker": {
             "line": {
              "color": "#E5ECF6",
              "width": 0.5
             },
             "pattern": {
              "fillmode": "overlay",
              "size": 10,
              "solidity": 0.2
             }
            },
            "type": "bar"
           }
          ],
          "barpolar": [
           {
            "marker": {
             "line": {
              "color": "#E5ECF6",
              "width": 0.5
             },
             "pattern": {
              "fillmode": "overlay",
              "size": 10,
              "solidity": 0.2
             }
            },
            "type": "barpolar"
           }
          ],
          "carpet": [
           {
            "aaxis": {
             "endlinecolor": "#2a3f5f",
             "gridcolor": "white",
             "linecolor": "white",
             "minorgridcolor": "white",
             "startlinecolor": "#2a3f5f"
            },
            "baxis": {
             "endlinecolor": "#2a3f5f",
             "gridcolor": "white",
             "linecolor": "white",
             "minorgridcolor": "white",
             "startlinecolor": "#2a3f5f"
            },
            "type": "carpet"
           }
          ],
          "choropleth": [
           {
            "colorbar": {
             "outlinewidth": 0,
             "ticks": ""
            },
            "type": "choropleth"
           }
          ],
          "contour": [
           {
            "colorbar": {
             "outlinewidth": 0,
             "ticks": ""
            },
            "colorscale": [
             [
              0,
              "#0d0887"
             ],
             [
              0.1111111111111111,
              "#46039f"
             ],
             [
              0.2222222222222222,
              "#7201a8"
             ],
             [
              0.3333333333333333,
              "#9c179e"
             ],
             [
              0.4444444444444444,
              "#bd3786"
             ],
             [
              0.5555555555555556,
              "#d8576b"
             ],
             [
              0.6666666666666666,
              "#ed7953"
             ],
             [
              0.7777777777777778,
              "#fb9f3a"
             ],
             [
              0.8888888888888888,
              "#fdca26"
             ],
             [
              1,
              "#f0f921"
             ]
            ],
            "type": "contour"
           }
          ],
          "contourcarpet": [
           {
            "colorbar": {
             "outlinewidth": 0,
             "ticks": ""
            },
            "type": "contourcarpet"
           }
          ],
          "heatmap": [
           {
            "colorbar": {
             "outlinewidth": 0,
             "ticks": ""
            },
            "colorscale": [
             [
              0,
              "#0d0887"
             ],
             [
              0.1111111111111111,
              "#46039f"
             ],
             [
              0.2222222222222222,
              "#7201a8"
             ],
             [
              0.3333333333333333,
              "#9c179e"
             ],
             [
              0.4444444444444444,
              "#bd3786"
             ],
             [
              0.5555555555555556,
              "#d8576b"
             ],
             [
              0.6666666666666666,
              "#ed7953"
             ],
             [
              0.7777777777777778,
              "#fb9f3a"
             ],
             [
              0.8888888888888888,
              "#fdca26"
             ],
             [
              1,
              "#f0f921"
             ]
            ],
            "type": "heatmap"
           }
          ],
          "heatmapgl": [
           {
            "colorbar": {
             "outlinewidth": 0,
             "ticks": ""
            },
            "colorscale": [
             [
              0,
              "#0d0887"
             ],
             [
              0.1111111111111111,
              "#46039f"
             ],
             [
              0.2222222222222222,
              "#7201a8"
             ],
             [
              0.3333333333333333,
              "#9c179e"
             ],
             [
              0.4444444444444444,
              "#bd3786"
             ],
             [
              0.5555555555555556,
              "#d8576b"
             ],
             [
              0.6666666666666666,
              "#ed7953"
             ],
             [
              0.7777777777777778,
              "#fb9f3a"
             ],
             [
              0.8888888888888888,
              "#fdca26"
             ],
             [
              1,
              "#f0f921"
             ]
            ],
            "type": "heatmapgl"
           }
          ],
          "histogram": [
           {
            "marker": {
             "pattern": {
              "fillmode": "overlay",
              "size": 10,
              "solidity": 0.2
             }
            },
            "type": "histogram"
           }
          ],
          "histogram2d": [
           {
            "colorbar": {
             "outlinewidth": 0,
             "ticks": ""
            },
            "colorscale": [
             [
              0,
              "#0d0887"
             ],
             [
              0.1111111111111111,
              "#46039f"
             ],
             [
              0.2222222222222222,
              "#7201a8"
             ],
             [
              0.3333333333333333,
              "#9c179e"
             ],
             [
              0.4444444444444444,
              "#bd3786"
             ],
             [
              0.5555555555555556,
              "#d8576b"
             ],
             [
              0.6666666666666666,
              "#ed7953"
             ],
             [
              0.7777777777777778,
              "#fb9f3a"
             ],
             [
              0.8888888888888888,
              "#fdca26"
             ],
             [
              1,
              "#f0f921"
             ]
            ],
            "type": "histogram2d"
           }
          ],
          "histogram2dcontour": [
           {
            "colorbar": {
             "outlinewidth": 0,
             "ticks": ""
            },
            "colorscale": [
             [
              0,
              "#0d0887"
             ],
             [
              0.1111111111111111,
              "#46039f"
             ],
             [
              0.2222222222222222,
              "#7201a8"
             ],
             [
              0.3333333333333333,
              "#9c179e"
             ],
             [
              0.4444444444444444,
              "#bd3786"
             ],
             [
              0.5555555555555556,
              "#d8576b"
             ],
             [
              0.6666666666666666,
              "#ed7953"
             ],
             [
              0.7777777777777778,
              "#fb9f3a"
             ],
             [
              0.8888888888888888,
              "#fdca26"
             ],
             [
              1,
              "#f0f921"
             ]
            ],
            "type": "histogram2dcontour"
           }
          ],
          "mesh3d": [
           {
            "colorbar": {
             "outlinewidth": 0,
             "ticks": ""
            },
            "type": "mesh3d"
           }
          ],
          "parcoords": [
           {
            "line": {
             "colorbar": {
              "outlinewidth": 0,
              "ticks": ""
             }
            },
            "type": "parcoords"
           }
          ],
          "pie": [
           {
            "automargin": true,
            "type": "pie"
           }
          ],
          "scatter": [
           {
            "fillpattern": {
             "fillmode": "overlay",
             "size": 10,
             "solidity": 0.2
            },
            "type": "scatter"
           }
          ],
          "scatter3d": [
           {
            "line": {
             "colorbar": {
              "outlinewidth": 0,
              "ticks": ""
             }
            },
            "marker": {
             "colorbar": {
              "outlinewidth": 0,
              "ticks": ""
             }
            },
            "type": "scatter3d"
           }
          ],
          "scattercarpet": [
           {
            "marker": {
             "colorbar": {
              "outlinewidth": 0,
              "ticks": ""
             }
            },
            "type": "scattercarpet"
           }
          ],
          "scattergeo": [
           {
            "marker": {
             "colorbar": {
              "outlinewidth": 0,
              "ticks": ""
             }
            },
            "type": "scattergeo"
           }
          ],
          "scattergl": [
           {
            "marker": {
             "colorbar": {
              "outlinewidth": 0,
              "ticks": ""
             }
            },
            "type": "scattergl"
           }
          ],
          "scattermapbox": [
           {
            "marker": {
             "colorbar": {
              "outlinewidth": 0,
              "ticks": ""
             }
            },
            "type": "scattermapbox"
           }
          ],
          "scatterpolar": [
           {
            "marker": {
             "colorbar": {
              "outlinewidth": 0,
              "ticks": ""
             }
            },
            "type": "scatterpolar"
           }
          ],
          "scatterpolargl": [
           {
            "marker": {
             "colorbar": {
              "outlinewidth": 0,
              "ticks": ""
             }
            },
            "type": "scatterpolargl"
           }
          ],
          "scatterternary": [
           {
            "marker": {
             "colorbar": {
              "outlinewidth": 0,
              "ticks": ""
             }
            },
            "type": "scatterternary"
           }
          ],
          "surface": [
           {
            "colorbar": {
             "outlinewidth": 0,
             "ticks": ""
            },
            "colorscale": [
             [
              0,
              "#0d0887"
             ],
             [
              0.1111111111111111,
              "#46039f"
             ],
             [
              0.2222222222222222,
              "#7201a8"
             ],
             [
              0.3333333333333333,
              "#9c179e"
             ],
             [
              0.4444444444444444,
              "#bd3786"
             ],
             [
              0.5555555555555556,
              "#d8576b"
             ],
             [
              0.6666666666666666,
              "#ed7953"
             ],
             [
              0.7777777777777778,
              "#fb9f3a"
             ],
             [
              0.8888888888888888,
              "#fdca26"
             ],
             [
              1,
              "#f0f921"
             ]
            ],
            "type": "surface"
           }
          ],
          "table": [
           {
            "cells": {
             "fill": {
              "color": "#EBF0F8"
             },
             "line": {
              "color": "white"
             }
            },
            "header": {
             "fill": {
              "color": "#C8D4E3"
             },
             "line": {
              "color": "white"
             }
            },
            "type": "table"
           }
          ]
         },
         "layout": {
          "annotationdefaults": {
           "arrowcolor": "#2a3f5f",
           "arrowhead": 0,
           "arrowwidth": 1
          },
          "autotypenumbers": "strict",
          "coloraxis": {
           "colorbar": {
            "outlinewidth": 0,
            "ticks": ""
           }
          },
          "colorscale": {
           "diverging": [
            [
             0,
             "#8e0152"
            ],
            [
             0.1,
             "#c51b7d"
            ],
            [
             0.2,
             "#de77ae"
            ],
            [
             0.3,
             "#f1b6da"
            ],
            [
             0.4,
             "#fde0ef"
            ],
            [
             0.5,
             "#f7f7f7"
            ],
            [
             0.6,
             "#e6f5d0"
            ],
            [
             0.7,
             "#b8e186"
            ],
            [
             0.8,
             "#7fbc41"
            ],
            [
             0.9,
             "#4d9221"
            ],
            [
             1,
             "#276419"
            ]
           ],
           "sequential": [
            [
             0,
             "#0d0887"
            ],
            [
             0.1111111111111111,
             "#46039f"
            ],
            [
             0.2222222222222222,
             "#7201a8"
            ],
            [
             0.3333333333333333,
             "#9c179e"
            ],
            [
             0.4444444444444444,
             "#bd3786"
            ],
            [
             0.5555555555555556,
             "#d8576b"
            ],
            [
             0.6666666666666666,
             "#ed7953"
            ],
            [
             0.7777777777777778,
             "#fb9f3a"
            ],
            [
             0.8888888888888888,
             "#fdca26"
            ],
            [
             1,
             "#f0f921"
            ]
           ],
           "sequentialminus": [
            [
             0,
             "#0d0887"
            ],
            [
             0.1111111111111111,
             "#46039f"
            ],
            [
             0.2222222222222222,
             "#7201a8"
            ],
            [
             0.3333333333333333,
             "#9c179e"
            ],
            [
             0.4444444444444444,
             "#bd3786"
            ],
            [
             0.5555555555555556,
             "#d8576b"
            ],
            [
             0.6666666666666666,
             "#ed7953"
            ],
            [
             0.7777777777777778,
             "#fb9f3a"
            ],
            [
             0.8888888888888888,
             "#fdca26"
            ],
            [
             1,
             "#f0f921"
            ]
           ]
          },
          "colorway": [
           "#636efa",
           "#EF553B",
           "#00cc96",
           "#ab63fa",
           "#FFA15A",
           "#19d3f3",
           "#FF6692",
           "#B6E880",
           "#FF97FF",
           "#FECB52"
          ],
          "font": {
           "color": "#2a3f5f"
          },
          "geo": {
           "bgcolor": "white",
           "lakecolor": "white",
           "landcolor": "#E5ECF6",
           "showlakes": true,
           "showland": true,
           "subunitcolor": "white"
          },
          "hoverlabel": {
           "align": "left"
          },
          "hovermode": "closest",
          "mapbox": {
           "style": "light"
          },
          "paper_bgcolor": "white",
          "plot_bgcolor": "#E5ECF6",
          "polar": {
           "angularaxis": {
            "gridcolor": "white",
            "linecolor": "white",
            "ticks": ""
           },
           "bgcolor": "#E5ECF6",
           "radialaxis": {
            "gridcolor": "white",
            "linecolor": "white",
            "ticks": ""
           }
          },
          "scene": {
           "xaxis": {
            "backgroundcolor": "#E5ECF6",
            "gridcolor": "white",
            "gridwidth": 2,
            "linecolor": "white",
            "showbackground": true,
            "ticks": "",
            "zerolinecolor": "white"
           },
           "yaxis": {
            "backgroundcolor": "#E5ECF6",
            "gridcolor": "white",
            "gridwidth": 2,
            "linecolor": "white",
            "showbackground": true,
            "ticks": "",
            "zerolinecolor": "white"
           },
           "zaxis": {
            "backgroundcolor": "#E5ECF6",
            "gridcolor": "white",
            "gridwidth": 2,
            "linecolor": "white",
            "showbackground": true,
            "ticks": "",
            "zerolinecolor": "white"
           }
          },
          "shapedefaults": {
           "line": {
            "color": "#2a3f5f"
           }
          },
          "ternary": {
           "aaxis": {
            "gridcolor": "white",
            "linecolor": "white",
            "ticks": ""
           },
           "baxis": {
            "gridcolor": "white",
            "linecolor": "white",
            "ticks": ""
           },
           "bgcolor": "#E5ECF6",
           "caxis": {
            "gridcolor": "white",
            "linecolor": "white",
            "ticks": ""
           }
          },
          "title": {
           "x": 0.05
          },
          "xaxis": {
           "automargin": true,
           "gridcolor": "white",
           "linecolor": "white",
           "ticks": "",
           "title": {
            "standoff": 15
           },
           "zerolinecolor": "white",
           "zerolinewidth": 2
          },
          "yaxis": {
           "automargin": true,
           "gridcolor": "white",
           "linecolor": "white",
           "ticks": "",
           "title": {
            "standoff": 15
           },
           "zerolinecolor": "white",
           "zerolinewidth": 2
          }
         }
        },
        "title": {
         "text": "Hubungan  After taste, Keasaman berdasarkan Processing Method"
        },
        "xaxis": {
         "anchor": "y",
         "domain": [
          0,
          1
         ],
         "title": {
          "text": "After taste"
         }
        },
        "yaxis": {
         "anchor": "x",
         "domain": [
          0,
          1
         ],
         "title": {
          "text": "Keasaman"
         }
        }
       }
      }
     },
     "metadata": {},
     "output_type": "display_data"
    }
   ],
   "source": [
    "fig = px.scatter(df, x='Aftertaste', y='Acidity', color='Processing Method',\n",
    "                 labels={'Aftertaste': 'After taste', 'Acidity': 'Keasaman', 'Processing Method': 'Processing Method'},\n",
    "                 title='Hubungan  After taste, Keasaman berdasarkan Processing Method')\n",
    "\n",
    "fig.update_traces(\n",
    "    marker=dict(size=10),\n",
    "    selector=dict(mode='markers')\n",
    ")\n",
    "\n",
    "fig.show()"
   ]
  },
  {
   "cell_type": "code",
   "execution_count": 480,
   "metadata": {},
   "outputs": [
    {
     "data": {
      "application/vnd.plotly.v1+json": {
       "config": {
        "plotlyServerURL": "https://plot.ly"
       },
       "data": [
        {
         "hovertemplate": "Processing Method=Washed / Wet<br>Aroma=%{x}<br>Flavor=%{y}<extra></extra>",
         "legendgroup": "Washed / Wet",
         "marker": {
          "color": "#636efa",
          "size": 10,
          "symbol": "circle"
         },
         "mode": "markers",
         "name": "Washed / Wet",
         "orientation": "v",
         "showlegend": true,
         "type": "scatter",
         "x": [
          8.5,
          8.08,
          8.33,
          8.33,
          8.08,
          8.08,
          8.08,
          8.08,
          8.17,
          8.17,
          8.08,
          7.83,
          8,
          8,
          7.92,
          8.08,
          7.67,
          7.92,
          8,
          8.17,
          7.75,
          8,
          8,
          8,
          7.92,
          7.67,
          7.67,
          7.83,
          7.92,
          7.83,
          8,
          7.92,
          7.67,
          7.83,
          7.67,
          7.58,
          8.08,
          7.75,
          7.83,
          7.92,
          7.83,
          7.67,
          7.92,
          7.75,
          7.58,
          7.92,
          7.75,
          7.58,
          7.67,
          7.67,
          7.58,
          8,
          7.75,
          7.67,
          7.67,
          7.58,
          7.67,
          7.58,
          7.83,
          7.92,
          7.67,
          7.67,
          7.83,
          7.67,
          7.58,
          7.75,
          7.75,
          7.42,
          7.42,
          7.67,
          7.75,
          7.75,
          7.75,
          7.5,
          7.58,
          7.67,
          7.58,
          7.75,
          7.92,
          7.92,
          7.75,
          7.67,
          7.75,
          7.67,
          7.67,
          7.75,
          8,
          7.75,
          7.58,
          7.67,
          7.67,
          7.17,
          7.58,
          7.33,
          7.67,
          7.67,
          7.5,
          7.67,
          7.75,
          7.33,
          7.67,
          7.58,
          7.42,
          7.58,
          7.5,
          7.5,
          7.33,
          7.67,
          7.75,
          7.5,
          7.67,
          7.5,
          7.5,
          7.17,
          7.42,
          7.42,
          7.5,
          7.33,
          7.33,
          7.58,
          7.33,
          7.33,
          7.25,
          7.42,
          7.25,
          7.42,
          7.25,
          7.5,
          7.25
         ],
         "xaxis": "x",
         "y": [
          8.5,
          8.17,
          8.33,
          8.17,
          8.08,
          8.17,
          8,
          8,
          8.08,
          8,
          8,
          8,
          7.92,
          8,
          8,
          8.17,
          7.83,
          7.75,
          7.92,
          7.75,
          7.92,
          8.08,
          7.92,
          7.92,
          8,
          8.08,
          8,
          7.92,
          7.92,
          7.92,
          8,
          7.75,
          7.92,
          7.83,
          8,
          7.83,
          7.83,
          7.83,
          7.92,
          7.83,
          8,
          7.83,
          7.83,
          7.75,
          7.92,
          7.92,
          7.75,
          7.92,
          7.83,
          7.92,
          7.67,
          7.75,
          7.58,
          7.83,
          7.92,
          7.83,
          7.75,
          7.92,
          7.67,
          7.75,
          7.92,
          7.67,
          7.75,
          7.67,
          7.83,
          7.67,
          7.75,
          7.83,
          7.42,
          7.67,
          7.75,
          7.92,
          7.67,
          7.75,
          7.67,
          7.67,
          7.75,
          7.83,
          7.92,
          7.67,
          7.75,
          7.75,
          7.58,
          7.67,
          7.67,
          7.58,
          7.67,
          7.5,
          7.5,
          7.5,
          7.58,
          7.92,
          7.67,
          7.58,
          7.58,
          7.58,
          7.58,
          7.33,
          7.67,
          7.58,
          7.42,
          7.58,
          7.42,
          7.58,
          7.5,
          7.5,
          7.67,
          7.5,
          7.42,
          7.5,
          7.5,
          7.67,
          7.58,
          7.5,
          7.42,
          7.42,
          7.5,
          7.42,
          7.5,
          7.42,
          7.42,
          7.42,
          7.25,
          7.25,
          7.25,
          7.17,
          7.25,
          7.25,
          7.17
         ],
         "yaxis": "y"
        },
        {
         "hovertemplate": "Processing Method=Natural / Dry<br>Aroma=%{x}<br>Flavor=%{y}<extra></extra>",
         "legendgroup": "Natural / Dry",
         "marker": {
          "color": "#EF553B",
          "size": 10,
          "symbol": "circle"
         },
         "mode": "markers",
         "name": "Natural / Dry",
         "orientation": "v",
         "showlegend": true,
         "type": "scatter",
         "x": [
          8.25,
          8.08,
          8.08,
          7.67,
          8,
          8.08,
          8,
          8.08,
          7.92,
          8.17,
          8,
          8,
          8,
          8.17,
          8,
          7.83,
          7.83,
          7.92,
          7.83,
          8,
          8.08,
          7.83,
          7.92,
          7.83,
          7.75,
          7.58,
          7.83,
          7.67,
          7.58,
          7.58,
          7.75,
          7.67,
          7.33,
          7.5,
          7.67,
          7.5,
          7.67,
          7.42,
          7.42,
          7.42,
          7.42,
          7.08,
          7.25,
          7.17,
          7.33,
          6.5
         ],
         "xaxis": "x",
         "y": [
          8.25,
          8.25,
          8,
          8.17,
          8.17,
          8.17,
          7.92,
          8,
          7.92,
          8.08,
          8,
          8.08,
          7.92,
          8.08,
          8,
          7.83,
          8,
          7.75,
          8,
          7.83,
          7.92,
          7.75,
          7.75,
          7.83,
          7.67,
          7.83,
          7.83,
          7.67,
          7.67,
          7.5,
          7.75,
          7.75,
          7.58,
          7.58,
          7.67,
          7.58,
          7.58,
          7.5,
          7.25,
          7.42,
          7.33,
          7.25,
          7.17,
          7.17,
          7.08,
          6.75
         ],
         "yaxis": "y"
        },
        {
         "hovertemplate": "Processing Method=Pulped natural / honey<br>Aroma=%{x}<br>Flavor=%{y}<extra></extra>",
         "legendgroup": "Pulped natural / honey",
         "marker": {
          "color": "#00cc96",
          "size": 10,
          "symbol": "circle"
         },
         "mode": "markers",
         "name": "Pulped natural / honey",
         "orientation": "v",
         "showlegend": true,
         "type": "scatter",
         "x": [
          8.17,
          7.67,
          7.83,
          8.25,
          7.92,
          7.83,
          8.17,
          7.75,
          7.83,
          7.83,
          7.75,
          7.67,
          7.58,
          7.58,
          7.58,
          7.5,
          7.58,
          7.33,
          7.33,
          7.67,
          7.25,
          7.5,
          7.5,
          7.42,
          7.33
         ],
         "xaxis": "x",
         "y": [
          8.08,
          8,
          8.08,
          8.08,
          8.08,
          7.83,
          7.83,
          7.92,
          7.83,
          7.92,
          7.75,
          7.92,
          7.75,
          7.75,
          7.67,
          7.67,
          7.42,
          7.5,
          7.42,
          7.33,
          7.42,
          7.5,
          7.5,
          7.5,
          7.5
         ],
         "yaxis": "y"
        }
       ],
       "layout": {
        "legend": {
         "title": {
          "text": "Processing Method"
         },
         "tracegroupgap": 0
        },
        "template": {
         "data": {
          "bar": [
           {
            "error_x": {
             "color": "#2a3f5f"
            },
            "error_y": {
             "color": "#2a3f5f"
            },
            "marker": {
             "line": {
              "color": "#E5ECF6",
              "width": 0.5
             },
             "pattern": {
              "fillmode": "overlay",
              "size": 10,
              "solidity": 0.2
             }
            },
            "type": "bar"
           }
          ],
          "barpolar": [
           {
            "marker": {
             "line": {
              "color": "#E5ECF6",
              "width": 0.5
             },
             "pattern": {
              "fillmode": "overlay",
              "size": 10,
              "solidity": 0.2
             }
            },
            "type": "barpolar"
           }
          ],
          "carpet": [
           {
            "aaxis": {
             "endlinecolor": "#2a3f5f",
             "gridcolor": "white",
             "linecolor": "white",
             "minorgridcolor": "white",
             "startlinecolor": "#2a3f5f"
            },
            "baxis": {
             "endlinecolor": "#2a3f5f",
             "gridcolor": "white",
             "linecolor": "white",
             "minorgridcolor": "white",
             "startlinecolor": "#2a3f5f"
            },
            "type": "carpet"
           }
          ],
          "choropleth": [
           {
            "colorbar": {
             "outlinewidth": 0,
             "ticks": ""
            },
            "type": "choropleth"
           }
          ],
          "contour": [
           {
            "colorbar": {
             "outlinewidth": 0,
             "ticks": ""
            },
            "colorscale": [
             [
              0,
              "#0d0887"
             ],
             [
              0.1111111111111111,
              "#46039f"
             ],
             [
              0.2222222222222222,
              "#7201a8"
             ],
             [
              0.3333333333333333,
              "#9c179e"
             ],
             [
              0.4444444444444444,
              "#bd3786"
             ],
             [
              0.5555555555555556,
              "#d8576b"
             ],
             [
              0.6666666666666666,
              "#ed7953"
             ],
             [
              0.7777777777777778,
              "#fb9f3a"
             ],
             [
              0.8888888888888888,
              "#fdca26"
             ],
             [
              1,
              "#f0f921"
             ]
            ],
            "type": "contour"
           }
          ],
          "contourcarpet": [
           {
            "colorbar": {
             "outlinewidth": 0,
             "ticks": ""
            },
            "type": "contourcarpet"
           }
          ],
          "heatmap": [
           {
            "colorbar": {
             "outlinewidth": 0,
             "ticks": ""
            },
            "colorscale": [
             [
              0,
              "#0d0887"
             ],
             [
              0.1111111111111111,
              "#46039f"
             ],
             [
              0.2222222222222222,
              "#7201a8"
             ],
             [
              0.3333333333333333,
              "#9c179e"
             ],
             [
              0.4444444444444444,
              "#bd3786"
             ],
             [
              0.5555555555555556,
              "#d8576b"
             ],
             [
              0.6666666666666666,
              "#ed7953"
             ],
             [
              0.7777777777777778,
              "#fb9f3a"
             ],
             [
              0.8888888888888888,
              "#fdca26"
             ],
             [
              1,
              "#f0f921"
             ]
            ],
            "type": "heatmap"
           }
          ],
          "heatmapgl": [
           {
            "colorbar": {
             "outlinewidth": 0,
             "ticks": ""
            },
            "colorscale": [
             [
              0,
              "#0d0887"
             ],
             [
              0.1111111111111111,
              "#46039f"
             ],
             [
              0.2222222222222222,
              "#7201a8"
             ],
             [
              0.3333333333333333,
              "#9c179e"
             ],
             [
              0.4444444444444444,
              "#bd3786"
             ],
             [
              0.5555555555555556,
              "#d8576b"
             ],
             [
              0.6666666666666666,
              "#ed7953"
             ],
             [
              0.7777777777777778,
              "#fb9f3a"
             ],
             [
              0.8888888888888888,
              "#fdca26"
             ],
             [
              1,
              "#f0f921"
             ]
            ],
            "type": "heatmapgl"
           }
          ],
          "histogram": [
           {
            "marker": {
             "pattern": {
              "fillmode": "overlay",
              "size": 10,
              "solidity": 0.2
             }
            },
            "type": "histogram"
           }
          ],
          "histogram2d": [
           {
            "colorbar": {
             "outlinewidth": 0,
             "ticks": ""
            },
            "colorscale": [
             [
              0,
              "#0d0887"
             ],
             [
              0.1111111111111111,
              "#46039f"
             ],
             [
              0.2222222222222222,
              "#7201a8"
             ],
             [
              0.3333333333333333,
              "#9c179e"
             ],
             [
              0.4444444444444444,
              "#bd3786"
             ],
             [
              0.5555555555555556,
              "#d8576b"
             ],
             [
              0.6666666666666666,
              "#ed7953"
             ],
             [
              0.7777777777777778,
              "#fb9f3a"
             ],
             [
              0.8888888888888888,
              "#fdca26"
             ],
             [
              1,
              "#f0f921"
             ]
            ],
            "type": "histogram2d"
           }
          ],
          "histogram2dcontour": [
           {
            "colorbar": {
             "outlinewidth": 0,
             "ticks": ""
            },
            "colorscale": [
             [
              0,
              "#0d0887"
             ],
             [
              0.1111111111111111,
              "#46039f"
             ],
             [
              0.2222222222222222,
              "#7201a8"
             ],
             [
              0.3333333333333333,
              "#9c179e"
             ],
             [
              0.4444444444444444,
              "#bd3786"
             ],
             [
              0.5555555555555556,
              "#d8576b"
             ],
             [
              0.6666666666666666,
              "#ed7953"
             ],
             [
              0.7777777777777778,
              "#fb9f3a"
             ],
             [
              0.8888888888888888,
              "#fdca26"
             ],
             [
              1,
              "#f0f921"
             ]
            ],
            "type": "histogram2dcontour"
           }
          ],
          "mesh3d": [
           {
            "colorbar": {
             "outlinewidth": 0,
             "ticks": ""
            },
            "type": "mesh3d"
           }
          ],
          "parcoords": [
           {
            "line": {
             "colorbar": {
              "outlinewidth": 0,
              "ticks": ""
             }
            },
            "type": "parcoords"
           }
          ],
          "pie": [
           {
            "automargin": true,
            "type": "pie"
           }
          ],
          "scatter": [
           {
            "fillpattern": {
             "fillmode": "overlay",
             "size": 10,
             "solidity": 0.2
            },
            "type": "scatter"
           }
          ],
          "scatter3d": [
           {
            "line": {
             "colorbar": {
              "outlinewidth": 0,
              "ticks": ""
             }
            },
            "marker": {
             "colorbar": {
              "outlinewidth": 0,
              "ticks": ""
             }
            },
            "type": "scatter3d"
           }
          ],
          "scattercarpet": [
           {
            "marker": {
             "colorbar": {
              "outlinewidth": 0,
              "ticks": ""
             }
            },
            "type": "scattercarpet"
           }
          ],
          "scattergeo": [
           {
            "marker": {
             "colorbar": {
              "outlinewidth": 0,
              "ticks": ""
             }
            },
            "type": "scattergeo"
           }
          ],
          "scattergl": [
           {
            "marker": {
             "colorbar": {
              "outlinewidth": 0,
              "ticks": ""
             }
            },
            "type": "scattergl"
           }
          ],
          "scattermapbox": [
           {
            "marker": {
             "colorbar": {
              "outlinewidth": 0,
              "ticks": ""
             }
            },
            "type": "scattermapbox"
           }
          ],
          "scatterpolar": [
           {
            "marker": {
             "colorbar": {
              "outlinewidth": 0,
              "ticks": ""
             }
            },
            "type": "scatterpolar"
           }
          ],
          "scatterpolargl": [
           {
            "marker": {
             "colorbar": {
              "outlinewidth": 0,
              "ticks": ""
             }
            },
            "type": "scatterpolargl"
           }
          ],
          "scatterternary": [
           {
            "marker": {
             "colorbar": {
              "outlinewidth": 0,
              "ticks": ""
             }
            },
            "type": "scatterternary"
           }
          ],
          "surface": [
           {
            "colorbar": {
             "outlinewidth": 0,
             "ticks": ""
            },
            "colorscale": [
             [
              0,
              "#0d0887"
             ],
             [
              0.1111111111111111,
              "#46039f"
             ],
             [
              0.2222222222222222,
              "#7201a8"
             ],
             [
              0.3333333333333333,
              "#9c179e"
             ],
             [
              0.4444444444444444,
              "#bd3786"
             ],
             [
              0.5555555555555556,
              "#d8576b"
             ],
             [
              0.6666666666666666,
              "#ed7953"
             ],
             [
              0.7777777777777778,
              "#fb9f3a"
             ],
             [
              0.8888888888888888,
              "#fdca26"
             ],
             [
              1,
              "#f0f921"
             ]
            ],
            "type": "surface"
           }
          ],
          "table": [
           {
            "cells": {
             "fill": {
              "color": "#EBF0F8"
             },
             "line": {
              "color": "white"
             }
            },
            "header": {
             "fill": {
              "color": "#C8D4E3"
             },
             "line": {
              "color": "white"
             }
            },
            "type": "table"
           }
          ]
         },
         "layout": {
          "annotationdefaults": {
           "arrowcolor": "#2a3f5f",
           "arrowhead": 0,
           "arrowwidth": 1
          },
          "autotypenumbers": "strict",
          "coloraxis": {
           "colorbar": {
            "outlinewidth": 0,
            "ticks": ""
           }
          },
          "colorscale": {
           "diverging": [
            [
             0,
             "#8e0152"
            ],
            [
             0.1,
             "#c51b7d"
            ],
            [
             0.2,
             "#de77ae"
            ],
            [
             0.3,
             "#f1b6da"
            ],
            [
             0.4,
             "#fde0ef"
            ],
            [
             0.5,
             "#f7f7f7"
            ],
            [
             0.6,
             "#e6f5d0"
            ],
            [
             0.7,
             "#b8e186"
            ],
            [
             0.8,
             "#7fbc41"
            ],
            [
             0.9,
             "#4d9221"
            ],
            [
             1,
             "#276419"
            ]
           ],
           "sequential": [
            [
             0,
             "#0d0887"
            ],
            [
             0.1111111111111111,
             "#46039f"
            ],
            [
             0.2222222222222222,
             "#7201a8"
            ],
            [
             0.3333333333333333,
             "#9c179e"
            ],
            [
             0.4444444444444444,
             "#bd3786"
            ],
            [
             0.5555555555555556,
             "#d8576b"
            ],
            [
             0.6666666666666666,
             "#ed7953"
            ],
            [
             0.7777777777777778,
             "#fb9f3a"
            ],
            [
             0.8888888888888888,
             "#fdca26"
            ],
            [
             1,
             "#f0f921"
            ]
           ],
           "sequentialminus": [
            [
             0,
             "#0d0887"
            ],
            [
             0.1111111111111111,
             "#46039f"
            ],
            [
             0.2222222222222222,
             "#7201a8"
            ],
            [
             0.3333333333333333,
             "#9c179e"
            ],
            [
             0.4444444444444444,
             "#bd3786"
            ],
            [
             0.5555555555555556,
             "#d8576b"
            ],
            [
             0.6666666666666666,
             "#ed7953"
            ],
            [
             0.7777777777777778,
             "#fb9f3a"
            ],
            [
             0.8888888888888888,
             "#fdca26"
            ],
            [
             1,
             "#f0f921"
            ]
           ]
          },
          "colorway": [
           "#636efa",
           "#EF553B",
           "#00cc96",
           "#ab63fa",
           "#FFA15A",
           "#19d3f3",
           "#FF6692",
           "#B6E880",
           "#FF97FF",
           "#FECB52"
          ],
          "font": {
           "color": "#2a3f5f"
          },
          "geo": {
           "bgcolor": "white",
           "lakecolor": "white",
           "landcolor": "#E5ECF6",
           "showlakes": true,
           "showland": true,
           "subunitcolor": "white"
          },
          "hoverlabel": {
           "align": "left"
          },
          "hovermode": "closest",
          "mapbox": {
           "style": "light"
          },
          "paper_bgcolor": "white",
          "plot_bgcolor": "#E5ECF6",
          "polar": {
           "angularaxis": {
            "gridcolor": "white",
            "linecolor": "white",
            "ticks": ""
           },
           "bgcolor": "#E5ECF6",
           "radialaxis": {
            "gridcolor": "white",
            "linecolor": "white",
            "ticks": ""
           }
          },
          "scene": {
           "xaxis": {
            "backgroundcolor": "#E5ECF6",
            "gridcolor": "white",
            "gridwidth": 2,
            "linecolor": "white",
            "showbackground": true,
            "ticks": "",
            "zerolinecolor": "white"
           },
           "yaxis": {
            "backgroundcolor": "#E5ECF6",
            "gridcolor": "white",
            "gridwidth": 2,
            "linecolor": "white",
            "showbackground": true,
            "ticks": "",
            "zerolinecolor": "white"
           },
           "zaxis": {
            "backgroundcolor": "#E5ECF6",
            "gridcolor": "white",
            "gridwidth": 2,
            "linecolor": "white",
            "showbackground": true,
            "ticks": "",
            "zerolinecolor": "white"
           }
          },
          "shapedefaults": {
           "line": {
            "color": "#2a3f5f"
           }
          },
          "ternary": {
           "aaxis": {
            "gridcolor": "white",
            "linecolor": "white",
            "ticks": ""
           },
           "baxis": {
            "gridcolor": "white",
            "linecolor": "white",
            "ticks": ""
           },
           "bgcolor": "#E5ECF6",
           "caxis": {
            "gridcolor": "white",
            "linecolor": "white",
            "ticks": ""
           }
          },
          "title": {
           "x": 0.05
          },
          "xaxis": {
           "automargin": true,
           "gridcolor": "white",
           "linecolor": "white",
           "ticks": "",
           "title": {
            "standoff": 15
           },
           "zerolinecolor": "white",
           "zerolinewidth": 2
          },
          "yaxis": {
           "automargin": true,
           "gridcolor": "white",
           "linecolor": "white",
           "ticks": "",
           "title": {
            "standoff": 15
           },
           "zerolinecolor": "white",
           "zerolinewidth": 2
          }
         }
        },
        "title": {
         "text": "Hubungan  Aroma, Flavor berdasarkan Processing Method"
        },
        "xaxis": {
         "anchor": "y",
         "domain": [
          0,
          1
         ],
         "title": {
          "text": "Aroma"
         }
        },
        "yaxis": {
         "anchor": "x",
         "domain": [
          0,
          1
         ],
         "title": {
          "text": "Flavor"
         }
        }
       }
      }
     },
     "metadata": {},
     "output_type": "display_data"
    }
   ],
   "source": [
    "fig = px.scatter(df, x='Aroma', y='Flavor', color='Processing Method',\n",
    "                 labels={'Aroma': 'Aroma', 'Flavor': 'Flavor', 'Processing Method': 'Processing Method'},\n",
    "                 title='Hubungan  Aroma, Flavor berdasarkan Processing Method')\n",
    "\n",
    "fig.update_traces(\n",
    "    marker=dict(size=10),\n",
    "    selector=dict(mode='markers')\n",
    ")\n",
    "\n",
    "fig.show()"
   ]
  },
  {
   "cell_type": "code",
   "execution_count": 481,
   "metadata": {},
   "outputs": [
    {
     "data": {
      "application/vnd.plotly.v1+json": {
       "config": {
        "plotlyServerURL": "https://plot.ly"
       },
       "data": [
        {
         "hovertemplate": "Processing Method=Washed / Wet<br>Body=%{x}<br>Balance=%{y}<extra></extra>",
         "legendgroup": "Washed / Wet",
         "marker": {
          "color": "#636efa",
          "size": 10,
          "symbol": "circle"
         },
         "mode": "markers",
         "name": "Washed / Wet",
         "orientation": "v",
         "showlegend": true,
         "type": "scatter",
         "x": [
          7.92,
          8.17,
          7.83,
          7.83,
          7.92,
          8,
          8,
          8.08,
          7.75,
          8.17,
          7.75,
          8,
          7.67,
          7.75,
          7.83,
          7.67,
          8,
          8,
          7.83,
          7.92,
          7.83,
          7.92,
          7.75,
          7.75,
          7.58,
          7.92,
          8,
          7.75,
          7.75,
          7.83,
          7.58,
          7.83,
          7.75,
          7.83,
          7.92,
          7.83,
          7.67,
          7.75,
          7.75,
          7.58,
          7.75,
          7.83,
          7.5,
          7.83,
          7.83,
          7.58,
          7.75,
          7.75,
          7.75,
          7.67,
          7.75,
          7.67,
          7.67,
          7.67,
          7.67,
          7.67,
          7.67,
          7.75,
          7.5,
          7.92,
          7.58,
          7.83,
          7.67,
          7.5,
          7.58,
          7.58,
          7.83,
          7.67,
          7.92,
          7.58,
          7.58,
          7.75,
          7.67,
          7.67,
          7.42,
          7.5,
          7.5,
          7.58,
          7.58,
          7.67,
          7.42,
          7.5,
          7.5,
          7.58,
          7.58,
          7.58,
          7.58,
          7.58,
          7.58,
          7.42,
          7.58,
          7.58,
          7.33,
          7.67,
          7.58,
          7.5,
          7.5,
          7.83,
          7.42,
          7.5,
          7.67,
          7.58,
          7.58,
          7.5,
          7.5,
          7.42,
          7.83,
          7.33,
          7.33,
          7.25,
          7.5,
          7.25,
          7.25,
          7.58,
          7.58,
          7.5,
          7.33,
          7.58,
          7.42,
          7.5,
          7.42,
          7.5,
          7.42,
          7.17,
          7.08,
          7.42,
          7,
          7.17,
          7.08
         ],
         "xaxis": "x",
         "y": [
          8.25,
          8.08,
          8.17,
          8.25,
          8,
          8,
          8,
          8,
          7.92,
          7.75,
          7.83,
          7.92,
          8,
          7.92,
          7.83,
          7.92,
          8,
          7.75,
          7.83,
          8,
          7.92,
          7.83,
          7.83,
          7.92,
          7.75,
          7.83,
          7.83,
          7.75,
          7.83,
          7.83,
          7.83,
          7.83,
          7.83,
          7.75,
          7.67,
          7.67,
          7.75,
          7.75,
          7.75,
          7.67,
          7.75,
          7.75,
          7.67,
          7.67,
          7.75,
          7.67,
          7.75,
          7.67,
          7.67,
          7.58,
          7.75,
          7.67,
          7.75,
          7.67,
          7.58,
          7.75,
          7.67,
          7.67,
          7.67,
          7.67,
          7.75,
          7.58,
          7.67,
          7.67,
          7.58,
          7.67,
          7.5,
          7.75,
          7.67,
          7.67,
          7.58,
          7.83,
          7.5,
          7.58,
          7.58,
          7.75,
          7.75,
          7.5,
          7.5,
          7.58,
          7.5,
          7.58,
          7.58,
          7.5,
          7.5,
          7.5,
          7.42,
          7.5,
          7.5,
          7.58,
          7.5,
          7.67,
          7.5,
          7.67,
          7.5,
          7.5,
          7.58,
          7.5,
          7.42,
          7.58,
          7.42,
          7.42,
          7.5,
          7.5,
          7.42,
          7.67,
          7.42,
          7.42,
          7.5,
          7.5,
          7.33,
          7.33,
          7.42,
          7.5,
          7.33,
          7.42,
          7.33,
          7.42,
          7.42,
          7.33,
          7.33,
          7.42,
          7.42,
          7.33,
          7.25,
          7.17,
          7.17,
          7.08,
          7.08
         ],
         "yaxis": "y"
        },
        {
         "hovertemplate": "Processing Method=Natural / Dry<br>Body=%{x}<br>Balance=%{y}<extra></extra>",
         "legendgroup": "Natural / Dry",
         "marker": {
          "color": "#EF553B",
          "size": 10,
          "symbol": "circle"
         },
         "mode": "markers",
         "name": "Natural / Dry",
         "orientation": "v",
         "showlegend": true,
         "type": "scatter",
         "x": [
          7.92,
          7.92,
          8.25,
          8,
          7.92,
          7.83,
          7.75,
          8,
          7.83,
          7.58,
          7.75,
          7.67,
          7.75,
          7.67,
          7.67,
          7.83,
          7.75,
          7.83,
          7.67,
          7.58,
          7.5,
          8,
          7.75,
          7.67,
          7.75,
          7.67,
          7.58,
          7.67,
          7.75,
          7.67,
          7.5,
          7.58,
          7.75,
          7.5,
          7.42,
          7.67,
          7.33,
          7.33,
          7.33,
          7.17,
          7.08,
          7.42,
          7.17,
          7.42,
          7.42,
          7.08
         ],
         "xaxis": "x",
         "y": [
          8.08,
          7.92,
          8.17,
          8,
          7.92,
          8,
          8,
          7.83,
          7.92,
          7.83,
          7.92,
          7.75,
          7.75,
          7.75,
          7.75,
          8,
          7.75,
          7.75,
          7.75,
          7.83,
          7.58,
          7.5,
          8,
          7.58,
          7.67,
          7.67,
          7.58,
          7.67,
          7.67,
          7.5,
          7.42,
          7.5,
          8.17,
          7.58,
          7.5,
          7.42,
          7.42,
          7.25,
          7.33,
          7.25,
          7,
          7.08,
          7.17,
          7.17,
          7.17,
          7
         ],
         "yaxis": "y"
        },
        {
         "hovertemplate": "Processing Method=Pulped natural / honey<br>Body=%{x}<br>Balance=%{y}<extra></extra>",
         "legendgroup": "Pulped natural / honey",
         "marker": {
          "color": "#00cc96",
          "size": 10,
          "symbol": "circle"
         },
         "mode": "markers",
         "name": "Pulped natural / honey",
         "orientation": "v",
         "showlegend": true,
         "type": "scatter",
         "x": [
          8,
          8.08,
          8,
          7.67,
          7.67,
          7.75,
          7.67,
          7.75,
          7.67,
          7.58,
          7.75,
          7.67,
          7.5,
          7.58,
          7.5,
          7.5,
          7.67,
          7.75,
          7.42,
          7.42,
          7.42,
          7.42,
          7.33,
          7.33,
          7.33
         ],
         "xaxis": "x",
         "y": [
          7.92,
          8,
          7.83,
          7.75,
          7.75,
          7.75,
          7.67,
          7.75,
          7.67,
          7.67,
          7.67,
          7.67,
          7.67,
          7.67,
          7.58,
          7.5,
          7.75,
          7.58,
          7.5,
          7.25,
          7.42,
          7.42,
          7.33,
          7.33,
          7.25
         ],
         "yaxis": "y"
        }
       ],
       "layout": {
        "legend": {
         "title": {
          "text": "Processing Method"
         },
         "tracegroupgap": 0
        },
        "template": {
         "data": {
          "bar": [
           {
            "error_x": {
             "color": "#2a3f5f"
            },
            "error_y": {
             "color": "#2a3f5f"
            },
            "marker": {
             "line": {
              "color": "#E5ECF6",
              "width": 0.5
             },
             "pattern": {
              "fillmode": "overlay",
              "size": 10,
              "solidity": 0.2
             }
            },
            "type": "bar"
           }
          ],
          "barpolar": [
           {
            "marker": {
             "line": {
              "color": "#E5ECF6",
              "width": 0.5
             },
             "pattern": {
              "fillmode": "overlay",
              "size": 10,
              "solidity": 0.2
             }
            },
            "type": "barpolar"
           }
          ],
          "carpet": [
           {
            "aaxis": {
             "endlinecolor": "#2a3f5f",
             "gridcolor": "white",
             "linecolor": "white",
             "minorgridcolor": "white",
             "startlinecolor": "#2a3f5f"
            },
            "baxis": {
             "endlinecolor": "#2a3f5f",
             "gridcolor": "white",
             "linecolor": "white",
             "minorgridcolor": "white",
             "startlinecolor": "#2a3f5f"
            },
            "type": "carpet"
           }
          ],
          "choropleth": [
           {
            "colorbar": {
             "outlinewidth": 0,
             "ticks": ""
            },
            "type": "choropleth"
           }
          ],
          "contour": [
           {
            "colorbar": {
             "outlinewidth": 0,
             "ticks": ""
            },
            "colorscale": [
             [
              0,
              "#0d0887"
             ],
             [
              0.1111111111111111,
              "#46039f"
             ],
             [
              0.2222222222222222,
              "#7201a8"
             ],
             [
              0.3333333333333333,
              "#9c179e"
             ],
             [
              0.4444444444444444,
              "#bd3786"
             ],
             [
              0.5555555555555556,
              "#d8576b"
             ],
             [
              0.6666666666666666,
              "#ed7953"
             ],
             [
              0.7777777777777778,
              "#fb9f3a"
             ],
             [
              0.8888888888888888,
              "#fdca26"
             ],
             [
              1,
              "#f0f921"
             ]
            ],
            "type": "contour"
           }
          ],
          "contourcarpet": [
           {
            "colorbar": {
             "outlinewidth": 0,
             "ticks": ""
            },
            "type": "contourcarpet"
           }
          ],
          "heatmap": [
           {
            "colorbar": {
             "outlinewidth": 0,
             "ticks": ""
            },
            "colorscale": [
             [
              0,
              "#0d0887"
             ],
             [
              0.1111111111111111,
              "#46039f"
             ],
             [
              0.2222222222222222,
              "#7201a8"
             ],
             [
              0.3333333333333333,
              "#9c179e"
             ],
             [
              0.4444444444444444,
              "#bd3786"
             ],
             [
              0.5555555555555556,
              "#d8576b"
             ],
             [
              0.6666666666666666,
              "#ed7953"
             ],
             [
              0.7777777777777778,
              "#fb9f3a"
             ],
             [
              0.8888888888888888,
              "#fdca26"
             ],
             [
              1,
              "#f0f921"
             ]
            ],
            "type": "heatmap"
           }
          ],
          "heatmapgl": [
           {
            "colorbar": {
             "outlinewidth": 0,
             "ticks": ""
            },
            "colorscale": [
             [
              0,
              "#0d0887"
             ],
             [
              0.1111111111111111,
              "#46039f"
             ],
             [
              0.2222222222222222,
              "#7201a8"
             ],
             [
              0.3333333333333333,
              "#9c179e"
             ],
             [
              0.4444444444444444,
              "#bd3786"
             ],
             [
              0.5555555555555556,
              "#d8576b"
             ],
             [
              0.6666666666666666,
              "#ed7953"
             ],
             [
              0.7777777777777778,
              "#fb9f3a"
             ],
             [
              0.8888888888888888,
              "#fdca26"
             ],
             [
              1,
              "#f0f921"
             ]
            ],
            "type": "heatmapgl"
           }
          ],
          "histogram": [
           {
            "marker": {
             "pattern": {
              "fillmode": "overlay",
              "size": 10,
              "solidity": 0.2
             }
            },
            "type": "histogram"
           }
          ],
          "histogram2d": [
           {
            "colorbar": {
             "outlinewidth": 0,
             "ticks": ""
            },
            "colorscale": [
             [
              0,
              "#0d0887"
             ],
             [
              0.1111111111111111,
              "#46039f"
             ],
             [
              0.2222222222222222,
              "#7201a8"
             ],
             [
              0.3333333333333333,
              "#9c179e"
             ],
             [
              0.4444444444444444,
              "#bd3786"
             ],
             [
              0.5555555555555556,
              "#d8576b"
             ],
             [
              0.6666666666666666,
              "#ed7953"
             ],
             [
              0.7777777777777778,
              "#fb9f3a"
             ],
             [
              0.8888888888888888,
              "#fdca26"
             ],
             [
              1,
              "#f0f921"
             ]
            ],
            "type": "histogram2d"
           }
          ],
          "histogram2dcontour": [
           {
            "colorbar": {
             "outlinewidth": 0,
             "ticks": ""
            },
            "colorscale": [
             [
              0,
              "#0d0887"
             ],
             [
              0.1111111111111111,
              "#46039f"
             ],
             [
              0.2222222222222222,
              "#7201a8"
             ],
             [
              0.3333333333333333,
              "#9c179e"
             ],
             [
              0.4444444444444444,
              "#bd3786"
             ],
             [
              0.5555555555555556,
              "#d8576b"
             ],
             [
              0.6666666666666666,
              "#ed7953"
             ],
             [
              0.7777777777777778,
              "#fb9f3a"
             ],
             [
              0.8888888888888888,
              "#fdca26"
             ],
             [
              1,
              "#f0f921"
             ]
            ],
            "type": "histogram2dcontour"
           }
          ],
          "mesh3d": [
           {
            "colorbar": {
             "outlinewidth": 0,
             "ticks": ""
            },
            "type": "mesh3d"
           }
          ],
          "parcoords": [
           {
            "line": {
             "colorbar": {
              "outlinewidth": 0,
              "ticks": ""
             }
            },
            "type": "parcoords"
           }
          ],
          "pie": [
           {
            "automargin": true,
            "type": "pie"
           }
          ],
          "scatter": [
           {
            "fillpattern": {
             "fillmode": "overlay",
             "size": 10,
             "solidity": 0.2
            },
            "type": "scatter"
           }
          ],
          "scatter3d": [
           {
            "line": {
             "colorbar": {
              "outlinewidth": 0,
              "ticks": ""
             }
            },
            "marker": {
             "colorbar": {
              "outlinewidth": 0,
              "ticks": ""
             }
            },
            "type": "scatter3d"
           }
          ],
          "scattercarpet": [
           {
            "marker": {
             "colorbar": {
              "outlinewidth": 0,
              "ticks": ""
             }
            },
            "type": "scattercarpet"
           }
          ],
          "scattergeo": [
           {
            "marker": {
             "colorbar": {
              "outlinewidth": 0,
              "ticks": ""
             }
            },
            "type": "scattergeo"
           }
          ],
          "scattergl": [
           {
            "marker": {
             "colorbar": {
              "outlinewidth": 0,
              "ticks": ""
             }
            },
            "type": "scattergl"
           }
          ],
          "scattermapbox": [
           {
            "marker": {
             "colorbar": {
              "outlinewidth": 0,
              "ticks": ""
             }
            },
            "type": "scattermapbox"
           }
          ],
          "scatterpolar": [
           {
            "marker": {
             "colorbar": {
              "outlinewidth": 0,
              "ticks": ""
             }
            },
            "type": "scatterpolar"
           }
          ],
          "scatterpolargl": [
           {
            "marker": {
             "colorbar": {
              "outlinewidth": 0,
              "ticks": ""
             }
            },
            "type": "scatterpolargl"
           }
          ],
          "scatterternary": [
           {
            "marker": {
             "colorbar": {
              "outlinewidth": 0,
              "ticks": ""
             }
            },
            "type": "scatterternary"
           }
          ],
          "surface": [
           {
            "colorbar": {
             "outlinewidth": 0,
             "ticks": ""
            },
            "colorscale": [
             [
              0,
              "#0d0887"
             ],
             [
              0.1111111111111111,
              "#46039f"
             ],
             [
              0.2222222222222222,
              "#7201a8"
             ],
             [
              0.3333333333333333,
              "#9c179e"
             ],
             [
              0.4444444444444444,
              "#bd3786"
             ],
             [
              0.5555555555555556,
              "#d8576b"
             ],
             [
              0.6666666666666666,
              "#ed7953"
             ],
             [
              0.7777777777777778,
              "#fb9f3a"
             ],
             [
              0.8888888888888888,
              "#fdca26"
             ],
             [
              1,
              "#f0f921"
             ]
            ],
            "type": "surface"
           }
          ],
          "table": [
           {
            "cells": {
             "fill": {
              "color": "#EBF0F8"
             },
             "line": {
              "color": "white"
             }
            },
            "header": {
             "fill": {
              "color": "#C8D4E3"
             },
             "line": {
              "color": "white"
             }
            },
            "type": "table"
           }
          ]
         },
         "layout": {
          "annotationdefaults": {
           "arrowcolor": "#2a3f5f",
           "arrowhead": 0,
           "arrowwidth": 1
          },
          "autotypenumbers": "strict",
          "coloraxis": {
           "colorbar": {
            "outlinewidth": 0,
            "ticks": ""
           }
          },
          "colorscale": {
           "diverging": [
            [
             0,
             "#8e0152"
            ],
            [
             0.1,
             "#c51b7d"
            ],
            [
             0.2,
             "#de77ae"
            ],
            [
             0.3,
             "#f1b6da"
            ],
            [
             0.4,
             "#fde0ef"
            ],
            [
             0.5,
             "#f7f7f7"
            ],
            [
             0.6,
             "#e6f5d0"
            ],
            [
             0.7,
             "#b8e186"
            ],
            [
             0.8,
             "#7fbc41"
            ],
            [
             0.9,
             "#4d9221"
            ],
            [
             1,
             "#276419"
            ]
           ],
           "sequential": [
            [
             0,
             "#0d0887"
            ],
            [
             0.1111111111111111,
             "#46039f"
            ],
            [
             0.2222222222222222,
             "#7201a8"
            ],
            [
             0.3333333333333333,
             "#9c179e"
            ],
            [
             0.4444444444444444,
             "#bd3786"
            ],
            [
             0.5555555555555556,
             "#d8576b"
            ],
            [
             0.6666666666666666,
             "#ed7953"
            ],
            [
             0.7777777777777778,
             "#fb9f3a"
            ],
            [
             0.8888888888888888,
             "#fdca26"
            ],
            [
             1,
             "#f0f921"
            ]
           ],
           "sequentialminus": [
            [
             0,
             "#0d0887"
            ],
            [
             0.1111111111111111,
             "#46039f"
            ],
            [
             0.2222222222222222,
             "#7201a8"
            ],
            [
             0.3333333333333333,
             "#9c179e"
            ],
            [
             0.4444444444444444,
             "#bd3786"
            ],
            [
             0.5555555555555556,
             "#d8576b"
            ],
            [
             0.6666666666666666,
             "#ed7953"
            ],
            [
             0.7777777777777778,
             "#fb9f3a"
            ],
            [
             0.8888888888888888,
             "#fdca26"
            ],
            [
             1,
             "#f0f921"
            ]
           ]
          },
          "colorway": [
           "#636efa",
           "#EF553B",
           "#00cc96",
           "#ab63fa",
           "#FFA15A",
           "#19d3f3",
           "#FF6692",
           "#B6E880",
           "#FF97FF",
           "#FECB52"
          ],
          "font": {
           "color": "#2a3f5f"
          },
          "geo": {
           "bgcolor": "white",
           "lakecolor": "white",
           "landcolor": "#E5ECF6",
           "showlakes": true,
           "showland": true,
           "subunitcolor": "white"
          },
          "hoverlabel": {
           "align": "left"
          },
          "hovermode": "closest",
          "mapbox": {
           "style": "light"
          },
          "paper_bgcolor": "white",
          "plot_bgcolor": "#E5ECF6",
          "polar": {
           "angularaxis": {
            "gridcolor": "white",
            "linecolor": "white",
            "ticks": ""
           },
           "bgcolor": "#E5ECF6",
           "radialaxis": {
            "gridcolor": "white",
            "linecolor": "white",
            "ticks": ""
           }
          },
          "scene": {
           "xaxis": {
            "backgroundcolor": "#E5ECF6",
            "gridcolor": "white",
            "gridwidth": 2,
            "linecolor": "white",
            "showbackground": true,
            "ticks": "",
            "zerolinecolor": "white"
           },
           "yaxis": {
            "backgroundcolor": "#E5ECF6",
            "gridcolor": "white",
            "gridwidth": 2,
            "linecolor": "white",
            "showbackground": true,
            "ticks": "",
            "zerolinecolor": "white"
           },
           "zaxis": {
            "backgroundcolor": "#E5ECF6",
            "gridcolor": "white",
            "gridwidth": 2,
            "linecolor": "white",
            "showbackground": true,
            "ticks": "",
            "zerolinecolor": "white"
           }
          },
          "shapedefaults": {
           "line": {
            "color": "#2a3f5f"
           }
          },
          "ternary": {
           "aaxis": {
            "gridcolor": "white",
            "linecolor": "white",
            "ticks": ""
           },
           "baxis": {
            "gridcolor": "white",
            "linecolor": "white",
            "ticks": ""
           },
           "bgcolor": "#E5ECF6",
           "caxis": {
            "gridcolor": "white",
            "linecolor": "white",
            "ticks": ""
           }
          },
          "title": {
           "x": 0.05
          },
          "xaxis": {
           "automargin": true,
           "gridcolor": "white",
           "linecolor": "white",
           "ticks": "",
           "title": {
            "standoff": 15
           },
           "zerolinecolor": "white",
           "zerolinewidth": 2
          },
          "yaxis": {
           "automargin": true,
           "gridcolor": "white",
           "linecolor": "white",
           "ticks": "",
           "title": {
            "standoff": 15
           },
           "zerolinecolor": "white",
           "zerolinewidth": 2
          }
         }
        },
        "title": {
         "text": "Hubungan Body, Belance berdasarkan Processing Method"
        },
        "xaxis": {
         "anchor": "y",
         "domain": [
          0,
          1
         ],
         "title": {
          "text": "Body"
         }
        },
        "yaxis": {
         "anchor": "x",
         "domain": [
          0,
          1
         ],
         "title": {
          "text": "Balance"
         }
        }
       }
      }
     },
     "metadata": {},
     "output_type": "display_data"
    }
   ],
   "source": [
    "fig = px.scatter(df, x='Body', y='Balance', color='Processing Method',\n",
    "                 labels={'Body': 'Body', 'Balance': 'Balance', 'Processing Method': 'Processing Method'},\n",
    "                 title='Hubungan Body, Belance berdasarkan Processing Method')\n",
    "\n",
    "fig.update_traces(\n",
    "    marker=dict(size=10),\n",
    "    selector=dict(mode='markers')\n",
    ")\n",
    "\n",
    "fig.show()"
   ]
  },
  {
   "cell_type": "code",
   "execution_count": 482,
   "metadata": {},
   "outputs": [
    {
     "data": {
      "application/vnd.plotly.v1+json": {
       "config": {
        "plotlyServerURL": "https://plot.ly"
       },
       "data": [
        {
         "hovertemplate": "Processing Method=Washed / Wet<br>Overall=%{x}<br>Total Cup Points=%{y}<extra></extra>",
         "legendgroup": "Washed / Wet",
         "marker": {
          "color": "#636efa",
          "size": 10,
          "symbol": "circle"
         },
         "mode": "markers",
         "name": "Washed / Wet",
         "orientation": "v",
         "showlegend": true,
         "type": "scatter",
         "x": [
          8.5,
          8.25,
          8.25,
          8.25,
          8.25,
          8,
          8,
          8,
          8.08,
          7.92,
          8,
          7.92,
          8,
          8.08,
          8,
          8,
          8,
          7.83,
          7.92,
          8,
          8,
          7.83,
          7.92,
          7.92,
          7.83,
          7.83,
          7.83,
          7.92,
          7.83,
          7.83,
          7.75,
          7.83,
          7.83,
          7.83,
          7.92,
          8.58,
          7.92,
          7.92,
          7.75,
          7.83,
          7.83,
          7.75,
          7.75,
          7.83,
          7.75,
          7.83,
          7.75,
          7.75,
          7.67,
          7.75,
          7.75,
          7.75,
          7.75,
          7.67,
          7.75,
          7.75,
          7.67,
          7.75,
          7.75,
          7.58,
          7.75,
          7.75,
          7.67,
          7.67,
          7.75,
          7.67,
          7.58,
          7.58,
          7.67,
          7.67,
          7.75,
          7.92,
          7.67,
          7.5,
          7.75,
          7.58,
          7.67,
          7.5,
          7.33,
          7.5,
          7.58,
          7.5,
          7.67,
          7.67,
          7.58,
          7.5,
          7.33,
          7.5,
          7.58,
          7.58,
          7.5,
          7.42,
          7.5,
          7.33,
          7.5,
          7.5,
          7.42,
          7.33,
          7.42,
          7.5,
          7.33,
          7.5,
          7.58,
          7.42,
          7.58,
          7.42,
          7.17,
          7.42,
          7.33,
          7.5,
          7.42,
          7.5,
          7.42,
          7.42,
          7.5,
          7.5,
          7.42,
          7.42,
          7.33,
          7.33,
          7.42,
          7.17,
          7.17,
          7.33,
          7.17,
          7.17,
          7.25,
          7,
          7
         ],
         "xaxis": "x",
         "y": [
          87.58,
          87.17,
          87,
          86.92,
          86.67,
          86.5,
          86.25,
          86.17,
          86.08,
          85.83,
          85.67,
          85.58,
          85.42,
          85.42,
          85.33,
          85.33,
          85.33,
          85.25,
          85.25,
          85.25,
          85.17,
          85.08,
          85.08,
          85,
          85,
          85,
          85,
          84.92,
          84.92,
          84.83,
          84.83,
          84.83,
          84.75,
          84.75,
          84.67,
          84.67,
          84.58,
          84.5,
          84.5,
          84.5,
          84.42,
          84.33,
          84.33,
          84.33,
          84.25,
          84.25,
          84.17,
          84.08,
          84.08,
          84,
          84,
          84,
          84,
          84,
          83.92,
          83.92,
          83.83,
          83.83,
          83.83,
          83.83,
          83.83,
          83.75,
          83.67,
          83.67,
          83.58,
          83.5,
          83.5,
          83.5,
          83.5,
          83.42,
          83.42,
          83.42,
          83.33,
          83.33,
          83.33,
          83.33,
          83.33,
          83.33,
          83.33,
          83.25,
          83.25,
          83.25,
          83.25,
          83.17,
          83.08,
          83.08,
          83,
          82.92,
          82.92,
          82.92,
          82.83,
          82.83,
          82.67,
          82.67,
          82.67,
          82.58,
          82.58,
          82.5,
          82.5,
          82.5,
          82.5,
          82.5,
          82.5,
          82.42,
          82.33,
          82.33,
          82.33,
          82.25,
          82.17,
          82.17,
          82.17,
          82.08,
          82,
          82,
          82,
          82,
          81.92,
          81.92,
          81.75,
          81.67,
          81.58,
          81.42,
          81.17,
          81.17,
          80.5,
          80.42,
          80.42,
          80.33,
          79.67
         ],
         "yaxis": "y"
        },
        {
         "hovertemplate": "Processing Method=Natural / Dry<br>Overall=%{x}<br>Total Cup Points=%{y}<extra></extra>",
         "legendgroup": "Natural / Dry",
         "marker": {
          "color": "#EF553B",
          "size": 10,
          "symbol": "circle"
         },
         "mode": "markers",
         "name": "Natural / Dry",
         "orientation": "v",
         "showlegend": true,
         "type": "scatter",
         "x": [
          8.08,
          8,
          8,
          8,
          8.17,
          8.17,
          8.08,
          7.92,
          8,
          7.92,
          7.92,
          7.83,
          7.92,
          7.83,
          7.92,
          8,
          7.83,
          8,
          7.92,
          7.92,
          7.83,
          7.75,
          7.92,
          7.75,
          7.75,
          7.75,
          7.58,
          7.67,
          7.67,
          7.67,
          7.5,
          7.58,
          7.33,
          7.58,
          7.5,
          7.33,
          7.42,
          7.33,
          7.25,
          7.25,
          7.17,
          7,
          7.17,
          7.08,
          7.08,
          6.83
         ],
         "xaxis": "x",
         "y": [
          86.75,
          86.25,
          86.25,
          86.17,
          86.08,
          85.92,
          85.75,
          85.67,
          85.5,
          85.5,
          85.5,
          85.33,
          85.08,
          85,
          84.83,
          84.83,
          84.67,
          84.58,
          84.58,
          84.58,
          84.5,
          84.33,
          84.08,
          83.92,
          83.92,
          83.83,
          83.67,
          83.67,
          83.58,
          83.25,
          83.17,
          83.08,
          82.75,
          82.67,
          82.58,
          82.5,
          82.33,
          81.75,
          81.33,
          81,
          80.83,
          80.33,
          80.17,
          80.08,
          80,
          78.08
         ],
         "yaxis": "y"
        },
        {
         "hovertemplate": "Processing Method=Pulped natural / honey<br>Overall=%{x}<br>Total Cup Points=%{y}<extra></extra>",
         "legendgroup": "Pulped natural / honey",
         "marker": {
          "color": "#00cc96",
          "size": 10,
          "symbol": "circle"
         },
         "mode": "markers",
         "name": "Pulped natural / honey",
         "orientation": "v",
         "showlegend": true,
         "type": "scatter",
         "x": [
          8,
          8.08,
          8,
          7.92,
          7.75,
          7.92,
          7.75,
          7.75,
          7.67,
          7.67,
          7.67,
          7.58,
          7.67,
          7.67,
          7.75,
          7.58,
          7.33,
          7.42,
          7.5,
          7.42,
          7.42,
          7.33,
          7.42,
          7.33,
          7.33
         ],
         "xaxis": "x",
         "y": [
          86.08,
          85.67,
          85.5,
          85.25,
          84.75,
          84.58,
          84.58,
          84.5,
          84.33,
          84.08,
          84,
          83.75,
          83.67,
          83.58,
          83.33,
          82.92,
          82.83,
          82.75,
          82.08,
          82,
          81.83,
          81.83,
          81.83,
          81.58,
          81.5
         ],
         "yaxis": "y"
        }
       ],
       "layout": {
        "legend": {
         "title": {
          "text": "Processing Method"
         },
         "tracegroupgap": 0
        },
        "template": {
         "data": {
          "bar": [
           {
            "error_x": {
             "color": "#2a3f5f"
            },
            "error_y": {
             "color": "#2a3f5f"
            },
            "marker": {
             "line": {
              "color": "#E5ECF6",
              "width": 0.5
             },
             "pattern": {
              "fillmode": "overlay",
              "size": 10,
              "solidity": 0.2
             }
            },
            "type": "bar"
           }
          ],
          "barpolar": [
           {
            "marker": {
             "line": {
              "color": "#E5ECF6",
              "width": 0.5
             },
             "pattern": {
              "fillmode": "overlay",
              "size": 10,
              "solidity": 0.2
             }
            },
            "type": "barpolar"
           }
          ],
          "carpet": [
           {
            "aaxis": {
             "endlinecolor": "#2a3f5f",
             "gridcolor": "white",
             "linecolor": "white",
             "minorgridcolor": "white",
             "startlinecolor": "#2a3f5f"
            },
            "baxis": {
             "endlinecolor": "#2a3f5f",
             "gridcolor": "white",
             "linecolor": "white",
             "minorgridcolor": "white",
             "startlinecolor": "#2a3f5f"
            },
            "type": "carpet"
           }
          ],
          "choropleth": [
           {
            "colorbar": {
             "outlinewidth": 0,
             "ticks": ""
            },
            "type": "choropleth"
           }
          ],
          "contour": [
           {
            "colorbar": {
             "outlinewidth": 0,
             "ticks": ""
            },
            "colorscale": [
             [
              0,
              "#0d0887"
             ],
             [
              0.1111111111111111,
              "#46039f"
             ],
             [
              0.2222222222222222,
              "#7201a8"
             ],
             [
              0.3333333333333333,
              "#9c179e"
             ],
             [
              0.4444444444444444,
              "#bd3786"
             ],
             [
              0.5555555555555556,
              "#d8576b"
             ],
             [
              0.6666666666666666,
              "#ed7953"
             ],
             [
              0.7777777777777778,
              "#fb9f3a"
             ],
             [
              0.8888888888888888,
              "#fdca26"
             ],
             [
              1,
              "#f0f921"
             ]
            ],
            "type": "contour"
           }
          ],
          "contourcarpet": [
           {
            "colorbar": {
             "outlinewidth": 0,
             "ticks": ""
            },
            "type": "contourcarpet"
           }
          ],
          "heatmap": [
           {
            "colorbar": {
             "outlinewidth": 0,
             "ticks": ""
            },
            "colorscale": [
             [
              0,
              "#0d0887"
             ],
             [
              0.1111111111111111,
              "#46039f"
             ],
             [
              0.2222222222222222,
              "#7201a8"
             ],
             [
              0.3333333333333333,
              "#9c179e"
             ],
             [
              0.4444444444444444,
              "#bd3786"
             ],
             [
              0.5555555555555556,
              "#d8576b"
             ],
             [
              0.6666666666666666,
              "#ed7953"
             ],
             [
              0.7777777777777778,
              "#fb9f3a"
             ],
             [
              0.8888888888888888,
              "#fdca26"
             ],
             [
              1,
              "#f0f921"
             ]
            ],
            "type": "heatmap"
           }
          ],
          "heatmapgl": [
           {
            "colorbar": {
             "outlinewidth": 0,
             "ticks": ""
            },
            "colorscale": [
             [
              0,
              "#0d0887"
             ],
             [
              0.1111111111111111,
              "#46039f"
             ],
             [
              0.2222222222222222,
              "#7201a8"
             ],
             [
              0.3333333333333333,
              "#9c179e"
             ],
             [
              0.4444444444444444,
              "#bd3786"
             ],
             [
              0.5555555555555556,
              "#d8576b"
             ],
             [
              0.6666666666666666,
              "#ed7953"
             ],
             [
              0.7777777777777778,
              "#fb9f3a"
             ],
             [
              0.8888888888888888,
              "#fdca26"
             ],
             [
              1,
              "#f0f921"
             ]
            ],
            "type": "heatmapgl"
           }
          ],
          "histogram": [
           {
            "marker": {
             "pattern": {
              "fillmode": "overlay",
              "size": 10,
              "solidity": 0.2
             }
            },
            "type": "histogram"
           }
          ],
          "histogram2d": [
           {
            "colorbar": {
             "outlinewidth": 0,
             "ticks": ""
            },
            "colorscale": [
             [
              0,
              "#0d0887"
             ],
             [
              0.1111111111111111,
              "#46039f"
             ],
             [
              0.2222222222222222,
              "#7201a8"
             ],
             [
              0.3333333333333333,
              "#9c179e"
             ],
             [
              0.4444444444444444,
              "#bd3786"
             ],
             [
              0.5555555555555556,
              "#d8576b"
             ],
             [
              0.6666666666666666,
              "#ed7953"
             ],
             [
              0.7777777777777778,
              "#fb9f3a"
             ],
             [
              0.8888888888888888,
              "#fdca26"
             ],
             [
              1,
              "#f0f921"
             ]
            ],
            "type": "histogram2d"
           }
          ],
          "histogram2dcontour": [
           {
            "colorbar": {
             "outlinewidth": 0,
             "ticks": ""
            },
            "colorscale": [
             [
              0,
              "#0d0887"
             ],
             [
              0.1111111111111111,
              "#46039f"
             ],
             [
              0.2222222222222222,
              "#7201a8"
             ],
             [
              0.3333333333333333,
              "#9c179e"
             ],
             [
              0.4444444444444444,
              "#bd3786"
             ],
             [
              0.5555555555555556,
              "#d8576b"
             ],
             [
              0.6666666666666666,
              "#ed7953"
             ],
             [
              0.7777777777777778,
              "#fb9f3a"
             ],
             [
              0.8888888888888888,
              "#fdca26"
             ],
             [
              1,
              "#f0f921"
             ]
            ],
            "type": "histogram2dcontour"
           }
          ],
          "mesh3d": [
           {
            "colorbar": {
             "outlinewidth": 0,
             "ticks": ""
            },
            "type": "mesh3d"
           }
          ],
          "parcoords": [
           {
            "line": {
             "colorbar": {
              "outlinewidth": 0,
              "ticks": ""
             }
            },
            "type": "parcoords"
           }
          ],
          "pie": [
           {
            "automargin": true,
            "type": "pie"
           }
          ],
          "scatter": [
           {
            "fillpattern": {
             "fillmode": "overlay",
             "size": 10,
             "solidity": 0.2
            },
            "type": "scatter"
           }
          ],
          "scatter3d": [
           {
            "line": {
             "colorbar": {
              "outlinewidth": 0,
              "ticks": ""
             }
            },
            "marker": {
             "colorbar": {
              "outlinewidth": 0,
              "ticks": ""
             }
            },
            "type": "scatter3d"
           }
          ],
          "scattercarpet": [
           {
            "marker": {
             "colorbar": {
              "outlinewidth": 0,
              "ticks": ""
             }
            },
            "type": "scattercarpet"
           }
          ],
          "scattergeo": [
           {
            "marker": {
             "colorbar": {
              "outlinewidth": 0,
              "ticks": ""
             }
            },
            "type": "scattergeo"
           }
          ],
          "scattergl": [
           {
            "marker": {
             "colorbar": {
              "outlinewidth": 0,
              "ticks": ""
             }
            },
            "type": "scattergl"
           }
          ],
          "scattermapbox": [
           {
            "marker": {
             "colorbar": {
              "outlinewidth": 0,
              "ticks": ""
             }
            },
            "type": "scattermapbox"
           }
          ],
          "scatterpolar": [
           {
            "marker": {
             "colorbar": {
              "outlinewidth": 0,
              "ticks": ""
             }
            },
            "type": "scatterpolar"
           }
          ],
          "scatterpolargl": [
           {
            "marker": {
             "colorbar": {
              "outlinewidth": 0,
              "ticks": ""
             }
            },
            "type": "scatterpolargl"
           }
          ],
          "scatterternary": [
           {
            "marker": {
             "colorbar": {
              "outlinewidth": 0,
              "ticks": ""
             }
            },
            "type": "scatterternary"
           }
          ],
          "surface": [
           {
            "colorbar": {
             "outlinewidth": 0,
             "ticks": ""
            },
            "colorscale": [
             [
              0,
              "#0d0887"
             ],
             [
              0.1111111111111111,
              "#46039f"
             ],
             [
              0.2222222222222222,
              "#7201a8"
             ],
             [
              0.3333333333333333,
              "#9c179e"
             ],
             [
              0.4444444444444444,
              "#bd3786"
             ],
             [
              0.5555555555555556,
              "#d8576b"
             ],
             [
              0.6666666666666666,
              "#ed7953"
             ],
             [
              0.7777777777777778,
              "#fb9f3a"
             ],
             [
              0.8888888888888888,
              "#fdca26"
             ],
             [
              1,
              "#f0f921"
             ]
            ],
            "type": "surface"
           }
          ],
          "table": [
           {
            "cells": {
             "fill": {
              "color": "#EBF0F8"
             },
             "line": {
              "color": "white"
             }
            },
            "header": {
             "fill": {
              "color": "#C8D4E3"
             },
             "line": {
              "color": "white"
             }
            },
            "type": "table"
           }
          ]
         },
         "layout": {
          "annotationdefaults": {
           "arrowcolor": "#2a3f5f",
           "arrowhead": 0,
           "arrowwidth": 1
          },
          "autotypenumbers": "strict",
          "coloraxis": {
           "colorbar": {
            "outlinewidth": 0,
            "ticks": ""
           }
          },
          "colorscale": {
           "diverging": [
            [
             0,
             "#8e0152"
            ],
            [
             0.1,
             "#c51b7d"
            ],
            [
             0.2,
             "#de77ae"
            ],
            [
             0.3,
             "#f1b6da"
            ],
            [
             0.4,
             "#fde0ef"
            ],
            [
             0.5,
             "#f7f7f7"
            ],
            [
             0.6,
             "#e6f5d0"
            ],
            [
             0.7,
             "#b8e186"
            ],
            [
             0.8,
             "#7fbc41"
            ],
            [
             0.9,
             "#4d9221"
            ],
            [
             1,
             "#276419"
            ]
           ],
           "sequential": [
            [
             0,
             "#0d0887"
            ],
            [
             0.1111111111111111,
             "#46039f"
            ],
            [
             0.2222222222222222,
             "#7201a8"
            ],
            [
             0.3333333333333333,
             "#9c179e"
            ],
            [
             0.4444444444444444,
             "#bd3786"
            ],
            [
             0.5555555555555556,
             "#d8576b"
            ],
            [
             0.6666666666666666,
             "#ed7953"
            ],
            [
             0.7777777777777778,
             "#fb9f3a"
            ],
            [
             0.8888888888888888,
             "#fdca26"
            ],
            [
             1,
             "#f0f921"
            ]
           ],
           "sequentialminus": [
            [
             0,
             "#0d0887"
            ],
            [
             0.1111111111111111,
             "#46039f"
            ],
            [
             0.2222222222222222,
             "#7201a8"
            ],
            [
             0.3333333333333333,
             "#9c179e"
            ],
            [
             0.4444444444444444,
             "#bd3786"
            ],
            [
             0.5555555555555556,
             "#d8576b"
            ],
            [
             0.6666666666666666,
             "#ed7953"
            ],
            [
             0.7777777777777778,
             "#fb9f3a"
            ],
            [
             0.8888888888888888,
             "#fdca26"
            ],
            [
             1,
             "#f0f921"
            ]
           ]
          },
          "colorway": [
           "#636efa",
           "#EF553B",
           "#00cc96",
           "#ab63fa",
           "#FFA15A",
           "#19d3f3",
           "#FF6692",
           "#B6E880",
           "#FF97FF",
           "#FECB52"
          ],
          "font": {
           "color": "#2a3f5f"
          },
          "geo": {
           "bgcolor": "white",
           "lakecolor": "white",
           "landcolor": "#E5ECF6",
           "showlakes": true,
           "showland": true,
           "subunitcolor": "white"
          },
          "hoverlabel": {
           "align": "left"
          },
          "hovermode": "closest",
          "mapbox": {
           "style": "light"
          },
          "paper_bgcolor": "white",
          "plot_bgcolor": "#E5ECF6",
          "polar": {
           "angularaxis": {
            "gridcolor": "white",
            "linecolor": "white",
            "ticks": ""
           },
           "bgcolor": "#E5ECF6",
           "radialaxis": {
            "gridcolor": "white",
            "linecolor": "white",
            "ticks": ""
           }
          },
          "scene": {
           "xaxis": {
            "backgroundcolor": "#E5ECF6",
            "gridcolor": "white",
            "gridwidth": 2,
            "linecolor": "white",
            "showbackground": true,
            "ticks": "",
            "zerolinecolor": "white"
           },
           "yaxis": {
            "backgroundcolor": "#E5ECF6",
            "gridcolor": "white",
            "gridwidth": 2,
            "linecolor": "white",
            "showbackground": true,
            "ticks": "",
            "zerolinecolor": "white"
           },
           "zaxis": {
            "backgroundcolor": "#E5ECF6",
            "gridcolor": "white",
            "gridwidth": 2,
            "linecolor": "white",
            "showbackground": true,
            "ticks": "",
            "zerolinecolor": "white"
           }
          },
          "shapedefaults": {
           "line": {
            "color": "#2a3f5f"
           }
          },
          "ternary": {
           "aaxis": {
            "gridcolor": "white",
            "linecolor": "white",
            "ticks": ""
           },
           "baxis": {
            "gridcolor": "white",
            "linecolor": "white",
            "ticks": ""
           },
           "bgcolor": "#E5ECF6",
           "caxis": {
            "gridcolor": "white",
            "linecolor": "white",
            "ticks": ""
           }
          },
          "title": {
           "x": 0.05
          },
          "xaxis": {
           "automargin": true,
           "gridcolor": "white",
           "linecolor": "white",
           "ticks": "",
           "title": {
            "standoff": 15
           },
           "zerolinecolor": "white",
           "zerolinewidth": 2
          },
          "yaxis": {
           "automargin": true,
           "gridcolor": "white",
           "linecolor": "white",
           "ticks": "",
           "title": {
            "standoff": 15
           },
           "zerolinecolor": "white",
           "zerolinewidth": 2
          }
         }
        },
        "title": {
         "text": "Hubungan Overall, Total Cup Points berdasarkan Processing Method"
        },
        "xaxis": {
         "anchor": "y",
         "domain": [
          0,
          1
         ],
         "title": {
          "text": "Overall"
         }
        },
        "yaxis": {
         "anchor": "x",
         "domain": [
          0,
          1
         ],
         "title": {
          "text": "Total Cup Points"
         }
        }
       }
      }
     },
     "metadata": {},
     "output_type": "display_data"
    }
   ],
   "source": [
    "fig = px.scatter(df, x='Overall', y='Total Cup Points', color='Processing Method',\n",
    "                 labels={'Overall': 'Overall', 'Totals Cup Points': 'Totals Cup Points', 'Processing Method': 'Processing Method'},\n",
    "                 title='Hubungan Overall, Total Cup Points berdasarkan Processing Method')\n",
    "\n",
    "fig.update_traces(\n",
    "    marker=dict(size=10),\n",
    "    selector=dict(mode='markers')\n",
    ")\n",
    "\n",
    "fig.show()"
   ]
  },
  {
   "cell_type": "code",
   "execution_count": 484,
   "metadata": {},
   "outputs": [
    {
     "data": {
      "application/vnd.plotly.v1+json": {
       "config": {
        "plotlyServerURL": "https://plot.ly"
       },
       "data": [
        {
         "hovertemplate": "Diference_day=%{x}<br>Processing Method=%{y}<extra></extra>",
         "legendgroup": "",
         "marker": {
          "color": "#636efa",
          "size": 10,
          "symbol": "circle"
         },
         "mode": "markers",
         "name": "",
         "orientation": "h",
         "showlegend": false,
         "type": "scatter",
         "x": [
          1048,
          628,
          683,
          1048,
          1048,
          1048,
          761,
          880,
          1048,
          1048,
          967,
          1048,
          1048,
          826,
          661,
          1026,
          761,
          1048,
          710,
          957,
          826,
          1048,
          735,
          1048,
          1048,
          1048,
          1048,
          710,
          710,
          523,
          886,
          1002,
          1075,
          1048,
          523,
          788,
          2487,
          710,
          1093,
          1100,
          909,
          1075,
          1048,
          836,
          783,
          902,
          1100,
          1100,
          630,
          683,
          677,
          1048,
          1048,
          845,
          1093,
          847,
          868,
          838,
          1100,
          523,
          889,
          1048,
          1048,
          1048,
          641,
          1100,
          844,
          964,
          1075,
          1048,
          845,
          677,
          991,
          1048,
          860,
          836,
          710,
          844,
          868,
          1100,
          1048,
          810,
          810,
          1048,
          732,
          1051,
          689,
          572,
          838,
          1048,
          836,
          628,
          836,
          862,
          868,
          981,
          782,
          683,
          683,
          824,
          633,
          661,
          683,
          1100,
          1048,
          1100,
          1100,
          868,
          958,
          747,
          559,
          1063,
          531,
          917,
          1048,
          973,
          1100,
          1093,
          1100,
          1002,
          838,
          1048,
          559,
          732,
          773,
          1100,
          1048,
          958,
          1100,
          1100,
          728,
          872,
          844,
          742,
          1100,
          952,
          896,
          661,
          843,
          559,
          883,
          759,
          1048,
          556,
          559,
          894,
          844,
          1100,
          1100,
          900,
          791,
          874,
          671,
          683,
          1048,
          872,
          1100,
          1093,
          881,
          781,
          917,
          1100,
          556,
          677,
          826,
          872,
          1100,
          1100,
          1100,
          559,
          2278,
          1061,
          598,
          556,
          671,
          1100,
          829,
          826,
          1093,
          1093,
          952,
          817,
          1100,
          1100,
          559,
          1048,
          559,
          1085,
          836,
          431,
          921,
          839,
          794,
          525,
          431,
          930,
          762,
          791,
          1044,
          431
         ],
         "xaxis": "x",
         "y": [
          "Washed / Wet",
          "Washed / Wet",
          "Washed / Wet",
          "Washed / Wet",
          "Natural / Dry",
          "Washed / Wet",
          "Washed / Wet",
          "Natural / Dry",
          "Natural / Dry",
          "Washed / Wet",
          "Natural / Dry",
          "Washed / Wet",
          "Pulped natural / honey",
          "Washed / Wet",
          "Natural / Dry",
          "Natural / Dry",
          "Washed / Wet",
          "Natural / Dry",
          "Natural / Dry",
          "Pulped natural / honey",
          "Washed / Wet",
          "Washed / Wet",
          "Pulped natural / honey",
          "Natural / Dry",
          "Natural / Dry",
          "Natural / Dry",
          "Washed / Wet",
          "Washed / Wet",
          "Washed / Wet",
          "Washed / Wet",
          "Washed / Wet",
          "Natural / Dry",
          "Washed / Wet",
          "Washed / Wet",
          "Pulped natural / honey",
          "Washed / Wet",
          "Washed / Wet",
          "Natural / Dry",
          "Washed / Wet",
          "Washed / Wet",
          "Washed / Wet",
          "Washed / Wet",
          "Natural / Dry",
          "Washed / Wet",
          "Washed / Wet",
          "Washed / Wet",
          "Washed / Wet",
          "Natural / Dry",
          "Washed / Wet",
          "Washed / Wet",
          "Washed / Wet",
          "Natural / Dry",
          "Washed / Wet",
          "Washed / Wet",
          "Pulped natural / honey",
          "Washed / Wet",
          "Natural / Dry",
          "Washed / Wet",
          "Pulped natural / honey",
          "Pulped natural / honey",
          "Natural / Dry",
          "Washed / Wet",
          "Natural / Dry",
          "Natural / Dry",
          "Washed / Wet",
          "Pulped natural / honey",
          "Washed / Wet",
          "Washed / Wet",
          "Natural / Dry",
          "Washed / Wet",
          "Washed / Wet",
          "Washed / Wet",
          "Natural / Dry",
          "Pulped natural / honey",
          "Washed / Wet",
          "Washed / Wet",
          "Washed / Wet",
          "Washed / Wet",
          "Washed / Wet",
          "Pulped natural / honey",
          "Natural / Dry",
          "Washed / Wet",
          "Washed / Wet",
          "Pulped natural / honey",
          "Washed / Wet",
          "Washed / Wet",
          "Washed / Wet",
          "Washed / Wet",
          "Washed / Wet",
          "Natural / Dry",
          "Washed / Wet",
          "Natural / Dry",
          "Washed / Wet",
          "Natural / Dry",
          "Washed / Wet",
          "Washed / Wet",
          "Washed / Wet",
          "Washed / Wet",
          "Pulped natural / honey",
          "Washed / Wet",
          "Washed / Wet",
          "Washed / Wet",
          "Natural / Dry",
          "Pulped natural / honey",
          "Natural / Dry",
          "Natural / Dry",
          "Pulped natural / honey",
          "Washed / Wet",
          "Washed / Wet",
          "Washed / Wet",
          "Washed / Wet",
          "Washed / Wet",
          "Washed / Wet",
          "Washed / Wet",
          "Washed / Wet",
          "Washed / Wet",
          "Pulped natural / honey",
          "Washed / Wet",
          "Washed / Wet",
          "Washed / Wet",
          "Washed / Wet",
          "Washed / Wet",
          "Washed / Wet",
          "Washed / Wet",
          "Natural / Dry",
          "Washed / Wet",
          "Washed / Wet",
          "Washed / Wet",
          "Natural / Dry",
          "Washed / Wet",
          "Natural / Dry",
          "Washed / Wet",
          "Washed / Wet",
          "Washed / Wet",
          "Pulped natural / honey",
          "Washed / Wet",
          "Washed / Wet",
          "Washed / Wet",
          "Washed / Wet",
          "Washed / Wet",
          "Pulped natural / honey",
          "Natural / Dry",
          "Pulped natural / honey",
          "Washed / Wet",
          "Washed / Wet",
          "Natural / Dry",
          "Washed / Wet",
          "Natural / Dry",
          "Washed / Wet",
          "Washed / Wet",
          "Washed / Wet",
          "Washed / Wet",
          "Natural / Dry",
          "Washed / Wet",
          "Washed / Wet",
          "Washed / Wet",
          "Washed / Wet",
          "Washed / Wet",
          "Washed / Wet",
          "Washed / Wet",
          "Washed / Wet",
          "Natural / Dry",
          "Washed / Wet",
          "Washed / Wet",
          "Washed / Wet",
          "Washed / Wet",
          "Washed / Wet",
          "Pulped natural / honey",
          "Washed / Wet",
          "Washed / Wet",
          "Washed / Wet",
          "Washed / Wet",
          "Pulped natural / honey",
          "Washed / Wet",
          "Washed / Wet",
          "Pulped natural / honey",
          "Pulped natural / honey",
          "Pulped natural / honey",
          "Natural / Dry",
          "Washed / Wet",
          "Washed / Wet",
          "Washed / Wet",
          "Pulped natural / honey",
          "Pulped natural / honey",
          "Washed / Wet",
          "Natural / Dry",
          "Washed / Wet",
          "Washed / Wet",
          "Natural / Dry",
          "Natural / Dry",
          "Washed / Wet",
          "Washed / Wet",
          "Washed / Wet",
          "Washed / Wet",
          "Natural / Dry",
          "Natural / Dry",
          "Natural / Dry",
          "Natural / Dry",
          "Washed / Wet",
          "Natural / Dry"
         ],
         "yaxis": "y"
        }
       ],
       "layout": {
        "legend": {
         "tracegroupgap": 0
        },
        "template": {
         "data": {
          "bar": [
           {
            "error_x": {
             "color": "#2a3f5f"
            },
            "error_y": {
             "color": "#2a3f5f"
            },
            "marker": {
             "line": {
              "color": "#E5ECF6",
              "width": 0.5
             },
             "pattern": {
              "fillmode": "overlay",
              "size": 10,
              "solidity": 0.2
             }
            },
            "type": "bar"
           }
          ],
          "barpolar": [
           {
            "marker": {
             "line": {
              "color": "#E5ECF6",
              "width": 0.5
             },
             "pattern": {
              "fillmode": "overlay",
              "size": 10,
              "solidity": 0.2
             }
            },
            "type": "barpolar"
           }
          ],
          "carpet": [
           {
            "aaxis": {
             "endlinecolor": "#2a3f5f",
             "gridcolor": "white",
             "linecolor": "white",
             "minorgridcolor": "white",
             "startlinecolor": "#2a3f5f"
            },
            "baxis": {
             "endlinecolor": "#2a3f5f",
             "gridcolor": "white",
             "linecolor": "white",
             "minorgridcolor": "white",
             "startlinecolor": "#2a3f5f"
            },
            "type": "carpet"
           }
          ],
          "choropleth": [
           {
            "colorbar": {
             "outlinewidth": 0,
             "ticks": ""
            },
            "type": "choropleth"
           }
          ],
          "contour": [
           {
            "colorbar": {
             "outlinewidth": 0,
             "ticks": ""
            },
            "colorscale": [
             [
              0,
              "#0d0887"
             ],
             [
              0.1111111111111111,
              "#46039f"
             ],
             [
              0.2222222222222222,
              "#7201a8"
             ],
             [
              0.3333333333333333,
              "#9c179e"
             ],
             [
              0.4444444444444444,
              "#bd3786"
             ],
             [
              0.5555555555555556,
              "#d8576b"
             ],
             [
              0.6666666666666666,
              "#ed7953"
             ],
             [
              0.7777777777777778,
              "#fb9f3a"
             ],
             [
              0.8888888888888888,
              "#fdca26"
             ],
             [
              1,
              "#f0f921"
             ]
            ],
            "type": "contour"
           }
          ],
          "contourcarpet": [
           {
            "colorbar": {
             "outlinewidth": 0,
             "ticks": ""
            },
            "type": "contourcarpet"
           }
          ],
          "heatmap": [
           {
            "colorbar": {
             "outlinewidth": 0,
             "ticks": ""
            },
            "colorscale": [
             [
              0,
              "#0d0887"
             ],
             [
              0.1111111111111111,
              "#46039f"
             ],
             [
              0.2222222222222222,
              "#7201a8"
             ],
             [
              0.3333333333333333,
              "#9c179e"
             ],
             [
              0.4444444444444444,
              "#bd3786"
             ],
             [
              0.5555555555555556,
              "#d8576b"
             ],
             [
              0.6666666666666666,
              "#ed7953"
             ],
             [
              0.7777777777777778,
              "#fb9f3a"
             ],
             [
              0.8888888888888888,
              "#fdca26"
             ],
             [
              1,
              "#f0f921"
             ]
            ],
            "type": "heatmap"
           }
          ],
          "heatmapgl": [
           {
            "colorbar": {
             "outlinewidth": 0,
             "ticks": ""
            },
            "colorscale": [
             [
              0,
              "#0d0887"
             ],
             [
              0.1111111111111111,
              "#46039f"
             ],
             [
              0.2222222222222222,
              "#7201a8"
             ],
             [
              0.3333333333333333,
              "#9c179e"
             ],
             [
              0.4444444444444444,
              "#bd3786"
             ],
             [
              0.5555555555555556,
              "#d8576b"
             ],
             [
              0.6666666666666666,
              "#ed7953"
             ],
             [
              0.7777777777777778,
              "#fb9f3a"
             ],
             [
              0.8888888888888888,
              "#fdca26"
             ],
             [
              1,
              "#f0f921"
             ]
            ],
            "type": "heatmapgl"
           }
          ],
          "histogram": [
           {
            "marker": {
             "pattern": {
              "fillmode": "overlay",
              "size": 10,
              "solidity": 0.2
             }
            },
            "type": "histogram"
           }
          ],
          "histogram2d": [
           {
            "colorbar": {
             "outlinewidth": 0,
             "ticks": ""
            },
            "colorscale": [
             [
              0,
              "#0d0887"
             ],
             [
              0.1111111111111111,
              "#46039f"
             ],
             [
              0.2222222222222222,
              "#7201a8"
             ],
             [
              0.3333333333333333,
              "#9c179e"
             ],
             [
              0.4444444444444444,
              "#bd3786"
             ],
             [
              0.5555555555555556,
              "#d8576b"
             ],
             [
              0.6666666666666666,
              "#ed7953"
             ],
             [
              0.7777777777777778,
              "#fb9f3a"
             ],
             [
              0.8888888888888888,
              "#fdca26"
             ],
             [
              1,
              "#f0f921"
             ]
            ],
            "type": "histogram2d"
           }
          ],
          "histogram2dcontour": [
           {
            "colorbar": {
             "outlinewidth": 0,
             "ticks": ""
            },
            "colorscale": [
             [
              0,
              "#0d0887"
             ],
             [
              0.1111111111111111,
              "#46039f"
             ],
             [
              0.2222222222222222,
              "#7201a8"
             ],
             [
              0.3333333333333333,
              "#9c179e"
             ],
             [
              0.4444444444444444,
              "#bd3786"
             ],
             [
              0.5555555555555556,
              "#d8576b"
             ],
             [
              0.6666666666666666,
              "#ed7953"
             ],
             [
              0.7777777777777778,
              "#fb9f3a"
             ],
             [
              0.8888888888888888,
              "#fdca26"
             ],
             [
              1,
              "#f0f921"
             ]
            ],
            "type": "histogram2dcontour"
           }
          ],
          "mesh3d": [
           {
            "colorbar": {
             "outlinewidth": 0,
             "ticks": ""
            },
            "type": "mesh3d"
           }
          ],
          "parcoords": [
           {
            "line": {
             "colorbar": {
              "outlinewidth": 0,
              "ticks": ""
             }
            },
            "type": "parcoords"
           }
          ],
          "pie": [
           {
            "automargin": true,
            "type": "pie"
           }
          ],
          "scatter": [
           {
            "fillpattern": {
             "fillmode": "overlay",
             "size": 10,
             "solidity": 0.2
            },
            "type": "scatter"
           }
          ],
          "scatter3d": [
           {
            "line": {
             "colorbar": {
              "outlinewidth": 0,
              "ticks": ""
             }
            },
            "marker": {
             "colorbar": {
              "outlinewidth": 0,
              "ticks": ""
             }
            },
            "type": "scatter3d"
           }
          ],
          "scattercarpet": [
           {
            "marker": {
             "colorbar": {
              "outlinewidth": 0,
              "ticks": ""
             }
            },
            "type": "scattercarpet"
           }
          ],
          "scattergeo": [
           {
            "marker": {
             "colorbar": {
              "outlinewidth": 0,
              "ticks": ""
             }
            },
            "type": "scattergeo"
           }
          ],
          "scattergl": [
           {
            "marker": {
             "colorbar": {
              "outlinewidth": 0,
              "ticks": ""
             }
            },
            "type": "scattergl"
           }
          ],
          "scattermapbox": [
           {
            "marker": {
             "colorbar": {
              "outlinewidth": 0,
              "ticks": ""
             }
            },
            "type": "scattermapbox"
           }
          ],
          "scatterpolar": [
           {
            "marker": {
             "colorbar": {
              "outlinewidth": 0,
              "ticks": ""
             }
            },
            "type": "scatterpolar"
           }
          ],
          "scatterpolargl": [
           {
            "marker": {
             "colorbar": {
              "outlinewidth": 0,
              "ticks": ""
             }
            },
            "type": "scatterpolargl"
           }
          ],
          "scatterternary": [
           {
            "marker": {
             "colorbar": {
              "outlinewidth": 0,
              "ticks": ""
             }
            },
            "type": "scatterternary"
           }
          ],
          "surface": [
           {
            "colorbar": {
             "outlinewidth": 0,
             "ticks": ""
            },
            "colorscale": [
             [
              0,
              "#0d0887"
             ],
             [
              0.1111111111111111,
              "#46039f"
             ],
             [
              0.2222222222222222,
              "#7201a8"
             ],
             [
              0.3333333333333333,
              "#9c179e"
             ],
             [
              0.4444444444444444,
              "#bd3786"
             ],
             [
              0.5555555555555556,
              "#d8576b"
             ],
             [
              0.6666666666666666,
              "#ed7953"
             ],
             [
              0.7777777777777778,
              "#fb9f3a"
             ],
             [
              0.8888888888888888,
              "#fdca26"
             ],
             [
              1,
              "#f0f921"
             ]
            ],
            "type": "surface"
           }
          ],
          "table": [
           {
            "cells": {
             "fill": {
              "color": "#EBF0F8"
             },
             "line": {
              "color": "white"
             }
            },
            "header": {
             "fill": {
              "color": "#C8D4E3"
             },
             "line": {
              "color": "white"
             }
            },
            "type": "table"
           }
          ]
         },
         "layout": {
          "annotationdefaults": {
           "arrowcolor": "#2a3f5f",
           "arrowhead": 0,
           "arrowwidth": 1
          },
          "autotypenumbers": "strict",
          "coloraxis": {
           "colorbar": {
            "outlinewidth": 0,
            "ticks": ""
           }
          },
          "colorscale": {
           "diverging": [
            [
             0,
             "#8e0152"
            ],
            [
             0.1,
             "#c51b7d"
            ],
            [
             0.2,
             "#de77ae"
            ],
            [
             0.3,
             "#f1b6da"
            ],
            [
             0.4,
             "#fde0ef"
            ],
            [
             0.5,
             "#f7f7f7"
            ],
            [
             0.6,
             "#e6f5d0"
            ],
            [
             0.7,
             "#b8e186"
            ],
            [
             0.8,
             "#7fbc41"
            ],
            [
             0.9,
             "#4d9221"
            ],
            [
             1,
             "#276419"
            ]
           ],
           "sequential": [
            [
             0,
             "#0d0887"
            ],
            [
             0.1111111111111111,
             "#46039f"
            ],
            [
             0.2222222222222222,
             "#7201a8"
            ],
            [
             0.3333333333333333,
             "#9c179e"
            ],
            [
             0.4444444444444444,
             "#bd3786"
            ],
            [
             0.5555555555555556,
             "#d8576b"
            ],
            [
             0.6666666666666666,
             "#ed7953"
            ],
            [
             0.7777777777777778,
             "#fb9f3a"
            ],
            [
             0.8888888888888888,
             "#fdca26"
            ],
            [
             1,
             "#f0f921"
            ]
           ],
           "sequentialminus": [
            [
             0,
             "#0d0887"
            ],
            [
             0.1111111111111111,
             "#46039f"
            ],
            [
             0.2222222222222222,
             "#7201a8"
            ],
            [
             0.3333333333333333,
             "#9c179e"
            ],
            [
             0.4444444444444444,
             "#bd3786"
            ],
            [
             0.5555555555555556,
             "#d8576b"
            ],
            [
             0.6666666666666666,
             "#ed7953"
            ],
            [
             0.7777777777777778,
             "#fb9f3a"
            ],
            [
             0.8888888888888888,
             "#fdca26"
            ],
            [
             1,
             "#f0f921"
            ]
           ]
          },
          "colorway": [
           "#636efa",
           "#EF553B",
           "#00cc96",
           "#ab63fa",
           "#FFA15A",
           "#19d3f3",
           "#FF6692",
           "#B6E880",
           "#FF97FF",
           "#FECB52"
          ],
          "font": {
           "color": "#2a3f5f"
          },
          "geo": {
           "bgcolor": "white",
           "lakecolor": "white",
           "landcolor": "#E5ECF6",
           "showlakes": true,
           "showland": true,
           "subunitcolor": "white"
          },
          "hoverlabel": {
           "align": "left"
          },
          "hovermode": "closest",
          "mapbox": {
           "style": "light"
          },
          "paper_bgcolor": "white",
          "plot_bgcolor": "#E5ECF6",
          "polar": {
           "angularaxis": {
            "gridcolor": "white",
            "linecolor": "white",
            "ticks": ""
           },
           "bgcolor": "#E5ECF6",
           "radialaxis": {
            "gridcolor": "white",
            "linecolor": "white",
            "ticks": ""
           }
          },
          "scene": {
           "xaxis": {
            "backgroundcolor": "#E5ECF6",
            "gridcolor": "white",
            "gridwidth": 2,
            "linecolor": "white",
            "showbackground": true,
            "ticks": "",
            "zerolinecolor": "white"
           },
           "yaxis": {
            "backgroundcolor": "#E5ECF6",
            "gridcolor": "white",
            "gridwidth": 2,
            "linecolor": "white",
            "showbackground": true,
            "ticks": "",
            "zerolinecolor": "white"
           },
           "zaxis": {
            "backgroundcolor": "#E5ECF6",
            "gridcolor": "white",
            "gridwidth": 2,
            "linecolor": "white",
            "showbackground": true,
            "ticks": "",
            "zerolinecolor": "white"
           }
          },
          "shapedefaults": {
           "line": {
            "color": "#2a3f5f"
           }
          },
          "ternary": {
           "aaxis": {
            "gridcolor": "white",
            "linecolor": "white",
            "ticks": ""
           },
           "baxis": {
            "gridcolor": "white",
            "linecolor": "white",
            "ticks": ""
           },
           "bgcolor": "#E5ECF6",
           "caxis": {
            "gridcolor": "white",
            "linecolor": "white",
            "ticks": ""
           }
          },
          "title": {
           "x": 0.05
          },
          "xaxis": {
           "automargin": true,
           "gridcolor": "white",
           "linecolor": "white",
           "ticks": "",
           "title": {
            "standoff": 15
           },
           "zerolinecolor": "white",
           "zerolinewidth": 2
          },
          "yaxis": {
           "automargin": true,
           "gridcolor": "white",
           "linecolor": "white",
           "ticks": "",
           "title": {
            "standoff": 15
           },
           "zerolinecolor": "white",
           "zerolinewidth": 2
          }
         }
        },
        "title": {
         "text": "hari kadaluarsa dan  Processing Method"
        },
        "xaxis": {
         "anchor": "y",
         "domain": [
          0,
          1
         ],
         "title": {
          "text": "Diference_day"
         }
        },
        "yaxis": {
         "anchor": "x",
         "domain": [
          0,
          1
         ],
         "title": {
          "text": "Processing Method"
         }
        }
       }
      }
     },
     "metadata": {},
     "output_type": "display_data"
    }
   ],
   "source": [
    "fig = px.scatter(df, x='Diference_day', y='Processing Method',\n",
    "                 labels={'Diference_day': 'Diference_day','Processing Method': 'Processing Method'},\n",
    "                 title='hari kadaluarsa dan  Processing Method')\n",
    "\n",
    "fig.update_traces(\n",
    "    marker=dict(size=10),\n",
    "    selector=dict(mode='markers')\n",
    ")\n",
    "\n",
    "fig.show()"
   ]
  }
 ],
 "metadata": {
  "kernelspec": {
   "display_name": "Python 3",
   "language": "python",
   "name": "python3"
  },
  "language_info": {
   "codemirror_mode": {
    "name": "ipython",
    "version": 3
   },
   "file_extension": ".py",
   "mimetype": "text/x-python",
   "name": "python",
   "nbconvert_exporter": "python",
   "pygments_lexer": "ipython3",
   "version": "3.11.1"
  },
  "orig_nbformat": 4
 },
 "nbformat": 4,
 "nbformat_minor": 2
}
